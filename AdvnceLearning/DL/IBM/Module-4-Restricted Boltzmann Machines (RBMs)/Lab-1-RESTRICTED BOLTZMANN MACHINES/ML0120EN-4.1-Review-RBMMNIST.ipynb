{
 "cells": [
  {
   "cell_type": "markdown",
   "metadata": {},
   "source": [
    "<img src=\"https://cf-courses-data.s3.us.cloud-object-storage.appdomain.cloud/IBMDeveloperSkillsNetwork-DL0120EN-SkillsNetwork/images/IDSN-logo.png\" width=\"300\" alt=\"cognitiveclass.ai logo\">\n",
    "\n",
    "<h1 align=\"center\"><font size=\"5\">RESTRICTED BOLTZMANN MACHINES</font></h1>\n"
   ]
  },
  {
   "cell_type": "markdown",
   "metadata": {},
   "source": [
    "Estimated time needed: **25** minutes\n"
   ]
  },
  {
   "cell_type": "markdown",
   "metadata": {},
   "source": [
    "<h3>Introduction</h3>\n",
    "<b>Restricted Boltzmann Machine (RBM):</b>  RBMs are shallow neural nets that learn to reconstruct data by themselves in an unsupervised fashion.  \n",
    "\n",
    "\n",
    "<h4>Why are RBMs important?</h4>\n",
    "An RBM are a basic form of autoencoder.  It can automatically extract <b>meaningful</b> features from a given input.\n",
    "\n",
    "\n",
    "<h4>How does it work?</h4>\n",
    "RBM is a 2 layer neural network. Simply, RBM takes the inputs and translates those into a set of binary values that represents them in the hidden layer. Then, these numbers can be translated back to reconstruct the inputs. Through several forward and backward passes, the RBM will be trained, and a trained RBM can reveal which features are the most important ones when detecting patterns.   \n",
    "\n",
    "\n",
    "<h4>What are the applications of an RBM?</h4>\n",
    "RBM is useful for <a href='http://www.cs.utoronto.ca/~hinton/absps/netflixICML.pdf'>  Collaborative Filtering</a>, dimensionality reduction, classification, regression, feature learning, topic modeling and even <b>Deep Belief Networks</b>.\n",
    "\n",
    "<h4>Is RBM a generative or Discriminative model?</h4>\n",
    "RBM is a generative model. Let me explain it by first, see what is different between discriminative and generative models: \n",
    "\n",
    "<b>Discriminative:</b> Consider a classification problem where we want to learn to distinguish between Sedan cars (y = 1) and SUV cars (y = 0), based on some features of cars. Given a training set, an algorithm like logistic regression tries to find a straight line, or <i>decision boundary</i>, that separates the suv and sedan.  \n",
    "\n",
    "<b>Generative:</b> looking at cars, we can build a model of what Sedan cars look like. Then, looking at SUVs, we can build a separate model of what SUV cars look like. Finally, to classify a new car, we can match the new car against the Sedan model, and match it against the SUV model, to see whether the new car looks more like the SUV or Sedan. \n",
    "\n",
    "Generative Models specify a probability distribution over a dataset of input vectors. We can carry out both supervised and unsupervised tasks with generative models:\n",
    "<ul>\n",
    "    <li>In an unsupervised task, we try to form a model for $P(x)$, where $P$ is the probability given $x$ as an input vector.</li>\n",
    "    <li>In the supervised task, we first form a model for $P(x|y)$, where $P$ is the probability of $x$ given $y$(the label for $x$). For example, if $y = 0$ indicates that a car is an SUV, and $y = 1$ indicates that a car is a sedan, then $p(x|y = 0)$ models the distribution of SUV features, and $p(x|y = 1)$ models the distribution of sedan features. If we manage to find $P(x|y)$ and $P(y)$, then we can use <b>Bayes rule</b> to estimate $P(y|x)$, because:   \n",
    "        $$p(y|x) = \\frac{p(x|y)p(y)}{p(x)}$$</li>\n",
    "</ul>\n",
    "Now the question is, can we build a generative model, and then use it to create synthetic data by directly sampling from the modeled probability distributions? Lets see. \n"
   ]
  },
  {
   "cell_type": "markdown",
   "metadata": {},
   "source": [
    "<h2>Table of Contents</h2>\n",
    "<ol>\n",
    "    <li><a href=\"#ref1\">Initialization</a></li>\n",
    "    <li><a href=\"#ref2\">RBM layers</a></li>\n",
    "    <li><a href=\"#ref3\">What RBM can do after training?</a></li>\n",
    "    <li><a href=\"#ref4\">How to train the model?</a></li>\n",
    "    <li><a href=\"#ref5\">Learned features</a></li>\n",
    "</ol>\n",
    "<p></p>\n",
    "</div>\n",
    "<br>\n",
    "\n",
    "<hr>\n"
   ]
  },
  {
   "cell_type": "markdown",
   "metadata": {},
   "source": [
    "<a id=\"ref1\"></a>\n",
    "<h3>Initialization</h3>\n",
    "\n",
    "First, we have to load the utility file which contains different utility functions that are not connected\n",
    "in any way to the networks presented in the tutorials, but rather help in\n",
    "processing the outputs into a more understandable way.\n"
   ]
  },
  {
   "cell_type": "code",
   "execution_count": 1,
   "metadata": {},
   "outputs": [],
   "source": [
    "import urllib.request\n",
    "with urllib.request.urlopen(\"https://cf-courses-data.s3.us.cloud-object-storage.appdomain.cloud/IBMDeveloperSkillsNetwork-DL0120EN-SkillsNetwork/labs/Week4/data/utils.py\") as url:\n",
    "    response = url.read()\n",
    "target = open('utils.py', 'w')\n",
    "target.write(response.decode('utf-8'))\n",
    "target.close()"
   ]
  },
  {
   "cell_type": "markdown",
   "metadata": {},
   "source": [
    "<h2>Installing TensorFlow </h2>\n",
    "\n",
    "We will installing TensorFlow version 2.9.0 and its required prerequistes.  Also installing pillow...\n"
   ]
  },
  {
   "cell_type": "code",
   "execution_count": 2,
   "metadata": {},
   "outputs": [
    {
     "name": "stdout",
     "output_type": "stream",
     "text": [
      "Requirement already satisfied: grpcio==1.24.3 in /home/jupyterlab/conda/envs/python/lib/python3.7/site-packages (1.24.3)\n",
      "Requirement already satisfied: six>=1.5.2 in /home/jupyterlab/conda/envs/python/lib/python3.7/site-packages (from grpcio==1.24.3) (1.16.0)\n",
      "Requirement already satisfied: tensorflow==2.9.0 in /home/jupyterlab/conda/envs/python/lib/python3.7/site-packages (2.9.0)\n",
      "Requirement already satisfied: absl-py>=1.0.0 in /home/jupyterlab/conda/envs/python/lib/python3.7/site-packages (from tensorflow==2.9.0) (1.4.0)\n",
      "Requirement already satisfied: astunparse>=1.6.0 in /home/jupyterlab/conda/envs/python/lib/python3.7/site-packages (from tensorflow==2.9.0) (1.6.3)\n",
      "Requirement already satisfied: flatbuffers<2,>=1.12 in /home/jupyterlab/conda/envs/python/lib/python3.7/site-packages (from tensorflow==2.9.0) (1.12)\n",
      "Requirement already satisfied: gast<=0.4.0,>=0.2.1 in /home/jupyterlab/conda/envs/python/lib/python3.7/site-packages (from tensorflow==2.9.0) (0.4.0)\n",
      "Requirement already satisfied: google-pasta>=0.1.1 in /home/jupyterlab/conda/envs/python/lib/python3.7/site-packages (from tensorflow==2.9.0) (0.2.0)\n",
      "Requirement already satisfied: grpcio<2.0,>=1.24.3 in /home/jupyterlab/conda/envs/python/lib/python3.7/site-packages (from tensorflow==2.9.0) (1.24.3)\n",
      "Requirement already satisfied: h5py>=2.9.0 in /home/jupyterlab/conda/envs/python/lib/python3.7/site-packages (from tensorflow==2.9.0) (3.8.0)\n",
      "Requirement already satisfied: keras<2.10.0,>=2.9.0rc0 in /home/jupyterlab/conda/envs/python/lib/python3.7/site-packages (from tensorflow==2.9.0) (2.9.0)\n",
      "Requirement already satisfied: keras-preprocessing>=1.1.1 in /home/jupyterlab/conda/envs/python/lib/python3.7/site-packages (from tensorflow==2.9.0) (1.1.2)\n",
      "Requirement already satisfied: libclang>=13.0.0 in /home/jupyterlab/conda/envs/python/lib/python3.7/site-packages (from tensorflow==2.9.0) (18.1.1)\n",
      "Requirement already satisfied: numpy>=1.20 in /home/jupyterlab/conda/envs/python/lib/python3.7/site-packages (from tensorflow==2.9.0) (1.21.6)\n",
      "Requirement already satisfied: opt-einsum>=2.3.2 in /home/jupyterlab/conda/envs/python/lib/python3.7/site-packages (from tensorflow==2.9.0) (3.3.0)\n",
      "Requirement already satisfied: packaging in /home/jupyterlab/conda/envs/python/lib/python3.7/site-packages (from tensorflow==2.9.0) (23.1)\n",
      "Requirement already satisfied: protobuf>=3.9.2 in /home/jupyterlab/conda/envs/python/lib/python3.7/site-packages (from tensorflow==2.9.0) (3.19.6)\n",
      "Requirement already satisfied: setuptools in /home/jupyterlab/conda/envs/python/lib/python3.7/site-packages (from tensorflow==2.9.0) (67.7.2)\n",
      "Requirement already satisfied: six>=1.12.0 in /home/jupyterlab/conda/envs/python/lib/python3.7/site-packages (from tensorflow==2.9.0) (1.16.0)\n",
      "Requirement already satisfied: tensorboard<2.10,>=2.9 in /home/jupyterlab/conda/envs/python/lib/python3.7/site-packages (from tensorflow==2.9.0) (2.9.1)\n",
      "Requirement already satisfied: tensorflow-io-gcs-filesystem>=0.23.1 in /home/jupyterlab/conda/envs/python/lib/python3.7/site-packages (from tensorflow==2.9.0) (0.34.0)\n",
      "Requirement already satisfied: tensorflow-estimator<2.10.0,>=2.9.0rc0 in /home/jupyterlab/conda/envs/python/lib/python3.7/site-packages (from tensorflow==2.9.0) (2.9.0)\n",
      "Requirement already satisfied: termcolor>=1.1.0 in /home/jupyterlab/conda/envs/python/lib/python3.7/site-packages (from tensorflow==2.9.0) (2.3.0)\n",
      "Requirement already satisfied: typing-extensions>=3.6.6 in /home/jupyterlab/conda/envs/python/lib/python3.7/site-packages (from tensorflow==2.9.0) (4.5.0)\n",
      "Requirement already satisfied: wrapt>=1.11.0 in /home/jupyterlab/conda/envs/python/lib/python3.7/site-packages (from tensorflow==2.9.0) (1.14.1)\n",
      "Requirement already satisfied: wheel<1.0,>=0.23.0 in /home/jupyterlab/conda/envs/python/lib/python3.7/site-packages (from astunparse>=1.6.0->tensorflow==2.9.0) (0.40.0)\n",
      "Requirement already satisfied: google-auth<3,>=1.6.3 in /home/jupyterlab/conda/envs/python/lib/python3.7/site-packages (from tensorboard<2.10,>=2.9->tensorflow==2.9.0) (2.29.0)\n",
      "Requirement already satisfied: google-auth-oauthlib<0.5,>=0.4.1 in /home/jupyterlab/conda/envs/python/lib/python3.7/site-packages (from tensorboard<2.10,>=2.9->tensorflow==2.9.0) (0.4.6)\n",
      "Requirement already satisfied: markdown>=2.6.8 in /home/jupyterlab/conda/envs/python/lib/python3.7/site-packages (from tensorboard<2.10,>=2.9->tensorflow==2.9.0) (3.4.3)\n",
      "Requirement already satisfied: requests<3,>=2.21.0 in /home/jupyterlab/conda/envs/python/lib/python3.7/site-packages (from tensorboard<2.10,>=2.9->tensorflow==2.9.0) (2.29.0)\n",
      "Requirement already satisfied: tensorboard-data-server<0.7.0,>=0.6.0 in /home/jupyterlab/conda/envs/python/lib/python3.7/site-packages (from tensorboard<2.10,>=2.9->tensorflow==2.9.0) (0.6.1)\n",
      "Requirement already satisfied: tensorboard-plugin-wit>=1.6.0 in /home/jupyterlab/conda/envs/python/lib/python3.7/site-packages (from tensorboard<2.10,>=2.9->tensorflow==2.9.0) (1.8.1)\n",
      "Requirement already satisfied: werkzeug>=1.0.1 in /home/jupyterlab/conda/envs/python/lib/python3.7/site-packages (from tensorboard<2.10,>=2.9->tensorflow==2.9.0) (2.2.3)\n",
      "Requirement already satisfied: cachetools<6.0,>=2.0.0 in /home/jupyterlab/conda/envs/python/lib/python3.7/site-packages (from google-auth<3,>=1.6.3->tensorboard<2.10,>=2.9->tensorflow==2.9.0) (5.3.3)\n",
      "Requirement already satisfied: pyasn1-modules>=0.2.1 in /home/jupyterlab/conda/envs/python/lib/python3.7/site-packages (from google-auth<3,>=1.6.3->tensorboard<2.10,>=2.9->tensorflow==2.9.0) (0.3.0)\n",
      "Requirement already satisfied: rsa<5,>=3.1.4 in /home/jupyterlab/conda/envs/python/lib/python3.7/site-packages (from google-auth<3,>=1.6.3->tensorboard<2.10,>=2.9->tensorflow==2.9.0) (4.9)\n",
      "Requirement already satisfied: requests-oauthlib>=0.7.0 in /home/jupyterlab/conda/envs/python/lib/python3.7/site-packages (from google-auth-oauthlib<0.5,>=0.4.1->tensorboard<2.10,>=2.9->tensorflow==2.9.0) (2.0.0)\n",
      "Requirement already satisfied: importlib-metadata>=4.4 in /home/jupyterlab/conda/envs/python/lib/python3.7/site-packages (from markdown>=2.6.8->tensorboard<2.10,>=2.9->tensorflow==2.9.0) (4.11.4)\n",
      "Requirement already satisfied: charset-normalizer<4,>=2 in /home/jupyterlab/conda/envs/python/lib/python3.7/site-packages (from requests<3,>=2.21.0->tensorboard<2.10,>=2.9->tensorflow==2.9.0) (3.1.0)\n",
      "Requirement already satisfied: idna<4,>=2.5 in /home/jupyterlab/conda/envs/python/lib/python3.7/site-packages (from requests<3,>=2.21.0->tensorboard<2.10,>=2.9->tensorflow==2.9.0) (3.4)\n",
      "Requirement already satisfied: urllib3<1.27,>=1.21.1 in /home/jupyterlab/conda/envs/python/lib/python3.7/site-packages (from requests<3,>=2.21.0->tensorboard<2.10,>=2.9->tensorflow==2.9.0) (1.26.15)\n",
      "Requirement already satisfied: certifi>=2017.4.17 in /home/jupyterlab/conda/envs/python/lib/python3.7/site-packages (from requests<3,>=2.21.0->tensorboard<2.10,>=2.9->tensorflow==2.9.0) (2023.5.7)\n",
      "Requirement already satisfied: MarkupSafe>=2.1.1 in /home/jupyterlab/conda/envs/python/lib/python3.7/site-packages (from werkzeug>=1.0.1->tensorboard<2.10,>=2.9->tensorflow==2.9.0) (2.1.1)\n",
      "Requirement already satisfied: zipp>=0.5 in /home/jupyterlab/conda/envs/python/lib/python3.7/site-packages (from importlib-metadata>=4.4->markdown>=2.6.8->tensorboard<2.10,>=2.9->tensorflow==2.9.0) (3.15.0)\n",
      "Requirement already satisfied: pyasn1<0.6.0,>=0.4.6 in /home/jupyterlab/conda/envs/python/lib/python3.7/site-packages (from pyasn1-modules>=0.2.1->google-auth<3,>=1.6.3->tensorboard<2.10,>=2.9->tensorflow==2.9.0) (0.5.0)\n",
      "Requirement already satisfied: oauthlib>=3.0.0 in /home/jupyterlab/conda/envs/python/lib/python3.7/site-packages (from requests-oauthlib>=0.7.0->google-auth-oauthlib<0.5,>=0.4.1->tensorboard<2.10,>=2.9->tensorflow==2.9.0) (3.2.2)\n",
      "Requirement already satisfied: pillow==8.1.0 in /home/jupyterlab/conda/envs/python/lib/python3.7/site-packages (8.1.0)\n"
     ]
    }
   ],
   "source": [
    "!pip install grpcio==1.24.3\n",
    "!pip install tensorflow==2.9.0\n",
    "!pip install pillow==8.1.0"
   ]
  },
  {
   "cell_type": "markdown",
   "metadata": {},
   "source": [
    "**Restart kernel for latest version of TensorFlow to be activated, then continue to the next section.**\n"
   ]
  },
  {
   "cell_type": "markdown",
   "metadata": {},
   "source": [
    "<b>Notice:</b> This notebook has been created with TensorFlow version 2.9.0, and might not work with other versions. Therefore we check:\n"
   ]
  },
  {
   "cell_type": "code",
   "execution_count": 3,
   "metadata": {},
   "outputs": [
    {
     "name": "stderr",
     "output_type": "stream",
     "text": [
      "2024-05-25 02:18:23.501092: I tensorflow/core/util/util.cc:169] oneDNN custom operations are on. You may see slightly different numerical results due to floating-point round-off errors from different computation orders. To turn them off, set the environment variable `TF_ENABLE_ONEDNN_OPTS=0`.\n",
      "2024-05-25 02:18:23.506705: W tensorflow/stream_executor/platform/default/dso_loader.cc:64] Could not load dynamic library 'libcudart.so.11.0'; dlerror: libcudart.so.11.0: cannot open shared object file: No such file or directory\n",
      "2024-05-25 02:18:23.506730: I tensorflow/stream_executor/cuda/cudart_stub.cc:29] Ignore above cudart dlerror if you do not have a GPU set up on your machine.\n"
     ]
    }
   ],
   "source": [
    "import tensorflow as tf\n",
    "from IPython.display import Markdown, display\n",
    "\n",
    "def printmd(string):\n",
    "    display(Markdown('# <span style=\"color:red\">'+string+'</span>'))\n",
    "\n",
    "\n",
    "if not tf.__version__ == '2.9.0':\n",
    "    printmd('<<<<<!!!!! ERROR !!!! please upgrade to TensorFlow 2.9.0, or restart your Kernel (Kernel->Restart & Clear Output)>>>>>')"
   ]
  },
  {
   "cell_type": "markdown",
   "metadata": {},
   "source": [
    "Now, we load in all the packages that we use to create the net including the TensorFlow package:\n"
   ]
  },
  {
   "cell_type": "code",
   "execution_count": 4,
   "metadata": {},
   "outputs": [],
   "source": [
    "import tensorflow as tf\n",
    "import numpy as np\n",
    "\n",
    "from PIL import Image\n",
    "# from utils import tile_raster_images\n",
    "import matplotlib.pyplot as plt\n",
    "%matplotlib inline"
   ]
  },
  {
   "cell_type": "code",
   "execution_count": 5,
   "metadata": {},
   "outputs": [],
   "source": [
    "#utils.py\n",
    "\"\"\" This file contains different utility functions that are not connected\n",
    "in anyway to the networks presented in the tutorials, but rather help in\n",
    "processing the outputs into a more understandable way.\n",
    "\n",
    "For example ``tile_raster_images`` helps in generating a easy to grasp\n",
    "image from a set of samples or weights.\n",
    "\"\"\"\n",
    "\n",
    "import numpy\n",
    "\n",
    "\n",
    "def scale_to_unit_interval(ndar, eps=1e-8):\n",
    "    \"\"\" Scales all values in the ndarray ndar to be between 0 and 1 \"\"\"\n",
    "    ndar = ndar.copy()\n",
    "    ndar -= ndar.min()\n",
    "    ndar *= 1.0 / (ndar.max() + eps)\n",
    "    return ndar\n",
    "\n",
    "\n",
    "def tile_raster_images(X, img_shape, tile_shape, tile_spacing=(0, 0),\n",
    "                       scale_rows_to_unit_interval=True,\n",
    "                       output_pixel_vals=True):\n",
    "    \"\"\"\n",
    "    Transform an array with one flattened image per row, into an array in\n",
    "    which images are reshaped and layed out like tiles on a floor.\n",
    "\n",
    "    This function is useful for visualizing datasets whose rows are images,\n",
    "    and also columns of matrices for transforming those rows\n",
    "    (such as the first layer of a neural net).\n",
    "\n",
    "    :type X: a 2-D ndarray or a tuple of 4 channels, elements of which can\n",
    "    be 2-D ndarrays or None;\n",
    "    :param X: a 2-D array in which every row is a flattened image.\n",
    "\n",
    "    :type img_shape: tuple; (height, width)\n",
    "    :param img_shape: the original shape of each image\n",
    "\n",
    "    :type tile_shape: tuple; (rows, cols)\n",
    "    :param tile_shape: the number of images to tile (rows, cols)\n",
    "\n",
    "    :param output_pixel_vals: if output should be pixel values (i.e. int8\n",
    "    values) or floats\n",
    "\n",
    "    :param scale_rows_to_unit_interval: if the values need to be scaled before\n",
    "    being plotted to [0,1] or not\n",
    "\n",
    "\n",
    "    :returns: array suitable for viewing as an image.\n",
    "    (See:`Image.fromarray`.)\n",
    "    :rtype: a 2-d array with same dtype as X.\n",
    "\n",
    "    \"\"\"\n",
    "\n",
    "    assert len(img_shape) == 2\n",
    "    assert len(tile_shape) == 2\n",
    "    assert len(tile_spacing) == 2\n",
    "\n",
    "    # The expression below can be re-written in a more C style as\n",
    "    # follows :\n",
    "    #\n",
    "    # out_shape    = [0,0]\n",
    "    # out_shape[0] = (img_shape[0]+tile_spacing[0])*tile_shape[0] -\n",
    "    #                tile_spacing[0]\n",
    "    # out_shape[1] = (img_shape[1]+tile_spacing[1])*tile_shape[1] -\n",
    "    #                tile_spacing[1]\n",
    "    out_shape = [\n",
    "        (ishp + tsp) * tshp - tsp\n",
    "        for ishp, tshp, tsp in zip(img_shape, tile_shape, tile_spacing)\n",
    "    ]\n",
    "\n",
    "    if isinstance(X, tuple):\n",
    "        assert len(X) == 4\n",
    "        # Create an output numpy ndarray to store the image\n",
    "        if output_pixel_vals:\n",
    "            out_array = numpy.zeros((out_shape[0], out_shape[1], 4),\n",
    "                                    dtype='uint8')\n",
    "        else:\n",
    "            out_array = numpy.zeros((out_shape[0], out_shape[1], 4),\n",
    "                                    dtype=X.dtype)\n",
    "\n",
    "        #colors default to 0, alpha defaults to 1 (opaque)\n",
    "        if output_pixel_vals:\n",
    "            channel_defaults = [0, 0, 0, 255]\n",
    "        else:\n",
    "            channel_defaults = [0., 0., 0., 1.]\n",
    "\n",
    "        for i in range(4):\n",
    "            if X[i] is None:\n",
    "                # if channel is None, fill it with zeros of the correct\n",
    "                # dtype\n",
    "                dt = out_array.dtype\n",
    "                if output_pixel_vals:\n",
    "                    dt = 'uint8'\n",
    "                out_array[:, :, i] = numpy.zeros(\n",
    "                    out_shape,\n",
    "                    dtype=dt\n",
    "                ) + channel_defaults[i]\n",
    "            else:\n",
    "                # use a recurrent call to compute the channel and store it\n",
    "                # in the output\n",
    "                out_array[:, :, i] = tile_raster_images(\n",
    "                    X[i], img_shape, tile_shape, tile_spacing,\n",
    "                    scale_rows_to_unit_interval, output_pixel_vals)\n",
    "        return out_array\n",
    "\n",
    "    else:\n",
    "        # if we are dealing with only one channel\n",
    "        H, W = img_shape\n",
    "        Hs, Ws = tile_spacing\n",
    "\n",
    "        # generate a matrix to store the output\n",
    "        dt = X.dtype\n",
    "        if output_pixel_vals:\n",
    "            dt = 'uint8'\n",
    "        out_array = numpy.zeros(out_shape, dtype=dt)\n",
    "\n",
    "        for tile_row in range(tile_shape[0]):\n",
    "            for tile_col in range(tile_shape[1]):\n",
    "                if tile_row * tile_shape[1] + tile_col < X.shape[0]:\n",
    "                    this_x = X[tile_row * tile_shape[1] + tile_col]\n",
    "                    if scale_rows_to_unit_interval:\n",
    "                        # if we should scale values to be between 0 and 1\n",
    "                        # do this by calling the `scale_to_unit_interval`\n",
    "                        # function\n",
    "                        this_img = scale_to_unit_interval(\n",
    "                            this_x.reshape(img_shape))\n",
    "                    else:\n",
    "                        this_img = this_x.reshape(img_shape)\n",
    "                    # add the slice to the corresponding position in the\n",
    "                    # output array\n",
    "                    c = 1\n",
    "                    if output_pixel_vals:\n",
    "                        c = 255\n",
    "                    out_array[\n",
    "                        tile_row * (H + Hs): tile_row * (H + Hs) + H,\n",
    "                        tile_col * (W + Ws): tile_col * (W + Ws) + W\n",
    "                    ] = this_img * c\n",
    "        return out_array\n"
   ]
  },
  {
   "cell_type": "markdown",
   "metadata": {},
   "source": [
    "<hr>\n"
   ]
  },
  {
   "cell_type": "markdown",
   "metadata": {},
   "source": [
    "<a id=\"ref2\"></a>\n",
    "<h3>RBM layers</h3>\n",
    "\n",
    "An RBM has two layers. The first layer of the RBM is called the <b>visible</b> (or input layer). Imagine that our toy example, has only vectors with 7 values, so the visible layer must have $V=7$ input nodes. \n",
    "The second layer is the <b>hidden</b> layer, which has $H$ neurons in our case. Each hidden node takes on values of either 0 or 1 (i.e., $h_i = 1$ or $h_i$ = 0), with a probability that is a logistic function of the inputs it receives from the other $V$ visible units, called for example, $p(h_i = 1)$. For our toy sample, we'll use 2 nodes in the hidden layer, so $H = 2$.\n",
    "\n",
    "<center><img src=\"https://ibm.box.com/shared/static/eu26opvcefgls6vnwuo29uwp0nudmokh.png\" alt=\"RBM Model\" style=\"width: 400px;\"></center>\n"
   ]
  },
  {
   "cell_type": "markdown",
   "metadata": {},
   "source": [
    "     \n",
    "\n",
    "Each node in the first layer also has a <b>bias</b>. We will denote the bias as $v_{bias}$, and this single value is shared among the $V$ visible units.\n",
    "\n",
    "The <b>bias</b> of the second is defined similarly as $h_{bias}$, and this single value among the $H$ hidden units.\n"
   ]
  },
  {
   "cell_type": "code",
   "execution_count": 6,
   "metadata": {},
   "outputs": [
    {
     "name": "stderr",
     "output_type": "stream",
     "text": [
      "2024-05-25 02:18:26.092882: W tensorflow/stream_executor/platform/default/dso_loader.cc:64] Could not load dynamic library 'libcuda.so.1'; dlerror: libcuda.so.1: cannot open shared object file: No such file or directory\n",
      "2024-05-25 02:18:26.092935: W tensorflow/stream_executor/cuda/cuda_driver.cc:269] failed call to cuInit: UNKNOWN ERROR (303)\n",
      "2024-05-25 02:18:26.092981: I tensorflow/stream_executor/cuda/cuda_diagnostics.cc:156] kernel driver does not appear to be running on this host (jupyterlab-bandreddysar): /proc/driver/nvidia/version does not exist\n",
      "2024-05-25 02:18:26.093333: I tensorflow/core/platform/cpu_feature_guard.cc:193] This TensorFlow binary is optimized with oneAPI Deep Neural Network Library (oneDNN) to use the following CPU instructions in performance-critical operations:  AVX2 AVX512F AVX512_VNNI FMA\n",
      "To enable them in other operations, rebuild TensorFlow with the appropriate compiler flags.\n"
     ]
    }
   ],
   "source": [
    "v_bias = tf.Variable(tf.zeros([7]), tf.float32)\n",
    "h_bias = tf.Variable(tf.zeros([2]), tf.float32)"
   ]
  },
  {
   "cell_type": "markdown",
   "metadata": {},
   "source": [
    "We have to define weights among the input layer and hidden layer nodes. In the weight matrix, the number of rows are equal to the input nodes, and the number of columns are equal to the output nodes. We define a tensor $\\mathbf{W}$ of shape = (7,2), where the number of visible neurons = 7, and the number of hidden neurons = 2. \n"
   ]
  },
  {
   "cell_type": "code",
   "execution_count": 7,
   "metadata": {},
   "outputs": [],
   "source": [
    "W = tf.constant(np.random.normal(loc=0.0, scale=1.0, size=(7, 2)).astype(np.float32))"
   ]
  },
  {
   "cell_type": "markdown",
   "metadata": {},
   "source": [
    "<hr>\n"
   ]
  },
  {
   "cell_type": "markdown",
   "metadata": {},
   "source": [
    "<a id=\"ref3\"></a>\n",
    "<h3>What RBM can do after training?</h3>\n",
    "Think of RBM as a model that has been trained based on images of a dataset of many SUV and sedan cars. Also, imagine that the RBM network has only two hidden nodes, where one node encodes the weight and, and the other encodes the size.  \n",
    "In a sense, the different configurations represent different cars, where one is an SUV and the other is Sedan.  In a training process, through many forward and backward passes, the RBM adjust its weights to send a stronger signal to either the SUV node (0, 1) or the sedan node (1, 0) in the hidden layer, given the pixels of images. Now, given an SUV in hidden layer, which distribution of pixels should we expect? RBM can give you 2 things. First, it encodes your images in hidden layer. Second, it gives you the probability of observing a case, given some hidden values.\n",
    "\n",
    "\n",
    "<h3>The Inference Process</h3>\n",
    "\n",
    "RBM has two phases:\n",
    "<ul>\n",
    "    <li>Forward Pass</li>  \n",
    "    <li>Backward Pass or Reconstruction</li>\n",
    "</ul>\n",
    "\n",
    "<b>Phase 1) Forward pass:</b>  \n",
    "\n",
    "Input one training sample (one image) $\\mathbf{x}$ through all visible nodes, and pass it to all hidden nodes. Processing happens in each node in the hidden layer. This computation begins by making stochastic decisions about whether to transmit that input or not (i.e. to determine the state of each hidden layer).  First, the probability vector is computed using the input feature vector $\\mathbf{x}$, the weight matrix $\\mathbf{W}$, and the bias term $h_{bias}$, as \n",
    "\n",
    "\n",
    "$$p({h_j}|\\mathbf x)= \\sigma( \\sum_{i=1}^V W_{ij} x_i + h_{bias} )$$, \n",
    "\n",
    "where $\\sigma(z) = (1+e^{-z})^{-1}$ is the logistic function.\n",
    "\n",
    "\n",
    "So, what does $p({h_j})$ represent? It is the <b>probability distribution</b> of the hidden units. That is, RBM uses inputs $x_i$ to make predictions about hidden node activations. For example, imagine that the hidden node activation values are [0.51 0.84] for the first training item. It tells you that the conditional probability for each hidden neuron for Phase 1 is: \n",
    "\n",
    "$$p(h_{1} = 1|\\mathbf{v}) = 0.51$$\n",
    "$$p(h_{2} = 1|\\mathbf{v}) = 0.84$$\n",
    "\n",
    "As a result, for each row in the training set, vector of probabilities is generated.  In TensorFlow, this is referred to as a `tensor` with a shape of (1,2). \n",
    "\n",
    "We then turn unit $j$ with probability $p(h_{j}|\\mathbf{v})$, and turn it off with probability $1 - p(h_{j}|\\mathbf{v})$ by generating a uniform random number vector $\\mathbf{\\xi}$, and comparing it to the activation probability as \n",
    "\n",
    "<center>If $\\xi_j>p(h_{j}|\\mathbf{v})$, then $h_j=1$, else $h_j=0$.</center>\n",
    "\n",
    "\n",
    "Therefore, the conditional probability of a configuration of $\\mathbf{h}$ given $\\mathbf{v}$ (for a training sample) is:\n",
    "\n",
    "$$p(\\mathbf{h} \\mid \\mathbf{v}) = \\prod_{j=1}^H p(h_j \\mid \\mathbf{v})$$\n",
    "\n",
    "\n",
    "where $H$ is the number of hidden units.\n",
    "\n"
   ]
  },
  {
   "cell_type": "markdown",
   "metadata": {},
   "source": [
    "Before we go further, let's look at a toy example for one case out of all input. Assume that we have a trained RBM, and a very simple input vector, such as [1.0, 0.0, 0.0, 1.0, 0.0, 0.0, 0.0].   \n",
    "Let's see what the output of forward pass would look like:\n"
   ]
  },
  {
   "cell_type": "code",
   "execution_count": 8,
   "metadata": {},
   "outputs": [
    {
     "name": "stdout",
     "output_type": "stream",
     "text": [
      "Input:  tf.Tensor([[1. 0. 0. 1. 0. 0. 0.]], shape=(1, 7), dtype=float32)\n",
      "hb:  tf.Tensor([0.1 0.1], shape=(2,), dtype=float32)\n",
      "w:  tf.Tensor(\n",
      "[[ 1.185184    2.6073503 ]\n",
      " [-0.40433797 -0.8516001 ]\n",
      " [ 1.1942955   0.46773353]\n",
      " [-0.04821981 -0.25906003]\n",
      " [ 0.15566951  0.6313019 ]\n",
      " [-1.2316076  -0.9093431 ]\n",
      " [-0.59847045 -0.4553127 ]], shape=(7, 2), dtype=float32)\n",
      "p(h|v):  tf.Tensor([[0.77503514 0.9204363 ]], shape=(1, 2), dtype=float32)\n",
      "h0 states: tf.Tensor([[1. 1.]], shape=(1, 2), dtype=float32)\n"
     ]
    }
   ],
   "source": [
    "X = tf.constant([[1.0, 0.0, 0.0, 1.0, 0.0, 0.0, 0.0]], tf.float32)\n",
    "\n",
    "v_state = X\n",
    "print (\"Input: \", v_state)\n",
    "\n",
    "h_bias = tf.constant([0.1, 0.1])\n",
    "print (\"hb: \", h_bias)\n",
    "print (\"w: \", W)\n",
    "\n",
    "# Calculate the probabilities of turning the hidden units on:\n",
    "h_prob = tf.nn.sigmoid(tf.matmul(v_state, W) + h_bias)  #probabilities of the hidden units\n",
    "print (\"p(h|v): \", h_prob)\n",
    "\n",
    "# Draw samples from the distribution:\n",
    "h_state = tf.nn.relu(tf.sign(h_prob - tf.random.uniform(tf.shape(h_prob)))) #states\n",
    "print (\"h0 states:\", h_state)"
   ]
  },
  {
   "cell_type": "markdown",
   "metadata": {},
   "source": [
    "<b>Phase 2) Backward Pass (Reconstruction):</b>\n",
    "The RBM reconstructs data by making several forward and backward passes between the visible and hidden layers.\n",
    "\n",
    "So, in the second phase (i.e. reconstruction phase), the samples from the hidden layer (i.e. $\\mathbf h$) becomes the input in the backward pass. The same weight matrix and visible layer biases are used to passed to the sigmoid function. The reproduced output is a reconstruction which is an approximation of the original input.\n"
   ]
  },
  {
   "cell_type": "code",
   "execution_count": 9,
   "metadata": {},
   "outputs": [
    {
     "name": "stdout",
     "output_type": "stream",
     "text": [
      "b:  tf.Tensor([0.1 0.2 0.1 0.1 0.1 0.2 0.1], shape=(7,), dtype=float32)\n",
      "p(vi∣h):  tf.Tensor(\n",
      "[[0.98001397 0.25808647 0.8534636  0.4483648  0.70826477 0.12554345\n",
      "  0.27812463]], shape=(1, 7), dtype=float32)\n",
      "v probability states:  tf.Tensor([[1. 0. 1. 1. 1. 1. 0.]], shape=(1, 7), dtype=float32)\n"
     ]
    }
   ],
   "source": [
    "vb = tf.constant([0.1, 0.2, 0.1, 0.1, 0.1, 0.2, 0.1])\n",
    "print (\"b: \", vb)\n",
    "v_prob = tf.nn.sigmoid(tf.matmul(h_state, tf.transpose(W)) + vb)\n",
    "print (\"p(vi∣h): \", v_prob)\n",
    "v_state = tf.nn.relu(tf.sign(v_prob - tf.random.uniform(tf.shape(v_prob))))\n",
    "print (\"v probability states: \", v_state)"
   ]
  },
  {
   "cell_type": "markdown",
   "metadata": {},
   "source": [
    "RBM learns a probability distribution over the input, and then, after being trained, the RBM can generate new samples from the learned probability distribution. As you know, <b>probability distribution</b>, is a mathematical function that provides the probabilities of occurrence of different possible outcomes in an experiment.\n",
    "\n",
    "The (conditional) probability distribution over the visible units v is given by\n",
    "\n",
    "$$p(\\mathbf{v} \\mid \\mathbf{h}) = \\prod_{i=1}^V p(v_i \\mid \\mathbf{h}),$$\n",
    "\n",
    "\n",
    "where,\n",
    "\n",
    "$$p(v_i \\mid \\mathbf{h}) = \\sigma\\left(\\sum_{j=1}^H W_{ji} h_j + v_{bias} \\right)$$\n",
    "\n",
    "so, given current state of hidden units and weights, what is the probability of generating [1. 0. 0. 1. 0. 0. 0.] in reconstruction phase, based on the above <b>probability distribution</b> function?\n"
   ]
  },
  {
   "cell_type": "code",
   "execution_count": 10,
   "metadata": {},
   "outputs": [
    {
     "name": "stdout",
     "output_type": "stream",
     "text": [
      "input X: [[1. 0. 0. 1. 0. 0. 0.]]\n",
      "probablity vector: [0.98001397 0.25808647 0.8534636  0.4483648  0.70826477 0.12554345\n",
      " 0.27812463]\n",
      "probability of generating X:  0.008797351\n"
     ]
    }
   ],
   "source": [
    "inp = X\n",
    "print(\"input X:\" , inp.numpy())\n",
    "\n",
    "print(\"probablity vector:\" , v_prob[0].numpy())\n",
    "v_probability = 1\n",
    "\n",
    "for elm, p in zip(inp[0],v_prob[0]) :\n",
    "    if elm ==1:\n",
    "        v_probability *= p\n",
    "    else:\n",
    "        v_probability *= (1-p)\n",
    "\n",
    "print(\"probability of generating X: \" , v_probability.numpy())"
   ]
  },
  {
   "cell_type": "markdown",
   "metadata": {},
   "source": [
    "How similar are vectors $\\mathbf{x}$ and $\\mathbf{v}$? Of course, the reconstructed values most likely will not look anything like the input vector, because our network has not been trained yet. Our objective is to train the model in such a way that the input vector and reconstructed vector to be same. Therefore, based on how different the input values look to the ones that we just reconstructed, the weights are adjusted. \n"
   ]
  },
  {
   "cell_type": "markdown",
   "metadata": {},
   "source": [
    "<hr>\n"
   ]
  },
  {
   "cell_type": "markdown",
   "metadata": {},
   "source": [
    "\n",
    "<h2>MNIST</h2>\n"
   ]
  },
  {
   "cell_type": "markdown",
   "metadata": {},
   "source": [
    "We will be using the MNIST dataset to practice the usage of RBMs. The following cell loads the MNIST dataset.\n"
   ]
  },
  {
   "cell_type": "code",
   "execution_count": 11,
   "metadata": {},
   "outputs": [
    {
     "name": "stdout",
     "output_type": "stream",
     "text": [
      "Downloading data from https://storage.googleapis.com/tensorflow/tf-keras-datasets/mnist.npz\n",
      "11490434/11490434 [==============================] - 0s 0us/step\n"
     ]
    }
   ],
   "source": [
    "#loading training and test data\n",
    "mnist = tf.keras.datasets.mnist\n",
    "(trX, trY), (teX, teY) = mnist.load_data()\n",
    "\n",
    "# showing an example of the Flatten class and operation\n",
    "from tensorflow.keras.layers import Flatten\n",
    "flatten = Flatten(dtype='float32')\n",
    "trX = flatten(trX/255.0)\n",
    "trY = flatten(trY/255.0)"
   ]
  },
  {
   "cell_type": "markdown",
   "metadata": {},
   "source": [
    "Lets look at the dimension of the images.\n"
   ]
  },
  {
   "cell_type": "markdown",
   "metadata": {},
   "source": [
    "MNIST images have 784 pixels, so the visible layer must have 784 input nodes.  For our case, we'll use 50 nodes in the hidden layer, so i = 50.\n"
   ]
  },
  {
   "cell_type": "code",
   "execution_count": 12,
   "metadata": {},
   "outputs": [],
   "source": [
    "vb = tf.Variable(tf.zeros([784]), tf.float32)\n",
    "hb = tf.Variable(tf.zeros([50]), tf.float32)"
   ]
  },
  {
   "cell_type": "markdown",
   "metadata": {},
   "source": [
    "Let $\\mathbf W$ be the Tensor of 784x50 (784 - number of visible neurons, 50 - number of hidden neurons) that represents weights between the neurons. \n"
   ]
  },
  {
   "cell_type": "code",
   "execution_count": 13,
   "metadata": {},
   "outputs": [],
   "source": [
    "W = tf.Variable(tf.zeros([784,50]), tf.float32)"
   ]
  },
  {
   "cell_type": "markdown",
   "metadata": {},
   "source": [
    "Lets define the visible layer:\n"
   ]
  },
  {
   "cell_type": "code",
   "execution_count": 14,
   "metadata": {},
   "outputs": [
    {
     "data": {
      "text/plain": [
       "<tf.Tensor: shape=(1, 50), dtype=float32, numpy=\n",
       "array([[0., 0., 0., 0., 0., 0., 0., 0., 0., 0., 0., 0., 0., 0., 0., 0.,\n",
       "        0., 0., 0., 0., 0., 0., 0., 0., 0., 0., 0., 0., 0., 0., 0., 0.,\n",
       "        0., 0., 0., 0., 0., 0., 0., 0., 0., 0., 0., 0., 0., 0., 0., 0.,\n",
       "        0., 0.]], dtype=float32)>"
      ]
     },
     "execution_count": 14,
     "metadata": {},
     "output_type": "execute_result"
    }
   ],
   "source": [
    "v0_state = tf.Variable(tf.zeros([784]), tf.float32)\n",
    "\n",
    "#testing to see if the matrix product works\n",
    "tf.matmul( [v0_state], W)"
   ]
  },
  {
   "cell_type": "markdown",
   "metadata": {},
   "source": [
    "Now, we can define hidden layer:\n"
   ]
  },
  {
   "cell_type": "code",
   "execution_count": 15,
   "metadata": {},
   "outputs": [
    {
     "name": "stdout",
     "output_type": "stream",
     "text": [
      "h0_state shape:  tf.Tensor([ 1 50], shape=(2,), dtype=int32)\n",
      "first 15 hidden states:  tf.Tensor([1. 1. 0. 1. 0. 1. 0. 1. 0. 1. 1. 1. 1. 0. 1.], shape=(15,), dtype=float32)\n"
     ]
    }
   ],
   "source": [
    "#computing the hidden nodes probability vector and checking shape\n",
    "h0_prob = tf.nn.sigmoid(tf.matmul([v0_state], W) + hb)  #probabilities of the hidden units\n",
    "print(\"h0_state shape: \" , tf.shape(h0_prob))\n",
    "\n",
    "#defining a function to return only the generated hidden states \n",
    "def hidden_layer(v0_state, W, hb):\n",
    "    h0_prob = tf.nn.sigmoid(tf.matmul([v0_state], W) + hb)  #probabilities of the hidden units\n",
    "    h0_state = tf.nn.relu(tf.sign(h0_prob - tf.random.uniform(tf.shape(h0_prob)))) #sample_h_given_X\n",
    "    return h0_state\n",
    "\n",
    "\n",
    "h0_state = hidden_layer(v0_state, W, hb)\n",
    "print(\"first 15 hidden states: \", h0_state[0][0:15])"
   ]
  },
  {
   "cell_type": "markdown",
   "metadata": {},
   "source": [
    "Now, we define reconstruction part:\n"
   ]
  },
  {
   "cell_type": "code",
   "execution_count": 16,
   "metadata": {},
   "outputs": [
    {
     "name": "stdout",
     "output_type": "stream",
     "text": [
      "hidden state shape:  (1, 50)\n",
      "v0 state shape:   (784,)\n",
      "v1 state shape:   (784,)\n"
     ]
    }
   ],
   "source": [
    "def reconstructed_output(h0_state, W, vb):\n",
    "    v1_prob = tf.nn.sigmoid(tf.matmul(h0_state, tf.transpose(W)) + vb) \n",
    "    v1_state = tf.nn.relu(tf.sign(v1_prob - tf.random.uniform(tf.shape(v1_prob)))) #sample_v_given_h\n",
    "    return v1_state[0]\n",
    "\n",
    "v1_state = reconstructed_output(h0_state, W, vb)\n",
    "print(\"hidden state shape: \", h0_state.shape)\n",
    "print(\"v0 state shape:  \", v0_state.shape)\n",
    "print(\"v1 state shape:  \", v1_state.shape)"
   ]
  },
  {
   "cell_type": "markdown",
   "metadata": {},
   "source": [
    "<h3>What is the objective function?</h3>\n",
    "\n",
    "<b>Goal</b>: Maximize the likelihood of our data being drawn from that distribution\n",
    "\n",
    "<b>Calculate error:</b>  \n",
    "In each epoch, we compute the \"error\" as a sum of the squared difference between step 1 and step n,\n",
    "e.g the error shows the difference between the data and its reconstruction.\n",
    "\n",
    "<b>Note:</b> tf.reduce_mean computes the mean of elements across dimensions of a tensor.\n"
   ]
  },
  {
   "cell_type": "code",
   "execution_count": 17,
   "metadata": {},
   "outputs": [
    {
     "name": "stdout",
     "output_type": "stream",
     "text": [
      "error 0.5089286\n"
     ]
    }
   ],
   "source": [
    "def error(v0_state, v1_state):\n",
    "    return tf.reduce_mean(tf.square(v0_state - v1_state))\n",
    "\n",
    "err = tf.reduce_mean(tf.square(v0_state - v1_state))\n",
    "print(\"error\" , err.numpy())"
   ]
  },
  {
   "cell_type": "markdown",
   "metadata": {},
   "source": [
    "<a id=\"ref4\"></a>\n",
    "<h3>Training the Model</h3>\n",
    "<b>Warning...</b> The following part is math-heavy, but you can skip it if you just want to run the cells in the next section.\n",
    "\n",
    "As mentioned, we want to give a high probability to the input data we train on. So, in order to train an RBM, we have to maximize the product of probabilities assigned to all rows $\\mathbf{v}$ (images) in the training set $\\mathbf{V}$ (a matrix, where each row of it is treated as a visible vector $\\mathbf{v}$)\n",
    "\n",
    "$$\\arg \\max_W \\prod_{\\mathbf{v}\\in\\mathbf{V}_T} p(\\mathbf{v})$$\n",
    "\n",
    "\n",
    "which is equivalent to maximizing the expectation of the log probability, given as\n",
    "\n",
    "$$\\arg\\max_W\\left[ \\mathbb{E} \\left(\\prod_{\\mathbf v\\in \\mathbf V}\\text{log} \\left(p(\\mathbf v)\\right) \\right) \\right].$$\n",
    "\n",
    "\n",
    "So, we have to update the weights $W_{ij}$  to increase $p(\\mathbf{v})$ for all $\\mathbf{v}$ in our training data during training. So we have to calculate the derivative:\n",
    "\n",
    "\n",
    "$$\\frac{\\partial \\log p(\\mathbf v)}{\\partial W_{ij}}$$\n",
    "\n",
    "This cannot be easily done by typical <b>gradient descent (SGD)</b>, so we can use another approach, which has 2 steps:\n",
    "<ol>\n",
    "    <li>Gibbs Sampling</li>\n",
    "    <li>Contrastive Divergence</li>\n",
    "</ol>    \n",
    "    \n",
    "<h3>Gibbs Sampling</h3>   \n",
    "\n",
    "<h4>Gibbs Sampling Step 1</h4> \n",
    "Given an input vector $\\mathbf{v}$, we are using $p(\\mathbf{h}|\\mathbf{v})$ to predict the hidden values $\\mathbf{h}$. \n",
    "  $$p({h_j}|\\mathbf v)= \\sigma\\left(\\sum_{i=1}^V W_{ij} v_i + h_{bias} \\right)$$\n",
    "The samples are generated from this distribution by generating the uniform random variate vector $\\mathbf{\\xi} \\sim U[0,1]$ of length $H$ and comparing to the computed probabilities as\n",
    "\n",
    "\n",
    "<center>If $\\xi_j>p(h_{j}|\\mathbf{v})$, then $h_j=1$, else $h_j=0$.</center>\n",
    "\n",
    "\n",
    "<h4>Gibbs Sampling Step 2</h4> \n",
    "Then, knowing the hidden values, we use $p(\\mathbf v| \\mathbf h)$ for reconstructing of new input values v. \n",
    "\n",
    "   $$p({v_i}|\\mathbf h)= \\sigma\\left(\\sum_{j=1}^H W^{T}_{ij} h_j + v_{bias} \\right)$$\n",
    "\n",
    "\n",
    "The samples are generated from this distribution by generating a uniform random variate vector $\\mathbf{\\xi} \\sim U[0,1]$ of length $V$ and comparing to the computed probabilities as\n",
    "\n",
    "<center>If $\\xi_i>p(v_{i}|\\mathbf{h})$, then $v_i=1$, else $v_i=0$.</center>\n",
    "\n",
    "Let vectors $\\mathbf v_k$ and $\\mathbf h_k$ be for the $k$th iteration.  In general, the $kth$ state is generrated as: \n",
    "\n",
    "\n",
    "    \n",
    "<b>Iteration</b> $k$: \n",
    "\n",
    "$$\\mathbf v_{k-1} \\Rightarrow p(\\mathbf h_{k-1}|\\mathbf v_{k-1})\\Rightarrow \\mathbf h_{k-1}\\Rightarrow p(\\mathbf v_{k}|\\mathbf h_{k-1})\\Rightarrow \\mathbf v_k$$       \n",
    "    \n",
    "<h3>Contrastive Divergence (CD-k)</h3>\n",
    "The update of the weight matrix is done during the Contrastive Divergence step. \n",
    "\n",
    "Vectors v0 and vk are used to calculate the activation probabilities for hidden values h0 and hk. The difference between the outer products of those probabilities with input vectors v0 and vk results in the update matrix:\n",
    "\n",
    "\n",
    "$$\\Delta \\mathbf W_k =\\mathbf v_k \\otimes \\mathbf h_k - \\mathbf v_{k-1} \\otimes \\mathbf h_{k-1}$$\n",
    "\n",
    "Contrastive Divergence is actually matrix of values that is computed and used to adjust values of the $\\mathbf W$ matrix. Changing $\\mathbf W$ incrementally leads to training of the  $\\mathbf W$ values. Then, on each step (epoch), $\\mathbf W$ is updated using the following:\n",
    "\n",
    "$$\\mathbf W_k = \\mathbf W_{k-1} + \\alpha * \\Delta \\mathbf W_k$$\n",
    "\n",
    "\n",
    "\n",
    "Reconstruction steps:\n",
    "<ul>\n",
    "    <li> Get one data point from data set, like <i>x</i>, and pass it through the following steps:</li>\n",
    "    \n",
    "<b>Iteration</b> $k=1$: \n",
    "    \n",
    "Sampling (starting with input image)\n",
    "    $$\\mathbf x = \\mathbf v_0 \\Rightarrow p(\\mathbf h_0|\\mathbf v_0)\\Rightarrow \\mathbf h_0 \\Rightarrow p(\\mathbf v_1|\\mathbf h_0)\\Rightarrow \\mathbf v_1$$   \n",
    "    followed by the CD-k step\n",
    "$$\\Delta \\mathbf W_1 =\\mathbf v_1 \\otimes \\mathbf h_1 - \\mathbf v_{0} \\otimes \\mathbf h_{0}$$     \n",
    "$$\\mathbf W_1 = \\mathbf W_{0} + \\alpha * \\Delta \\mathbf W_1$$ \n",
    " \n",
    "<li> $\\mathbf v_1$ is the reconstruction of $\\mathbf x$ sent to the next iteration).</li>\n",
    "\n",
    "<b>Iteration</b> $k=2$: \n",
    "\n",
    "Sampling (starting with $\\mathbf v_1$)\n",
    "\n",
    "$$\\mathbf v_1 \\Rightarrow p(\\mathbf h_1|\\mathbf v_1)\\Rightarrow \\mathbf h_1\\Rightarrow p(\\mathbf v_2|\\mathbf h_1)\\Rightarrow \\mathbf v_2$$   \n",
    "\n",
    "followed by the CD-k step\n",
    "$$\\Delta \\mathbf W_2 =\\mathbf v_2 \\otimes \\mathbf h_2 - \\mathbf v_{1} \\otimes \\mathbf h_{1}$$     \n",
    "$$\\mathbf W_2 = \\mathbf W_{1} + \\alpha * \\Delta \\mathbf W_2$$ \n",
    "\n",
    "<li> $\\mathbf v_2$ is the reconstruction of $\\mathbf v_1$ sent to the next iteration).</li>    \n",
    "      \n",
    "<b>Iteration</b> $k=K$:\n",
    "    \n",
    "Sampling (starting with $\\mathbf v_{K-1}$)\n",
    "\n",
    "$$\\mathbf v_{K-1} \\Rightarrow p(\\mathbf h_{K-1}|\\mathbf v_{K-1})\\Rightarrow \\mathbf h_{K-1}\\Rightarrow p(\\mathbf v_K|\\mathbf h_{K-1})\\Rightarrow \\mathbf v_K$$   \n",
    "\n",
    "followed by the CD-k step\n",
    "$$\\Delta \\mathbf W_K =\\mathbf v_K \\otimes \\mathbf h_K - \\mathbf v_{K-1} \\otimes \\mathbf h_{K-1}$$     \n",
    "$$\\mathbf W_K = \\mathbf W_{K-1} + \\alpha * \\Delta \\mathbf W_K$$ \n",
    "    \n",
    "<b>What is $\\alpha$?</b>  \n",
    "Here, alpha is some small step size, and is also known as the \"learning rate\".\n"
   ]
  },
  {
   "cell_type": "markdown",
   "metadata": {},
   "source": [
    "$K$ is adjustable, and good performance can be achieved with $K=1$, so that we just take one set of sampling steps per image.\n"
   ]
  },
  {
   "cell_type": "code",
   "execution_count": 18,
   "metadata": {},
   "outputs": [],
   "source": [
    "h1_prob = tf.nn.sigmoid(tf.matmul([v1_state], W) + hb)\n",
    "h1_state = tf.nn.relu(tf.sign(h1_prob - tf.random.uniform(tf.shape(h1_prob)))) #sample_h_given_X"
   ]
  },
  {
   "cell_type": "markdown",
   "metadata": {},
   "source": [
    "Lets look at the error of the first run:\n"
   ]
  },
  {
   "cell_type": "code",
   "execution_count": 19,
   "metadata": {},
   "outputs": [
    {
     "name": "stdout",
     "output_type": "stream",
     "text": [
      "error:  tf.Tensor(0.5089286, shape=(), dtype=float32)\n"
     ]
    }
   ],
   "source": [
    "print(\"error: \", error(v0_state, v1_state))"
   ]
  },
  {
   "cell_type": "code",
   "execution_count": 20,
   "metadata": {},
   "outputs": [
    {
     "name": "stdout",
     "output_type": "stream",
     "text": [
      "Epoch: 0 batch #: 1  of 300 sample #: 199 reconstruction error: 0.171491\n",
      "Epoch: 0 batch #: 2  of 300 sample #: 199 reconstruction error: 0.211662\n",
      "Epoch: 0 batch #: 3  of 300 sample #: 199 reconstruction error: 0.099151\n",
      "Epoch: 0 batch #: 4  of 300 sample #: 199 reconstruction error: 0.120319\n",
      "Epoch: 0 batch #: 5  of 300 sample #: 199 reconstruction error: 0.107411\n",
      "Epoch: 0 batch #: 6  of 300 sample #: 199 reconstruction error: 0.196128\n",
      "Epoch: 0 batch #: 7  of 300 sample #: 199 reconstruction error: 0.087543\n",
      "Epoch: 0 batch #: 8  of 300 sample #: 199 reconstruction error: 0.116653\n",
      "Epoch: 0 batch #: 9  of 300 sample #: 199 reconstruction error: 0.094740\n",
      "Epoch: 0 batch #: 10  of 300 sample #: 199 reconstruction error: 0.170074\n",
      "Epoch: 0 batch #: 11  of 300 sample #: 199 reconstruction error: 0.084193\n",
      "Epoch: 0 batch #: 12  of 300 sample #: 199 reconstruction error: 0.140757\n",
      "Epoch: 0 batch #: 13  of 300 sample #: 199 reconstruction error: 0.079480\n",
      "Epoch: 0 batch #: 14  of 300 sample #: 199 reconstruction error: 0.109370\n",
      "Epoch: 0 batch #: 15  of 300 sample #: 199 reconstruction error: 0.113261\n",
      "Epoch: 0 batch #: 16  of 300 sample #: 199 reconstruction error: 0.105051\n",
      "Epoch: 0 batch #: 17  of 300 sample #: 199 reconstruction error: 0.074267\n",
      "Epoch: 0 batch #: 18  of 300 sample #: 199 reconstruction error: 0.109650\n",
      "Epoch: 0 batch #: 19  of 300 sample #: 199 reconstruction error: 0.164360\n",
      "Epoch: 0 batch #: 20  of 300 sample #: 199 reconstruction error: 0.105823\n",
      "Epoch: 0 batch #: 21  of 300 sample #: 199 reconstruction error: 0.093700\n",
      "Epoch: 0 batch #: 22  of 300 sample #: 199 reconstruction error: 0.081881\n",
      "Epoch: 0 batch #: 23  of 300 sample #: 199 reconstruction error: 0.115147\n",
      "Epoch: 0 batch #: 24  of 300 sample #: 199 reconstruction error: 0.113850\n",
      "Epoch: 0 batch #: 25  of 300 sample #: 199 reconstruction error: 0.082123\n",
      "Epoch: 0 batch #: 26  of 300 sample #: 199 reconstruction error: 0.102393\n",
      "Epoch: 0 batch #: 27  of 300 sample #: 199 reconstruction error: 0.115481\n",
      "Epoch: 0 batch #: 28  of 300 sample #: 199 reconstruction error: 0.082275\n",
      "Epoch: 0 batch #: 29  of 300 sample #: 199 reconstruction error: 0.088086\n",
      "Epoch: 0 batch #: 30  of 300 sample #: 199 reconstruction error: 0.091189\n",
      "Epoch: 0 batch #: 31  of 300 sample #: 199 reconstruction error: 0.085246\n",
      "Epoch: 0 batch #: 32  of 300 sample #: 199 reconstruction error: 0.097630\n",
      "Epoch: 0 batch #: 33  of 300 sample #: 199 reconstruction error: 0.067761\n",
      "Epoch: 0 batch #: 34  of 300 sample #: 199 reconstruction error: 0.069428\n",
      "Epoch: 0 batch #: 35  of 300 sample #: 199 reconstruction error: 0.071729\n",
      "Epoch: 0 batch #: 36  of 300 sample #: 199 reconstruction error: 0.084044\n",
      "Epoch: 0 batch #: 37  of 300 sample #: 199 reconstruction error: 0.068516\n",
      "Epoch: 0 batch #: 38  of 300 sample #: 199 reconstruction error: 0.067362\n",
      "Epoch: 0 batch #: 39  of 300 sample #: 199 reconstruction error: 0.108979\n",
      "Epoch: 0 batch #: 40  of 300 sample #: 199 reconstruction error: 0.124414\n",
      "Epoch: 0 batch #: 41  of 300 sample #: 199 reconstruction error: 0.063242\n",
      "Epoch: 0 batch #: 42  of 300 sample #: 199 reconstruction error: 0.067290\n",
      "Epoch: 0 batch #: 43  of 300 sample #: 199 reconstruction error: 0.120422\n",
      "Epoch: 0 batch #: 44  of 300 sample #: 199 reconstruction error: 0.074056\n",
      "Epoch: 0 batch #: 45  of 300 sample #: 199 reconstruction error: 0.044075\n",
      "Epoch: 0 batch #: 46  of 300 sample #: 199 reconstruction error: 0.030246\n",
      "Epoch: 0 batch #: 47  of 300 sample #: 199 reconstruction error: 0.033182\n",
      "Epoch: 0 batch #: 48  of 300 sample #: 199 reconstruction error: 0.039046\n",
      "Epoch: 0 batch #: 49  of 300 sample #: 199 reconstruction error: 0.110032\n",
      "Epoch: 0 batch #: 50  of 300 sample #: 199 reconstruction error: 0.060507\n",
      "Epoch: 0 batch #: 51  of 300 sample #: 199 reconstruction error: 0.057198\n",
      "Epoch: 0 batch #: 52  of 300 sample #: 199 reconstruction error: 0.030308\n",
      "Epoch: 0 batch #: 53  of 300 sample #: 199 reconstruction error: 0.113990\n",
      "Epoch: 0 batch #: 54  of 300 sample #: 199 reconstruction error: 0.055786\n",
      "Epoch: 0 batch #: 55  of 300 sample #: 199 reconstruction error: 0.113276\n",
      "Epoch: 0 batch #: 56  of 300 sample #: 199 reconstruction error: 0.062478\n",
      "Epoch: 0 batch #: 57  of 300 sample #: 199 reconstruction error: 0.051541\n",
      "Epoch: 0 batch #: 58  of 300 sample #: 199 reconstruction error: 0.067144\n",
      "Epoch: 0 batch #: 59  of 300 sample #: 199 reconstruction error: 0.063734\n",
      "Epoch: 0 batch #: 60  of 300 sample #: 199 reconstruction error: 0.101097\n",
      "Epoch: 0 batch #: 61  of 300 sample #: 199 reconstruction error: 0.081192\n",
      "Epoch: 0 batch #: 62  of 300 sample #: 199 reconstruction error: 0.057469\n",
      "Epoch: 0 batch #: 63  of 300 sample #: 199 reconstruction error: 0.053650\n",
      "Epoch: 0 batch #: 64  of 300 sample #: 199 reconstruction error: 0.105445\n",
      "Epoch: 0 batch #: 65  of 300 sample #: 199 reconstruction error: 0.082643\n",
      "Epoch: 0 batch #: 66  of 300 sample #: 199 reconstruction error: 0.055099\n",
      "Epoch: 0 batch #: 67  of 300 sample #: 199 reconstruction error: 0.049575\n",
      "Epoch: 0 batch #: 68  of 300 sample #: 199 reconstruction error: 0.041990\n",
      "Epoch: 0 batch #: 69  of 300 sample #: 199 reconstruction error: 0.090000\n",
      "Epoch: 0 batch #: 70  of 300 sample #: 199 reconstruction error: 0.094923\n",
      "Epoch: 0 batch #: 71  of 300 sample #: 199 reconstruction error: 0.080082\n",
      "Epoch: 0 batch #: 72  of 300 sample #: 199 reconstruction error: 0.062881\n",
      "Epoch: 0 batch #: 73  of 300 sample #: 199 reconstruction error: 0.086353\n",
      "Epoch: 0 batch #: 74  of 300 sample #: 199 reconstruction error: 0.101297\n",
      "Epoch: 0 batch #: 75  of 300 sample #: 199 reconstruction error: 0.055646\n",
      "Epoch: 0 batch #: 76  of 300 sample #: 199 reconstruction error: 0.078886\n",
      "Epoch: 0 batch #: 77  of 300 sample #: 199 reconstruction error: 0.100204\n",
      "Epoch: 0 batch #: 78  of 300 sample #: 199 reconstruction error: 0.103519\n",
      "Epoch: 0 batch #: 79  of 300 sample #: 199 reconstruction error: 0.123513\n",
      "Epoch: 0 batch #: 80  of 300 sample #: 199 reconstruction error: 0.035392\n",
      "Epoch: 0 batch #: 81  of 300 sample #: 199 reconstruction error: 0.066571\n",
      "Epoch: 0 batch #: 82  of 300 sample #: 199 reconstruction error: 0.045077\n",
      "Epoch: 0 batch #: 83  of 300 sample #: 199 reconstruction error: 0.068802\n",
      "Epoch: 0 batch #: 84  of 300 sample #: 199 reconstruction error: 0.084455\n",
      "Epoch: 0 batch #: 85  of 300 sample #: 199 reconstruction error: 0.055502\n",
      "Epoch: 0 batch #: 86  of 300 sample #: 199 reconstruction error: 0.100790\n",
      "Epoch: 0 batch #: 87  of 300 sample #: 199 reconstruction error: 0.084214\n",
      "Epoch: 0 batch #: 88  of 300 sample #: 199 reconstruction error: 0.022920\n",
      "Epoch: 0 batch #: 89  of 300 sample #: 199 reconstruction error: 0.058118\n",
      "Epoch: 0 batch #: 90  of 300 sample #: 199 reconstruction error: 0.070398\n",
      "Epoch: 0 batch #: 91  of 300 sample #: 199 reconstruction error: 0.049126\n",
      "Epoch: 0 batch #: 92  of 300 sample #: 199 reconstruction error: 0.060161\n",
      "Epoch: 0 batch #: 93  of 300 sample #: 199 reconstruction error: 0.118694\n",
      "Epoch: 0 batch #: 94  of 300 sample #: 199 reconstruction error: 0.091806\n",
      "Epoch: 0 batch #: 95  of 300 sample #: 199 reconstruction error: 0.091006\n",
      "Epoch: 0 batch #: 96  of 300 sample #: 199 reconstruction error: 0.057777\n",
      "Epoch: 0 batch #: 97  of 300 sample #: 199 reconstruction error: 0.104525\n",
      "Epoch: 0 batch #: 98  of 300 sample #: 199 reconstruction error: 0.081351\n",
      "Epoch: 0 batch #: 99  of 300 sample #: 199 reconstruction error: 0.058746\n",
      "Epoch: 0 batch #: 100  of 300 sample #: 199 reconstruction error: 0.095347\n",
      "Epoch: 0 batch #: 101  of 300 sample #: 199 reconstruction error: 0.077809\n",
      "Epoch: 0 batch #: 102  of 300 sample #: 199 reconstruction error: 0.077440\n",
      "Epoch: 0 batch #: 103  of 300 sample #: 199 reconstruction error: 0.069206\n",
      "Epoch: 0 batch #: 104  of 300 sample #: 199 reconstruction error: 0.071673\n",
      "Epoch: 0 batch #: 105  of 300 sample #: 199 reconstruction error: 0.077623\n",
      "Epoch: 0 batch #: 106  of 300 sample #: 199 reconstruction error: 0.117371\n",
      "Epoch: 0 batch #: 107  of 300 sample #: 199 reconstruction error: 0.129364\n",
      "Epoch: 0 batch #: 108  of 300 sample #: 199 reconstruction error: 0.052135\n",
      "Epoch: 0 batch #: 109  of 300 sample #: 199 reconstruction error: 0.095999\n",
      "Epoch: 0 batch #: 110  of 300 sample #: 199 reconstruction error: 0.056751\n",
      "Epoch: 0 batch #: 111  of 300 sample #: 199 reconstruction error: 0.120785\n",
      "Epoch: 0 batch #: 112  of 300 sample #: 199 reconstruction error: 0.047073\n",
      "Epoch: 0 batch #: 113  of 300 sample #: 199 reconstruction error: 0.072103\n",
      "Epoch: 0 batch #: 114  of 300 sample #: 199 reconstruction error: 0.082767\n",
      "Epoch: 0 batch #: 115  of 300 sample #: 199 reconstruction error: 0.067314\n",
      "Epoch: 0 batch #: 116  of 300 sample #: 199 reconstruction error: 0.042732\n",
      "Epoch: 0 batch #: 117  of 300 sample #: 199 reconstruction error: 0.041577\n",
      "Epoch: 0 batch #: 118  of 300 sample #: 199 reconstruction error: 0.069734\n",
      "Epoch: 0 batch #: 119  of 300 sample #: 199 reconstruction error: 0.127229\n",
      "Epoch: 0 batch #: 120  of 300 sample #: 199 reconstruction error: 0.086650\n",
      "Epoch: 0 batch #: 121  of 300 sample #: 199 reconstruction error: 0.043153\n",
      "Epoch: 0 batch #: 122  of 300 sample #: 199 reconstruction error: 0.089758\n",
      "Epoch: 0 batch #: 123  of 300 sample #: 199 reconstruction error: 0.059571\n",
      "Epoch: 0 batch #: 124  of 300 sample #: 199 reconstruction error: 0.074454\n",
      "Epoch: 0 batch #: 125  of 300 sample #: 199 reconstruction error: 0.042840\n",
      "Epoch: 0 batch #: 126  of 300 sample #: 199 reconstruction error: 0.073993\n",
      "Epoch: 0 batch #: 127  of 300 sample #: 199 reconstruction error: 0.095267\n",
      "Epoch: 0 batch #: 128  of 300 sample #: 199 reconstruction error: 0.061244\n",
      "Epoch: 0 batch #: 129  of 300 sample #: 199 reconstruction error: 0.056717\n",
      "Epoch: 0 batch #: 130  of 300 sample #: 199 reconstruction error: 0.060403\n",
      "Epoch: 0 batch #: 131  of 300 sample #: 199 reconstruction error: 0.064363\n",
      "Epoch: 0 batch #: 132  of 300 sample #: 199 reconstruction error: 0.052223\n",
      "Epoch: 0 batch #: 133  of 300 sample #: 199 reconstruction error: 0.044630\n",
      "Epoch: 0 batch #: 134  of 300 sample #: 199 reconstruction error: 0.090805\n",
      "Epoch: 0 batch #: 135  of 300 sample #: 199 reconstruction error: 0.095514\n",
      "Epoch: 0 batch #: 136  of 300 sample #: 199 reconstruction error: 0.106476\n",
      "Epoch: 0 batch #: 137  of 300 sample #: 199 reconstruction error: 0.074193\n",
      "Epoch: 0 batch #: 138  of 300 sample #: 199 reconstruction error: 0.077944\n",
      "Epoch: 0 batch #: 139  of 300 sample #: 199 reconstruction error: 0.095819\n",
      "Epoch: 0 batch #: 140  of 300 sample #: 199 reconstruction error: 0.084825\n",
      "Epoch: 0 batch #: 141  of 300 sample #: 199 reconstruction error: 0.089908\n",
      "Epoch: 0 batch #: 142  of 300 sample #: 199 reconstruction error: 0.060916\n",
      "Epoch: 0 batch #: 143  of 300 sample #: 199 reconstruction error: 0.059858\n",
      "Epoch: 0 batch #: 144  of 300 sample #: 199 reconstruction error: 0.063496\n",
      "Epoch: 0 batch #: 145  of 300 sample #: 199 reconstruction error: 0.074119\n",
      "Epoch: 0 batch #: 146  of 300 sample #: 199 reconstruction error: 0.116685\n",
      "Epoch: 0 batch #: 147  of 300 sample #: 199 reconstruction error: 0.065093\n",
      "Epoch: 0 batch #: 148  of 300 sample #: 199 reconstruction error: 0.080962\n",
      "Epoch: 0 batch #: 149  of 300 sample #: 199 reconstruction error: 0.040136\n",
      "Epoch: 0 batch #: 150  of 300 sample #: 199 reconstruction error: 0.039048\n",
      "Epoch: 0 batch #: 151  of 300 sample #: 199 reconstruction error: 0.113224\n",
      "Epoch: 0 batch #: 152  of 300 sample #: 199 reconstruction error: 0.078167\n",
      "Epoch: 0 batch #: 153  of 300 sample #: 199 reconstruction error: 0.060742\n",
      "Epoch: 0 batch #: 154  of 300 sample #: 199 reconstruction error: 0.065954\n",
      "Epoch: 0 batch #: 155  of 300 sample #: 199 reconstruction error: 0.082651\n",
      "Epoch: 0 batch #: 156  of 300 sample #: 199 reconstruction error: 0.085406\n",
      "Epoch: 0 batch #: 157  of 300 sample #: 199 reconstruction error: 0.083895\n",
      "Epoch: 0 batch #: 158  of 300 sample #: 199 reconstruction error: 0.054683\n",
      "Epoch: 0 batch #: 159  of 300 sample #: 199 reconstruction error: 0.064093\n",
      "Epoch: 0 batch #: 160  of 300 sample #: 199 reconstruction error: 0.064481\n",
      "Epoch: 0 batch #: 161  of 300 sample #: 199 reconstruction error: 0.076172\n",
      "Epoch: 0 batch #: 162  of 300 sample #: 199 reconstruction error: 0.095401\n",
      "Epoch: 0 batch #: 163  of 300 sample #: 199 reconstruction error: 0.048876\n",
      "Epoch: 0 batch #: 164  of 300 sample #: 199 reconstruction error: 0.066080\n",
      "Epoch: 0 batch #: 165  of 300 sample #: 199 reconstruction error: 0.087573\n",
      "Epoch: 0 batch #: 166  of 300 sample #: 199 reconstruction error: 0.065547\n",
      "Epoch: 0 batch #: 167  of 300 sample #: 199 reconstruction error: 0.076645\n",
      "Epoch: 0 batch #: 168  of 300 sample #: 199 reconstruction error: 0.052993\n",
      "Epoch: 0 batch #: 169  of 300 sample #: 199 reconstruction error: 0.034020\n",
      "Epoch: 0 batch #: 170  of 300 sample #: 199 reconstruction error: 0.059199\n",
      "Epoch: 0 batch #: 171  of 300 sample #: 199 reconstruction error: 0.031161\n",
      "Epoch: 0 batch #: 172  of 300 sample #: 199 reconstruction error: 0.051982\n",
      "Epoch: 0 batch #: 173  of 300 sample #: 199 reconstruction error: 0.078916\n",
      "Epoch: 0 batch #: 174  of 300 sample #: 199 reconstruction error: 0.109764\n",
      "Epoch: 0 batch #: 175  of 300 sample #: 199 reconstruction error: 0.062809\n",
      "Epoch: 0 batch #: 176  of 300 sample #: 199 reconstruction error: 0.046467\n",
      "Epoch: 0 batch #: 177  of 300 sample #: 199 reconstruction error: 0.028889\n",
      "Epoch: 0 batch #: 178  of 300 sample #: 199 reconstruction error: 0.120946\n",
      "Epoch: 0 batch #: 179  of 300 sample #: 199 reconstruction error: 0.083473\n",
      "Epoch: 0 batch #: 180  of 300 sample #: 199 reconstruction error: 0.095176\n",
      "Epoch: 0 batch #: 181  of 300 sample #: 199 reconstruction error: 0.099959\n",
      "Epoch: 0 batch #: 182  of 300 sample #: 199 reconstruction error: 0.055753\n",
      "Epoch: 0 batch #: 183  of 300 sample #: 199 reconstruction error: 0.105487\n",
      "Epoch: 0 batch #: 184  of 300 sample #: 199 reconstruction error: 0.063003\n",
      "Epoch: 0 batch #: 185  of 300 sample #: 199 reconstruction error: 0.073538\n",
      "Epoch: 0 batch #: 186  of 300 sample #: 199 reconstruction error: 0.112813\n",
      "Epoch: 0 batch #: 187  of 300 sample #: 199 reconstruction error: 0.053196\n",
      "Epoch: 0 batch #: 188  of 300 sample #: 199 reconstruction error: 0.119293\n",
      "Epoch: 0 batch #: 189  of 300 sample #: 199 reconstruction error: 0.066522\n",
      "Epoch: 0 batch #: 190  of 300 sample #: 199 reconstruction error: 0.061437\n",
      "Epoch: 0 batch #: 191  of 300 sample #: 199 reconstruction error: 0.096569\n",
      "Epoch: 0 batch #: 192  of 300 sample #: 199 reconstruction error: 0.131889\n",
      "Epoch: 0 batch #: 193  of 300 sample #: 199 reconstruction error: 0.080235\n",
      "Epoch: 0 batch #: 194  of 300 sample #: 199 reconstruction error: 0.072146\n",
      "Epoch: 0 batch #: 195  of 300 sample #: 199 reconstruction error: 0.048669\n",
      "Epoch: 0 batch #: 196  of 300 sample #: 199 reconstruction error: 0.043407\n",
      "Epoch: 0 batch #: 197  of 300 sample #: 199 reconstruction error: 0.056876\n",
      "Epoch: 0 batch #: 198  of 300 sample #: 199 reconstruction error: 0.090624\n",
      "Epoch: 0 batch #: 199  of 300 sample #: 199 reconstruction error: 0.069395\n",
      "Epoch: 0 batch #: 200  of 300 sample #: 199 reconstruction error: 0.100130\n",
      "Epoch: 0 batch #: 201  of 300 sample #: 199 reconstruction error: 0.082054\n",
      "Epoch: 0 batch #: 202  of 300 sample #: 199 reconstruction error: 0.027848\n",
      "Epoch: 0 batch #: 203  of 300 sample #: 199 reconstruction error: 0.075090\n",
      "Epoch: 0 batch #: 204  of 300 sample #: 199 reconstruction error: 0.053806\n",
      "Epoch: 0 batch #: 205  of 300 sample #: 199 reconstruction error: 0.025047\n",
      "Epoch: 0 batch #: 206  of 300 sample #: 199 reconstruction error: 0.067939\n",
      "Epoch: 0 batch #: 207  of 300 sample #: 199 reconstruction error: 0.073925\n",
      "Epoch: 0 batch #: 208  of 300 sample #: 199 reconstruction error: 0.057246\n",
      "Epoch: 0 batch #: 209  of 300 sample #: 199 reconstruction error: 0.031456\n",
      "Epoch: 0 batch #: 210  of 300 sample #: 199 reconstruction error: 0.107996\n",
      "Epoch: 0 batch #: 211  of 300 sample #: 199 reconstruction error: 0.071976\n",
      "Epoch: 0 batch #: 212  of 300 sample #: 199 reconstruction error: 0.083596\n",
      "Epoch: 0 batch #: 213  of 300 sample #: 199 reconstruction error: 0.103884\n",
      "Epoch: 0 batch #: 214  of 300 sample #: 199 reconstruction error: 0.082301\n",
      "Epoch: 0 batch #: 215  of 300 sample #: 199 reconstruction error: 0.027186\n",
      "Epoch: 0 batch #: 216  of 300 sample #: 199 reconstruction error: 0.094535\n",
      "Epoch: 0 batch #: 217  of 300 sample #: 199 reconstruction error: 0.078065\n",
      "Epoch: 0 batch #: 218  of 300 sample #: 199 reconstruction error: 0.064300\n",
      "Epoch: 0 batch #: 219  of 300 sample #: 199 reconstruction error: 0.066544\n",
      "Epoch: 0 batch #: 220  of 300 sample #: 199 reconstruction error: 0.054429\n",
      "Epoch: 0 batch #: 221  of 300 sample #: 199 reconstruction error: 0.081235\n",
      "Epoch: 0 batch #: 222  of 300 sample #: 199 reconstruction error: 0.094424\n",
      "Epoch: 0 batch #: 223  of 300 sample #: 199 reconstruction error: 0.085118\n",
      "Epoch: 0 batch #: 224  of 300 sample #: 199 reconstruction error: 0.060850\n",
      "Epoch: 0 batch #: 225  of 300 sample #: 199 reconstruction error: 0.067367\n",
      "Epoch: 0 batch #: 226  of 300 sample #: 199 reconstruction error: 0.120324\n",
      "Epoch: 0 batch #: 227  of 300 sample #: 199 reconstruction error: 0.071764\n",
      "Epoch: 0 batch #: 228  of 300 sample #: 199 reconstruction error: 0.067251\n",
      "Epoch: 0 batch #: 229  of 300 sample #: 199 reconstruction error: 0.067046\n",
      "Epoch: 0 batch #: 230  of 300 sample #: 199 reconstruction error: 0.043737\n",
      "Epoch: 0 batch #: 231  of 300 sample #: 199 reconstruction error: 0.032722\n",
      "Epoch: 0 batch #: 232  of 300 sample #: 199 reconstruction error: 0.091232\n",
      "Epoch: 0 batch #: 233  of 300 sample #: 199 reconstruction error: 0.082130\n",
      "Epoch: 0 batch #: 234  of 300 sample #: 199 reconstruction error: 0.029283\n",
      "Epoch: 0 batch #: 235  of 300 sample #: 199 reconstruction error: 0.059581\n",
      "Epoch: 0 batch #: 236  of 300 sample #: 199 reconstruction error: 0.102077\n",
      "Epoch: 0 batch #: 237  of 300 sample #: 199 reconstruction error: 0.082611\n",
      "Epoch: 0 batch #: 238  of 300 sample #: 199 reconstruction error: 0.102836\n",
      "Epoch: 0 batch #: 239  of 300 sample #: 199 reconstruction error: 0.026575\n",
      "Epoch: 0 batch #: 240  of 300 sample #: 199 reconstruction error: 0.099427\n",
      "Epoch: 0 batch #: 241  of 300 sample #: 199 reconstruction error: 0.090729\n",
      "Epoch: 0 batch #: 242  of 300 sample #: 199 reconstruction error: 0.066463\n",
      "Epoch: 0 batch #: 243  of 300 sample #: 199 reconstruction error: 0.062177\n",
      "Epoch: 0 batch #: 244  of 300 sample #: 199 reconstruction error: 0.077527\n",
      "Epoch: 0 batch #: 245  of 300 sample #: 199 reconstruction error: 0.049388\n",
      "Epoch: 0 batch #: 246  of 300 sample #: 199 reconstruction error: 0.108333\n",
      "Epoch: 0 batch #: 247  of 300 sample #: 199 reconstruction error: 0.052943\n",
      "Epoch: 0 batch #: 248  of 300 sample #: 199 reconstruction error: 0.086539\n",
      "Epoch: 0 batch #: 249  of 300 sample #: 199 reconstruction error: 0.044881\n",
      "Epoch: 0 batch #: 250  of 300 sample #: 199 reconstruction error: 0.083050\n",
      "Epoch: 0 batch #: 251  of 300 sample #: 199 reconstruction error: 0.042789\n",
      "Epoch: 0 batch #: 252  of 300 sample #: 199 reconstruction error: 0.070652\n",
      "Epoch: 0 batch #: 253  of 300 sample #: 199 reconstruction error: 0.064223\n",
      "Epoch: 0 batch #: 254  of 300 sample #: 199 reconstruction error: 0.041062\n",
      "Epoch: 0 batch #: 255  of 300 sample #: 199 reconstruction error: 0.075951\n",
      "Epoch: 0 batch #: 256  of 300 sample #: 199 reconstruction error: 0.075554\n",
      "Epoch: 0 batch #: 257  of 300 sample #: 199 reconstruction error: 0.081420\n",
      "Epoch: 0 batch #: 258  of 300 sample #: 199 reconstruction error: 0.098473\n",
      "Epoch: 0 batch #: 259  of 300 sample #: 199 reconstruction error: 0.068120\n",
      "Epoch: 0 batch #: 260  of 300 sample #: 199 reconstruction error: 0.093781\n",
      "Epoch: 0 batch #: 261  of 300 sample #: 199 reconstruction error: 0.031286\n",
      "Epoch: 0 batch #: 262  of 300 sample #: 199 reconstruction error: 0.046250\n",
      "Epoch: 0 batch #: 263  of 300 sample #: 199 reconstruction error: 0.085010\n",
      "Epoch: 0 batch #: 264  of 300 sample #: 199 reconstruction error: 0.081617\n",
      "Epoch: 0 batch #: 265  of 300 sample #: 199 reconstruction error: 0.071289\n",
      "Epoch: 0 batch #: 266  of 300 sample #: 199 reconstruction error: 0.031967\n",
      "Epoch: 0 batch #: 267  of 300 sample #: 199 reconstruction error: 0.059943\n",
      "Epoch: 0 batch #: 268  of 300 sample #: 199 reconstruction error: 0.024975\n",
      "Epoch: 0 batch #: 269  of 300 sample #: 199 reconstruction error: 0.084861\n",
      "Epoch: 0 batch #: 270  of 300 sample #: 199 reconstruction error: 0.075459\n",
      "Epoch: 0 batch #: 271  of 300 sample #: 199 reconstruction error: 0.047154\n",
      "Epoch: 0 batch #: 272  of 300 sample #: 199 reconstruction error: 0.064982\n",
      "Epoch: 0 batch #: 273  of 300 sample #: 199 reconstruction error: 0.064571\n",
      "Epoch: 0 batch #: 274  of 300 sample #: 199 reconstruction error: 0.042262\n",
      "Epoch: 0 batch #: 275  of 300 sample #: 199 reconstruction error: 0.092393\n",
      "Epoch: 0 batch #: 276  of 300 sample #: 199 reconstruction error: 0.074077\n",
      "Epoch: 0 batch #: 277  of 300 sample #: 199 reconstruction error: 0.080247\n",
      "Epoch: 0 batch #: 278  of 300 sample #: 199 reconstruction error: 0.044889\n",
      "Epoch: 0 batch #: 279  of 300 sample #: 199 reconstruction error: 0.052546\n",
      "Epoch: 0 batch #: 280  of 300 sample #: 199 reconstruction error: 0.062588\n",
      "Epoch: 0 batch #: 281  of 300 sample #: 199 reconstruction error: 0.080617\n",
      "Epoch: 0 batch #: 282  of 300 sample #: 199 reconstruction error: 0.088914\n",
      "Epoch: 0 batch #: 283  of 300 sample #: 199 reconstruction error: 0.071381\n",
      "Epoch: 0 batch #: 284  of 300 sample #: 199 reconstruction error: 0.055024\n",
      "Epoch: 0 batch #: 285  of 300 sample #: 199 reconstruction error: 0.079471\n",
      "Epoch: 0 batch #: 286  of 300 sample #: 199 reconstruction error: 0.086615\n",
      "Epoch: 0 batch #: 287  of 300 sample #: 199 reconstruction error: 0.071805\n",
      "Epoch: 0 batch #: 288  of 300 sample #: 199 reconstruction error: 0.031184\n",
      "Epoch: 0 batch #: 289  of 300 sample #: 199 reconstruction error: 0.077794\n",
      "Epoch: 0 batch #: 290  of 300 sample #: 199 reconstruction error: 0.105341\n",
      "Epoch: 0 batch #: 291  of 300 sample #: 199 reconstruction error: 0.114220\n",
      "Epoch: 0 batch #: 292  of 300 sample #: 199 reconstruction error: 0.064275\n",
      "Epoch: 0 batch #: 293  of 300 sample #: 199 reconstruction error: 0.061377\n",
      "Epoch: 0 batch #: 294  of 300 sample #: 199 reconstruction error: 0.088113\n",
      "Epoch: 0 batch #: 295  of 300 sample #: 199 reconstruction error: 0.083450\n",
      "Epoch: 0 batch #: 296  of 300 sample #: 199 reconstruction error: 0.025803\n",
      "Epoch: 0 batch #: 297  of 300 sample #: 199 reconstruction error: 0.116396\n",
      "Epoch: 0 batch #: 298  of 300 sample #: 199 reconstruction error: 0.043759\n",
      "Epoch: 0 batch #: 299  of 300 sample #: 199 reconstruction error: 0.058019\n",
      "Epoch: 0 batch #: 300  of 300 sample #: 199 reconstruction error: 0.094054\n"
     ]
    }
   ],
   "source": [
    "#Parameters\n",
    "alpha = 0.01\n",
    "epochs = 1\n",
    "batchsize = 200\n",
    "weights = []\n",
    "errors = []\n",
    "batch_number = 0\n",
    "K = 1\n",
    "\n",
    "#creating datasets\n",
    "train_ds = \\\n",
    "    tf.data.Dataset.from_tensor_slices((trX, trY)).batch(batchsize)\n",
    "\n",
    "for epoch in range(epochs):\n",
    "    for batch_x, batch_y in train_ds:\n",
    "        batch_number += 1\n",
    "        for i_sample in range(batchsize):           \n",
    "            for k in range(K):\n",
    "                v0_state = batch_x[i_sample]\n",
    "                h0_state = hidden_layer(v0_state, W, hb)\n",
    "                v1_state = reconstructed_output(h0_state, W, vb)\n",
    "                h1_state = hidden_layer(v1_state, W, hb)\n",
    "\n",
    "                delta_W = tf.matmul(tf.transpose([v0_state]), h0_state) - tf.matmul(tf.transpose([v1_state]), h1_state)\n",
    "                W = W + alpha * delta_W\n",
    "\n",
    "                vb = vb + alpha * tf.reduce_mean(v0_state - v1_state, 0)\n",
    "                hb = hb + alpha * tf.reduce_mean(h0_state - h1_state, 0) \n",
    "\n",
    "                v0_state = v1_state\n",
    "\n",
    "            if i_sample == batchsize-1:\n",
    "                err = error(batch_x[i_sample], v1_state)\n",
    "                errors.append(err)\n",
    "                weights.append(W)\n",
    "                print ( 'Epoch: %d' % epoch, \n",
    "                       \"batch #: %i \" % batch_number, \"of %i\" % int(60e3/batchsize), \n",
    "                       \"sample #: %i\" % i_sample,\n",
    "                       'reconstruction error: %f' % err)\n",
    "\n"
   ]
  },
  {
   "cell_type": "markdown",
   "metadata": {},
   "source": [
    "Let's take a look at the errors at the end of each batch:\n"
   ]
  },
  {
   "cell_type": "code",
   "execution_count": 21,
   "metadata": {},
   "outputs": [
    {
     "data": {
      "image/png": "[encoded data removed]",
      "text/plain": [
       "<Figure size 640x480 with 1 Axes>"
      ]
     },
     "metadata": {},
     "output_type": "display_data"
    }
   ],
   "source": [
    "plt.plot(errors)\n",
    "plt.xlabel(\"Batch Number\")\n",
    "plt.ylabel(\"Error\")\n",
    "plt.show()"
   ]
  },
  {
   "cell_type": "markdown",
   "metadata": {},
   "source": [
    "What is the final weight matrix $W$ after training?\n"
   ]
  },
  {
   "cell_type": "code",
   "execution_count": 22,
   "metadata": {},
   "outputs": [
    {
     "name": "stdout",
     "output_type": "stream",
     "text": [
      "[[-0.23000003 -0.24000004 -0.45999983 ... -0.27       -0.3799999\n",
      "  -0.28      ]\n",
      " [-0.23000003 -0.25000003 -0.5099998  ... -0.28       -0.36999992\n",
      "  -0.29999998]\n",
      " [-0.22000003 -0.26000002 -0.46999982 ... -0.25000003 -0.35999992\n",
      "  -0.25000003]\n",
      " ...\n",
      " [-0.20000002 -0.17       -0.3899999  ... -0.28       -0.34999993\n",
      "  -0.28      ]\n",
      " [-0.16       -0.20000002 -0.4799998  ... -0.29       -0.43999985\n",
      "  -0.24000004]\n",
      " [-0.23000003 -0.20000002 -0.43999985 ... -0.29999998 -0.40999988\n",
      "  -0.29999998]]\n"
     ]
    }
   ],
   "source": [
    "print(W.numpy()) # a weight matrix of shape (50,784)"
   ]
  },
  {
   "cell_type": "markdown",
   "metadata": {},
   "source": [
    "<a id=\"ref5\"></a>\n",
    "<h3>Learned features</h3> \n"
   ]
  },
  {
   "cell_type": "markdown",
   "metadata": {},
   "source": [
    "We can take each hidden unit and visualize the connections between that hidden unit and each element in the input vector. In our case, we have 50 hidden units. Lets visualize those.\n"
   ]
  },
  {
   "cell_type": "markdown",
   "metadata": {},
   "source": [
    "Let's plot the current weights:\n",
    "<b>tile_raster_images</b> helps in generating an easy to grasp image from a set of samples or weights. It transforms the <b>uw</b> (with one flattened image per row of size 784), into an array (of size $28\\times28$) in which images are reshaped and laid out like tiles on a floor.\n"
   ]
  },
  {
   "cell_type": "code",
   "execution_count": 23,
   "metadata": {},
   "outputs": [
    {
     "data": {
      "image/png": "[encoded data removed]",
      "text/plain": [
       "<Figure size 1800x1800 with 1 Axes>"
      ]
     },
     "metadata": {},
     "output_type": "display_data"
    }
   ],
   "source": [
    "tile_raster_images(X=W.numpy().T, img_shape=(28, 28), tile_shape=(5, 10), tile_spacing=(1, 1))\n",
    "import matplotlib.pyplot as plt\n",
    "from PIL import Image\n",
    "%matplotlib inline\n",
    "image = Image.fromarray(tile_raster_images(X=W.numpy().T, img_shape=(28, 28) ,tile_shape=(5, 10), tile_spacing=(1, 1)))\n",
    "### Plot image\n",
    "plt.rcParams['figure.figsize'] = (18.0, 18.0)\n",
    "imgplot = plt.imshow(image)\n",
    "imgplot.set_cmap('gray')  "
   ]
  },
  {
   "cell_type": "markdown",
   "metadata": {},
   "source": [
    "Each tile in the above visualization corresponds to a vector of connections between a hidden unit and visible layer's units. \n"
   ]
  },
  {
   "cell_type": "markdown",
   "metadata": {},
   "source": [
    "Let's look at one of the learned weights corresponding to one of hidden units for example. In this particular square, the gray color represents weight = 0, and the whiter it is, the more positive the weights are (closer to 1). Conversely, the darker pixels are, the more negative the weights. The positive pixels will increase the probability of activation in hidden units (after multiplying by input/visible pixels), and negative pixels will decrease the probability of a unit hidden to be 1 (activated). So, why is this important?  So we can see that this specific square (hidden unit) can detect a feature (e.g. a \"/\" shape) and if it exists in the input.\n"
   ]
  },
  {
   "cell_type": "code",
   "execution_count": 24,
   "metadata": {},
   "outputs": [
    {
     "data": {
      "image/png": "[encoded data removed]",
      "text/plain": [
       "<Figure size 400x400 with 1 Axes>"
      ]
     },
     "metadata": {},
     "output_type": "display_data"
    }
   ],
   "source": [
    "from PIL import Image\n",
    "image = Image.fromarray(tile_raster_images(X =W.numpy().T[10:11], img_shape=(28, 28),tile_shape=(1, 1), tile_spacing=(1, 1)))\n",
    "### Plot image\n",
    "plt.rcParams['figure.figsize'] = (4.0, 4.0)\n",
    "imgplot = plt.imshow(image)\n",
    "imgplot.set_cmap('gray')  "
   ]
  },
  {
   "cell_type": "markdown",
   "metadata": {},
   "source": [
    "Let's look at the reconstruction of an image now. Imagine that we have a destructed image of figure 3. Lets see if our trained network can fix it:\n",
    "\n",
    "First we plot the image:\n"
   ]
  },
  {
   "cell_type": "code",
   "execution_count": 25,
   "metadata": {},
   "outputs": [
    {
     "name": "stdout",
     "output_type": "stream",
     "text": [
      "--2024-05-25 02:21:46--  https://ibm.box.com/shared/static/vvm1b63uvuxq88vbw9znpwu5ol380mco.jpg\n",
      "Resolving ibm.box.com (ibm.box.com)... 74.112.186.144, 74.112.186.144\n",
      "Connecting to ibm.box.com (ibm.box.com)|74.112.186.144|:443... connected.\n",
      "HTTP request sent, awaiting response... 301 Moved Permanently\n",
      "Location: /public/static/vvm1b63uvuxq88vbw9znpwu5ol380mco.jpg [following]\n",
      "--2024-05-25 02:21:46--  https://ibm.box.com/public/static/vvm1b63uvuxq88vbw9znpwu5ol380mco.jpg\n",
      "Reusing existing connection to ibm.box.com:443.\n",
      "HTTP request sent, awaiting response... 301 Moved Permanently\n",
      "Location: https://ibm.ent.box.com/public/static/vvm1b63uvuxq88vbw9znpwu5ol380mco.jpg [following]\n",
      "--2024-05-25 02:21:46--  https://ibm.ent.box.com/public/static/vvm1b63uvuxq88vbw9znpwu5ol380mco.jpg\n",
      "Resolving ibm.ent.box.com (ibm.ent.box.com)... 74.112.186.144, 74.112.186.144\n",
      "Connecting to ibm.ent.box.com (ibm.ent.box.com)|74.112.186.144|:443... connected.\n",
      "HTTP request sent, awaiting response... 302 Found\n",
      "Location: https://public.boxcloud.com/d/1/b1!7Fhrn2ojc9Q3Pt3vxVY62YrpdDVj2Cp9Lr9_3D3WfYK1j9_BkDwX7PYWr-6r7LGpBTuZqqsb2KvRSZnwRGTvCb_tNZfFqk5466s94o6IgYsiO5ljsleXrzJHrNPcDvSmNLP0PRaGNHHcaHHAF40FxozbXVJiTs0mTquDLtmcRPqLfjgSqCjpsF5w8c87eWfgXJGZFfsPcsWl2zNQG4Nm2HbR-_DAV7UwcIZmZD9u89ujkpg9-3kc6AkqnwoKcAjI8LMgdU2XZ-s2aUARKT5ujGP0kvNeQtJ2SkBQwQ5NHw1JRNujfjbb3qQ_gojUdSJ62FR8FtWTO1x5K5gtnpwYabrn8B9QmnRCjOAX-O-WQNW8ATZ2sI0KH0YCAg2gfv2chqoLjgyo0j2gj6crHl7HzHJfiFT5q1S_yYEHvSdEA3OsdrBrw3C_olkwhB_zNrKL7tKqRHYaO7KRzCF4fMheJ97_I5s04cxSY5G6MVJ467F_r529AupN_Xr84y1KKTLBQlLlulyuwIUyUw_eUQY5W9VziOEAHKjTRKkEPCyGK_d4RSLUkY1aZS6kkEaUUHCN8xNAUj8zGUMctEIBnVUYo6J1-p2jXEAeNdAfwKdLarkQq_idLVf8V0Ggoztlxh8XhdvZDR7cePn8s1rXDzc1wXmlV30VianPNT7HREkw5r3SIRynD-lsrm-_YWqnaTPopwqaEoHe5Qh8hmSBWOFAgWjUi7wh4SHL96pwSULp8wuwEbJk0ld7pGF-NMOpXbvS_cL6WAd-Z_0TEz-SFvlpFQVfIGLS7rpSy3--wMOqNDcW1WRwPXCMBNAMN5hfvRelBYgW706A2JYmIqdph77MFLJVYbNM3-jWA0wzeQNXb7lucDJffT4TA4yTgS-C2En1zKmaPW6jQNwommS8M05GX7Y6ht8OIaru9yGcC-fR5Tir8zsGuZNzHLJ0GQNLS4E1jvavL5tUBdh5zEIyFN2YPZdL3OZp9I-iUiJiM4bUh5rgRAQeEfElm8gR9UKbAYfYPuwy0dGWEeLuSGPW7-gMZvYtCdWUNelWEK0GAFyL00xm1mKa6JhB-f3_jVPk_0HEphtvghZfiGnJ4dPrXroHfJj2jLna9QQTolcXIAjjhS6CiyIQTO5Wemz4VJkwS7nlq9XOCofn_btztmxX0pGOEHdYpYqh-jYeBaWhltwZH0ETQ1GrpkdqQxENC2D_TYV8gwMt2pf-s3Vh1iaXxhc4aDV6AWxPo1NrZBIgunddDuSFNsec7_XWGd5g3GCPWPX4Y3Q3cMn9aCTKh1pi0DV5nOgONvA-dW0uvAhN_WPeQRlWvHkaF08hvuk25eatMUB73YSa7JQXnfm7_DP0Zjb--2Ph0Lteb0rAKFbcibD_iE5_DRABlJhidwC-BjgLjl2BxGJmyMja3ZVeZVCTN1bNlQ../download [following]\n",
      "--2024-05-25 02:21:47--  https://public.boxcloud.com/d/1/b1!7Fhrn2ojc9Q3Pt3vxVY62YrpdDVj2Cp9Lr9_3D3WfYK1j9_BkDwX7PYWr-6r7LGpBTuZqqsb2KvRSZnwRGTvCb_tNZfFqk5466s94o6IgYsiO5ljsleXrzJHrNPcDvSmNLP0PRaGNHHcaHHAF40FxozbXVJiTs0mTquDLtmcRPqLfjgSqCjpsF5w8c87eWfgXJGZFfsPcsWl2zNQG4Nm2HbR-_DAV7UwcIZmZD9u89ujkpg9-3kc6AkqnwoKcAjI8LMgdU2XZ-s2aUARKT5ujGP0kvNeQtJ2SkBQwQ5NHw1JRNujfjbb3qQ_gojUdSJ62FR8FtWTO1x5K5gtnpwYabrn8B9QmnRCjOAX-O-WQNW8ATZ2sI0KH0YCAg2gfv2chqoLjgyo0j2gj6crHl7HzHJfiFT5q1S_yYEHvSdEA3OsdrBrw3C_olkwhB_zNrKL7tKqRHYaO7KRzCF4fMheJ97_I5s04cxSY5G6MVJ467F_r529AupN_Xr84y1KKTLBQlLlulyuwIUyUw_eUQY5W9VziOEAHKjTRKkEPCyGK_d4RSLUkY1aZS6kkEaUUHCN8xNAUj8zGUMctEIBnVUYo6J1-p2jXEAeNdAfwKdLarkQq_idLVf8V0Ggoztlxh8XhdvZDR7cePn8s1rXDzc1wXmlV30VianPNT7HREkw5r3SIRynD-lsrm-_YWqnaTPopwqaEoHe5Qh8hmSBWOFAgWjUi7wh4SHL96pwSULp8wuwEbJk0ld7pGF-NMOpXbvS_cL6WAd-Z_0TEz-SFvlpFQVfIGLS7rpSy3--wMOqNDcW1WRwPXCMBNAMN5hfvRelBYgW706A2JYmIqdph77MFLJVYbNM3-jWA0wzeQNXb7lucDJffT4TA4yTgS-C2En1zKmaPW6jQNwommS8M05GX7Y6ht8OIaru9yGcC-fR5Tir8zsGuZNzHLJ0GQNLS4E1jvavL5tUBdh5zEIyFN2YPZdL3OZp9I-iUiJiM4bUh5rgRAQeEfElm8gR9UKbAYfYPuwy0dGWEeLuSGPW7-gMZvYtCdWUNelWEK0GAFyL00xm1mKa6JhB-f3_jVPk_0HEphtvghZfiGnJ4dPrXroHfJj2jLna9QQTolcXIAjjhS6CiyIQTO5Wemz4VJkwS7nlq9XOCofn_btztmxX0pGOEHdYpYqh-jYeBaWhltwZH0ETQ1GrpkdqQxENC2D_TYV8gwMt2pf-s3Vh1iaXxhc4aDV6AWxPo1NrZBIgunddDuSFNsec7_XWGd5g3GCPWPX4Y3Q3cMn9aCTKh1pi0DV5nOgONvA-dW0uvAhN_WPeQRlWvHkaF08hvuk25eatMUB73YSa7JQXnfm7_DP0Zjb--2Ph0Lteb0rAKFbcibD_iE5_DRABlJhidwC-BjgLjl2BxGJmyMja3ZVeZVCTN1bNlQ../download\n",
      "Resolving public.boxcloud.com (public.boxcloud.com)... 74.112.186.130, 74.112.186.130\n",
      "Connecting to public.boxcloud.com (public.boxcloud.com)|74.112.186.130|:443... connected.\n",
      "HTTP request sent, awaiting response... 200 OK\n",
      "Length: 24383 (24K) [image/jpeg]\n",
      "Saving to: ‘destructed3.jpg’\n",
      "\n",
      "destructed3.jpg     100%[===================>]  23.81K  --.-KB/s    in 0.002s  \n",
      "\n",
      "2024-05-25 02:21:48 (13.3 MB/s) - ‘destructed3.jpg’ saved [24383/24383]\n",
      "\n"
     ]
    },
    {
     "data": {
      "image/png": "[encoded data removed]",
      "text/plain": [
       "<PIL.JpegImagePlugin.JpegImageFile image mode=RGB size=181x181 at 0x7FF1A84BEA10>"
      ]
     },
     "execution_count": 25,
     "metadata": {},
     "output_type": "execute_result"
    }
   ],
   "source": [
    "!wget -O destructed3.jpg  https://ibm.box.com/shared/static/vvm1b63uvuxq88vbw9znpwu5ol380mco.jpg\n",
    "img = Image.open('destructed3.jpg')\n",
    "img"
   ]
  },
  {
   "cell_type": "markdown",
   "metadata": {},
   "source": [
    "Now let's pass this image through the neural net:\n"
   ]
  },
  {
   "cell_type": "code",
   "execution_count": 26,
   "metadata": {},
   "outputs": [],
   "source": [
    "# convert the image to a 1d numpy array\n",
    "sample_case = np.array(img.convert('I').resize((28,28))).ravel().reshape((1, -1))/255.0\n",
    "\n",
    "sample_case = tf.cast(sample_case, dtype=tf.float32)"
   ]
  },
  {
   "cell_type": "markdown",
   "metadata": {},
   "source": [
    "Feed the sample case into the network and reconstruct the output:\n"
   ]
  },
  {
   "cell_type": "code",
   "execution_count": 27,
   "metadata": {},
   "outputs": [
    {
     "name": "stdout",
     "output_type": "stream",
     "text": [
      "Probability nodes in hidden layer: tf.Tensor(\n",
      "[[3.0690796e-08 5.6499683e-14 8.5393311e-03 8.8865173e-09 7.3941298e-02\n",
      "  1.3718781e-01 1.7677076e-14 2.8418809e-11 1.1741841e-12 9.9997109e-01\n",
      "  1.0000000e+00 1.2572417e-07 1.0000000e+00 1.7120955e-07 7.1057972e-11\n",
      "  1.0000000e+00 7.6203358e-12 9.9974382e-01 3.9207438e-07 2.1916731e-13\n",
      "  1.8096926e-04 6.9583984e-05 1.4443526e-10 9.9991953e-01 9.1383704e-08\n",
      "  9.4747233e-01 1.0943203e-08 9.9999255e-01 1.6184300e-08 2.8800033e-03\n",
      "  9.9999517e-01 9.9999785e-01 9.9949062e-01 9.9981534e-01 9.9995655e-01\n",
      "  2.0545392e-01 9.9720605e-12 1.3808254e-15 9.9858373e-01 1.6502971e-08\n",
      "  7.5394269e-03 9.9999934e-01 1.0000000e+00 2.1382071e-01 6.1882794e-01\n",
      "  2.1834947e-07 2.1396928e-11 1.8362734e-02 5.9603435e-01 1.4541972e-04]], shape=(1, 50), dtype=float32)\n",
      "activated nodes in hidden layer: tf.Tensor(\n",
      "[[0. 0. 0. 0. 0. 0. 0. 0. 0. 1. 1. 0. 1. 0. 0. 1. 0. 1. 0. 0. 0. 0. 0. 1.\n",
      "  0. 1. 0. 1. 0. 0. 1. 1. 1. 1. 1. 0. 0. 0. 1. 0. 0. 1. 1. 0. 1. 0. 0. 0.\n",
      "  1. 0.]], shape=(1, 50), dtype=float32)\n",
      "tf.Tensor(\n",
      "[[2.74014659e-04 2.03009433e-04 4.38349438e-04 2.74014397e-04\n",
      "  1.38839328e-04 3.12043529e-04 2.52952741e-04 3.44850210e-04\n",
      "  1.67886450e-04 3.12043849e-04 1.93110594e-04 3.41420004e-04\n",
      "  2.86505325e-04 2.19698515e-04 2.40449299e-04 1.46317674e-04\n",
      "  3.02824395e-04 1.74736851e-04 3.58919118e-04 2.96829705e-04\n",
      "  2.88059673e-04 3.69845337e-04 1.64562545e-04 2.24355419e-04\n",
      "  2.99811771e-04 2.76767591e-04 4.70118772e-04 3.08939838e-04\n",
      "  2.99811771e-04 4.25399892e-04 4.08726599e-04 2.99812062e-04\n",
      "  3.67317203e-04 2.60695000e-04 3.19495855e-04 2.78247608e-04\n",
      "  2.82756431e-04 3.00883577e-04 3.15624347e-04 2.53329956e-04\n",
      "  2.30390287e-04 2.09494625e-04 3.02611123e-04 1.75898807e-04\n",
      "  4.79010661e-04 6.75708288e-04 3.11262091e-04 5.99837396e-04\n",
      "  4.36497678e-04 3.05255817e-04 2.84100533e-04 1.76977861e-04\n",
      "  2.07109726e-04 3.48314934e-04 4.12832713e-04 2.85194197e-04\n",
      "  2.00989816e-04 2.40619018e-04 3.44012893e-04 2.86135182e-04\n",
      "  4.03315615e-04 2.52526690e-04 3.74675961e-04 2.95703561e-04\n",
      "  1.89964499e-04 1.10372006e-04 1.19671357e-04 3.31172232e-05\n",
      "  2.94174752e-05 2.94082747e-05 3.93511400e-05 5.61175511e-05\n",
      "  1.55914546e-04 4.58486065e-05 3.70275375e-05 3.90819878e-05\n",
      "  4.21495024e-05 8.94641780e-05 3.69657821e-04 2.39217945e-04\n",
      "  5.09193866e-04 3.56688630e-04 2.52952508e-04 2.09190621e-04\n",
      "  2.88059411e-04 2.60654226e-04 3.37415055e-04 4.09095315e-04\n",
      "  2.68706382e-04 3.09412921e-04 4.30753338e-04 3.60654376e-04\n",
      "  6.52776798e-05 2.40932597e-04 8.77346902e-05 6.70870650e-05\n",
      "  1.36541086e-04 7.99904665e-05 3.01808119e-04 1.39693380e-03\n",
      "  1.49402756e-03 1.80473598e-03 8.49644712e-04 4.21058387e-04\n",
      "  1.01764344e-04 1.13062284e-04 1.05480860e-04 4.19045449e-04\n",
      "  3.19533661e-04 2.12397703e-04 4.21086501e-04 3.21543834e-04\n",
      "  2.09190825e-04 2.31386206e-04 3.42989893e-04 2.00753857e-04\n",
      "  2.87889998e-04 5.66790113e-04 5.10493817e-04 5.46827097e-04\n",
      "  4.99846356e-04 4.57564718e-04 5.75080980e-04 6.47993060e-04\n",
      "  1.44499389e-03 7.44075608e-03 4.62910682e-02 1.04767822e-01\n",
      "  1.15915276e-01 1.11326136e-01 2.48920601e-02 5.05955424e-03\n",
      "  8.52498459e-04 3.95474141e-04 7.92656210e-04 8.73707235e-04\n",
      "  1.56471669e-03 1.40052894e-03 4.16326773e-04 3.35581688e-04\n",
      "  2.19913956e-04 2.13415755e-04 3.16516293e-04 3.72085022e-04\n",
      "  7.12139183e-04 8.36845895e-04 1.05336797e-03 3.07777408e-03\n",
      "  3.98757495e-03 5.63456770e-03 1.37435421e-02 2.24464685e-02\n",
      "  1.00271508e-01 3.05346727e-01 8.08681488e-01 8.36184263e-01\n",
      "  8.83673549e-01 8.15215826e-01 6.51629031e-01 1.91449583e-01\n",
      "  3.29426043e-02 9.01102647e-03 4.15771035e-03 4.21777042e-03\n",
      "  3.14438855e-03 3.93346930e-03 1.55008014e-03 2.82014458e-04\n",
      "  2.50436657e-04 2.10424900e-04 2.94361584e-04 7.12446636e-04\n",
      "  1.18605804e-03 1.41753966e-03 1.71184831e-03 3.73001350e-03\n",
      "  8.94797035e-03 1.78430229e-02 6.45890385e-02 2.55603999e-01\n",
      "  7.69318223e-01 9.39810693e-01 9.72768545e-01 9.90460157e-01\n",
      "  9.84930873e-01 9.85381007e-01 9.53855574e-01 8.25388014e-01\n",
      "  3.96111637e-01 6.38914034e-02 1.67040136e-02 6.38279645e-03\n",
      "  6.73175137e-03 4.29982506e-03 2.05145427e-03 3.29726521e-04\n",
      "  2.33573504e-04 3.76339827e-04 5.46052121e-04 7.09744811e-04\n",
      "  1.21517084e-03 2.71811173e-03 3.17521160e-03 4.81880177e-03\n",
      "  1.91551577e-02 5.48934937e-02 4.31040496e-01 7.23046303e-01\n",
      "  9.66939509e-01 9.86947715e-01 9.88094509e-01 9.72256780e-01\n",
      "  9.43101585e-01 9.04497564e-01 9.30118382e-01 8.25203836e-01\n",
      "  8.46365035e-01 3.07345778e-01 9.92270485e-02 1.22403875e-02\n",
      "  4.42904420e-03 1.31614786e-03 1.57005503e-03 4.32224653e-04\n",
      "  1.79881128e-04 4.71706473e-04 4.95044922e-04 5.70535311e-04\n",
      "  8.44759110e-04 9.42384766e-04 1.21966086e-03 1.20261908e-02\n",
      "  4.56783809e-02 1.99585408e-01 6.75953448e-01 9.18727994e-01\n",
      "  9.18580413e-01 9.14730668e-01 8.43818486e-01 5.54870665e-01\n",
      "  3.33556116e-01 4.09673542e-01 4.71417785e-01 7.54920602e-01\n",
      "  7.89698660e-01 7.06449568e-01 1.76706910e-01 4.00807261e-02\n",
      "  5.19884890e-03 2.61282292e-03 1.65793335e-03 5.08774712e-04\n",
      "  3.36899509e-04 3.68239998e-04 3.84813960e-04 1.27648737e-03\n",
      "  1.15280540e-03 1.41232088e-03 3.55333951e-03 1.55437505e-02\n",
      "  8.58271271e-02 4.72074687e-01 6.12828374e-01 7.00416923e-01\n",
      "  7.25739598e-01 2.90060908e-01 1.71077386e-01 4.40121591e-02\n",
      "  2.79091410e-02 6.88076988e-02 2.66392171e-01 6.46064341e-01\n",
      "  8.34058344e-01 7.79503644e-01 1.57322839e-01 3.55323926e-02\n",
      "  8.28159042e-03 1.78365770e-03 1.09930697e-03 3.66712600e-04\n",
      "  1.13101320e-04 7.01035431e-04 6.44238607e-04 8.45350965e-04\n",
      "  1.13714999e-03 2.82175932e-03 6.03088923e-03 1.58552825e-02\n",
      "  1.08425289e-01 1.59738958e-01 1.79150969e-01 1.41974002e-01\n",
      "  8.58768299e-02 2.81652939e-02 1.92150567e-02 1.35562066e-02\n",
      "  3.36180627e-02 8.85121673e-02 2.50985801e-01 6.73862815e-01\n",
      "  8.58059525e-01 6.46978319e-01 1.78885177e-01 2.98038255e-02\n",
      "  6.83350116e-03 1.89285271e-03 8.40986671e-04 2.80053384e-04\n",
      "  1.83932192e-04 3.74338211e-04 7.81936338e-04 7.61763484e-04\n",
      "  7.49125087e-04 2.64543970e-03 3.19343177e-03 1.50584774e-02\n",
      "  5.29739112e-02 5.79608232e-02 1.79511216e-02 1.74612105e-02\n",
      "  2.35491674e-02 4.62698564e-02 4.84671667e-02 6.57939762e-02\n",
      "  4.94764633e-02 2.19410002e-01 3.38269353e-01 8.34382236e-01\n",
      "  6.53739810e-01 2.36116454e-01 3.34098376e-02 1.74187534e-02\n",
      "  2.30665016e-03 1.47482753e-03 5.12518163e-04 2.97668827e-04\n",
      "  3.88404413e-04 3.71225469e-04 6.48646150e-04 4.08599968e-04\n",
      "  6.94940332e-04 5.12187695e-03 1.23181501e-02 1.78877842e-02\n",
      "  2.86286846e-02 1.92247108e-02 5.43298991e-03 1.39862811e-02\n",
      "  9.35173184e-02 2.94081867e-01 4.89455670e-01 5.84715486e-01\n",
      "  4.27923560e-01 5.01685917e-01 5.88918686e-01 6.48746192e-01\n",
      "  3.50416094e-01 3.73825021e-02 8.38340912e-03 2.03939644e-03\n",
      "  1.78199110e-03 4.72077110e-04 4.38006537e-04 2.75199098e-04\n",
      "  2.97960738e-04 2.00572656e-04 4.80796996e-04 3.46381392e-04\n",
      "  1.45520980e-03 2.65556900e-03 1.52860442e-02 1.38664916e-02\n",
      "  2.27838214e-02 1.47736454e-02 1.60502046e-02 1.97912246e-01\n",
      "  2.89510399e-01 7.71529913e-01 7.35136390e-01 7.13126183e-01\n",
      "  5.79184711e-01 7.72266626e-01 7.08290875e-01 3.40099573e-01\n",
      "  3.99981514e-02 9.19712614e-03 1.64838415e-03 1.18754571e-03\n",
      "  1.01734255e-03 5.83401881e-04 3.52532545e-04 2.68990931e-04\n",
      "  3.57654673e-04 3.20612337e-04 3.02907254e-04 5.29113458e-04\n",
      "  1.14542013e-03 1.69815007e-03 6.51443703e-03 9.31854453e-03\n",
      "  7.79166864e-03 1.19489934e-02 3.07647921e-02 3.59462172e-01\n",
      "  7.08024859e-01 8.77237201e-01 6.98895216e-01 6.96268976e-01\n",
      "  8.61721039e-01 8.61770391e-01 7.26819217e-01 1.98467553e-01\n",
      "  1.13330884e-02 1.66103791e-03 1.54604262e-03 7.12535693e-04\n",
      "  5.52884594e-04 5.92363474e-04 3.71633680e-04 4.31107823e-04\n",
      "  3.42869258e-04 3.48096481e-04 5.26836258e-04 8.73187964e-04\n",
      "  1.30596978e-03 2.62591545e-03 2.05463707e-03 3.48816137e-03\n",
      "  5.09580877e-03 1.20651089e-02 4.08277102e-02 1.33477673e-01\n",
      "  3.95885259e-01 6.33002520e-01 4.51060236e-01 6.45202994e-01\n",
      "  6.02462530e-01 8.01901162e-01 7.13226855e-01 9.24009159e-02\n",
      "  4.83229849e-03 1.20739336e-03 7.01781421e-04 7.90228543e-04\n",
      "  4.08521708e-04 1.32661255e-04 2.99436448e-04 2.38674111e-04\n",
      "  2.72407720e-04 2.65699811e-04 7.47012149e-04 1.90085860e-03\n",
      "  2.77533429e-03 1.47802324e-03 5.46581019e-03 1.98185188e-03\n",
      "  3.78150004e-03 4.29203780e-03 1.66812297e-02 4.86828573e-02\n",
      "  1.53133497e-01 1.14998534e-01 1.26075521e-01 1.35588631e-01\n",
      "  4.87964213e-01 7.61570454e-01 5.27636051e-01 6.00440837e-02\n",
      "  5.47432946e-03 6.82495418e-04 7.01977347e-04 6.68002991e-04\n",
      "  5.57892257e-04 1.01919628e-04 4.35934257e-04 2.23784329e-04\n",
      "  2.60654226e-04 2.55494349e-04 4.86198842e-04 6.37511956e-03\n",
      "  8.31051078e-03 2.73964019e-03 5.96137345e-03 4.62586107e-03\n",
      "  1.87210285e-03 3.57842166e-03 6.80345809e-03 2.11299546e-02\n",
      "  3.96793857e-02 7.35834017e-02 8.59342515e-02 1.38166770e-01\n",
      "  4.96681243e-01 4.63147849e-01 4.59434330e-01 8.90616849e-02\n",
      "  8.45095515e-03 1.61180075e-03 7.97946064e-04 1.22728001e-03\n",
      "  7.15979200e-04 5.39163244e-04 4.27339459e-04 2.11773659e-04\n",
      "  2.54924264e-04 3.50451272e-04 2.45917682e-03 1.81040913e-02\n",
      "  1.96708739e-02 3.16133797e-02 8.91410261e-02 1.33369388e-02\n",
      "  6.14812784e-03 4.99986904e-03 5.67326695e-03 1.38119180e-02\n",
      "  1.72011666e-02 5.74119426e-02 1.58477232e-01 2.26258621e-01\n",
      "  3.65336329e-01 7.68841565e-01 5.18971980e-01 1.16689235e-01\n",
      "  1.40855806e-02 1.54409918e-03 9.50504967e-04 1.17175723e-03\n",
      "  8.82558001e-04 6.65826083e-04 5.03616757e-04 1.97924543e-04\n",
      "  2.28349003e-04 2.37200220e-04 7.51470588e-03 2.89999451e-02\n",
      "  7.10655451e-02 1.08743273e-01 2.65854746e-01 5.03826700e-02\n",
      "  2.56879497e-02 8.86063278e-03 2.10424103e-02 2.64842529e-02\n",
      "  4.76045795e-02 7.88135454e-02 5.54618686e-02 1.59245431e-01\n",
      "  7.02033103e-01 7.50558019e-01 7.61913598e-01 1.44188151e-01\n",
      "  5.36304433e-03 1.02178159e-03 2.74470920e-04 4.77089954e-04\n",
      "  1.30879146e-03 8.39803135e-04 6.46057364e-04 2.15213950e-04\n",
      "  2.82357214e-04 3.57907760e-04 5.26770391e-03 1.04125313e-01\n",
      "  1.09642543e-01 2.30183527e-01 4.39245313e-01 3.20958048e-01\n",
      "  1.84966072e-01 6.19102083e-02 6.24880828e-02 7.90105984e-02\n",
      "  1.86466277e-01 9.78761986e-02 1.03505872e-01 4.77855653e-01\n",
      "  7.60609567e-01 8.65229905e-01 4.37354028e-01 4.94342558e-02\n",
      "  5.75792335e-04 2.62399873e-04 5.39907895e-04 2.02397956e-03\n",
      "  4.35356237e-03 8.80783773e-04 7.71980383e-04 2.70089542e-04\n",
      "  2.25776224e-04 3.37177451e-04 6.01193914e-03 1.49600267e-01\n",
      "  1.46976590e-01 3.57525110e-01 6.32250011e-01 6.02551699e-01\n",
      "  3.77032787e-01 2.40962327e-01 2.97572106e-01 2.47721598e-01\n",
      "  4.39435720e-01 2.75865674e-01 2.99204051e-01 6.01209223e-01\n",
      "  7.32330322e-01 7.71679699e-01 1.44772321e-01 7.59993726e-03\n",
      "  7.33158726e-04 2.68196833e-04 5.48808195e-04 2.18377612e-03\n",
      "  2.96633272e-03 1.34621304e-03 2.29093304e-04 2.83421745e-04\n",
      "  1.43899510e-04 2.84524460e-04 3.34258587e-03 5.37476018e-02\n",
      "  1.97050586e-01 3.55071247e-01 6.52918816e-01 8.43983352e-01\n",
      "  8.52108359e-01 6.39452100e-01 7.21979141e-01 7.99635887e-01\n",
      "  5.43956876e-01 4.57920432e-01 2.70980507e-01 5.19547164e-01\n",
      "  5.14923692e-01 1.90598428e-01 4.55837958e-02 2.46066530e-03\n",
      "  1.00922002e-03 6.74743613e-04 6.92281057e-04 3.64356278e-03\n",
      "  2.03284086e-03 5.49466582e-04 4.06983978e-04 2.21106908e-04\n",
      "  1.97010813e-04 2.60654226e-04 5.12458617e-04 2.01380830e-02\n",
      "  1.71199083e-01 4.08151150e-01 7.19934225e-01 9.15623546e-01\n",
      "  9.21188593e-01 9.04064298e-01 9.44647968e-01 9.29778516e-01\n",
      "  6.42174125e-01 2.60786653e-01 1.07097879e-01 2.01495454e-01\n",
      "  1.78987399e-01 5.16816080e-02 8.67037009e-03 1.41306221e-03\n",
      "  1.00954424e-03 3.65314423e-04 4.80595394e-04 7.31202308e-04\n",
      "  7.24468729e-04 4.51498490e-04 3.74001102e-04 4.42753080e-04\n",
      "  1.81866664e-04 2.65918265e-04 4.23902151e-04 2.05523171e-03\n",
      "  2.63247862e-02 7.74980485e-02 6.01351261e-01 6.86981082e-01\n",
      "  8.28910470e-01 8.37908506e-01 8.01856220e-01 7.73377478e-01\n",
      "  4.73646492e-01 9.18956548e-02 9.96703189e-03 1.07626952e-02\n",
      "  1.68952439e-02 1.95150003e-02 7.30745634e-03 9.81069985e-04\n",
      "  5.24143514e-04 3.33890639e-04 3.37535428e-04 4.28211672e-04\n",
      "  6.88323344e-04 2.64898728e-04 1.86561316e-04 1.58111128e-04\n",
      "  2.96829414e-04 1.74736851e-04 2.31367667e-04 3.02195665e-04\n",
      "  8.63424386e-04 5.54494513e-03 3.47143225e-02 9.53176394e-02\n",
      "  1.81099460e-01 1.39479786e-01 1.08312197e-01 8.14003423e-02\n",
      "  3.83453183e-02 3.14822607e-03 7.49110128e-04 8.89707764e-04\n",
      "  5.22399973e-03 4.51671239e-03 6.42859936e-03 2.29799491e-03\n",
      "  4.80290822e-04 3.39193793e-04 2.47527933e-04 3.21733329e-04\n",
      "  3.07080423e-04 3.08613031e-04 2.63479626e-04 2.96829705e-04\n",
      "  3.15178972e-04 2.03009433e-04 4.33989626e-04 3.80865793e-04\n",
      "  5.08954166e-04 1.05653785e-03 5.71283698e-03 3.34257632e-03\n",
      "  4.20400593e-03 2.56553013e-03 2.39688368e-03 3.96451028e-03\n",
      "  1.63737370e-03 1.83048644e-04 1.23071542e-04 4.73028893e-04\n",
      "  7.44069403e-04 1.15393929e-03 5.44986222e-04 2.30952413e-04\n",
      "  2.86079536e-04 2.20726070e-04 3.84164799e-04 1.88805934e-04\n",
      "  2.81660847e-04 1.70895102e-04 2.26609540e-04 2.50436424e-04\n",
      "  3.41420324e-04 2.99811771e-04 2.40618785e-04 2.47945340e-04\n",
      "  2.95692007e-04 2.21888709e-04 4.85969504e-04 7.46865524e-04\n",
      "  1.10090093e-03 6.45475753e-04 8.24186427e-04 1.13648397e-03\n",
      "  7.65833713e-04 5.89260773e-04 2.25511380e-04 4.30516870e-04\n",
      "  4.93592757e-04 6.80706464e-04 5.91110263e-04 3.02113272e-04\n",
      "  2.45864067e-04 1.96101493e-04 2.62047892e-04 2.78542255e-04\n",
      "  2.55494349e-04 3.18345352e-04 2.55494117e-04 3.21543543e-04]], shape=(1, 784), dtype=float32)\n"
     ]
    }
   ],
   "source": [
    "hh0_p = tf.nn.sigmoid(tf.matmul(sample_case, W) + hb)\n",
    "hh0_s = tf.round(hh0_p)\n",
    "\n",
    "print(\"Probability nodes in hidden layer:\" ,hh0_p)\n",
    "print(\"activated nodes in hidden layer:\" ,hh0_s)\n",
    "\n",
    "# reconstruct\n",
    "vv1_p = tf.nn.sigmoid(tf.matmul(hh0_s, tf.transpose(W)) + vb)\n",
    "\n",
    "print(vv1_p)\n",
    "#rec_prob = sess.run(vv1_p, feed_dict={ hh0_s: hh0_s_val, W: prv_w, vb: prv_vb})"
   ]
  },
  {
   "cell_type": "markdown",
   "metadata": {},
   "source": [
    "Here we plot the reconstructed image:\n"
   ]
  },
  {
   "cell_type": "code",
   "execution_count": 28,
   "metadata": {},
   "outputs": [
    {
     "data": {
      "image/png": "[encoded data removed]",
      "text/plain": [
       "<Figure size 400x400 with 1 Axes>"
      ]
     },
     "metadata": {},
     "output_type": "display_data"
    }
   ],
   "source": [
    "img = Image.fromarray(tile_raster_images(X=vv1_p.numpy(), img_shape=(28, 28),tile_shape=(1, 1), tile_spacing=(1, 1)))\n",
    "plt.rcParams['figure.figsize'] = (4.0, 4.0)\n",
    "imgplot = plt.imshow(img)\n",
    "imgplot.set_cmap('gray') "
   ]
  },
  {
   "cell_type": "markdown",
   "metadata": {},
   "source": [
    "<hr>\n",
    "\n",
    "## Want to learn more?\n",
    "\n",
    "Also, you can use __Watson Studio__ to run these notebooks faster with bigger datasets.__Watson Studio__ is IBM’s leading cloud solution for data scientists, built by data scientists. With Jupyter notebooks, RStudio, Apache Spark and popular libraries pre-packaged in the cloud, __Watson Studio__ enables data scientists to collaborate on their projects without having to install anything. Join the fast-growing community of __Watson Studio__ users today with a free account at [Watson Studio](https://cocl.us/ML0120EN_DSX).This is the end of this lesson. Thank you for reading this notebook, and good luck on your studies.\n"
   ]
  },
  {
   "cell_type": "markdown",
   "metadata": {},
   "source": [
    "### Thanks for completing this lesson!\n",
    "\n",
    "Notebook created by: <a href = \"https://ca.linkedin.com/in/saeedaghabozorgi\">Saeed Aghabozorgi</a>\n",
    "\n",
    "Updated to TF 2.X by  <a href=\"https://ca.linkedin.com/in/nilmeier\"> Jerome Nilmeier</a><br />\n"
   ]
  },
  {
   "cell_type": "markdown",
   "metadata": {},
   "source": [
    "### References:\n",
    "https://en.wikipedia.org/wiki/Restricted_Boltzmann_machine  \n",
    "http://deeplearning.net/tutorial/rbm.html  \n",
    "http://www.cs.utoronto.ca/~hinton/absps/netflixICML.pdf<br>\n",
    "http://imonad.com/rbm/restricted-boltzmann-machine/  \n"
   ]
  },
  {
   "cell_type": "markdown",
   "metadata": {},
   "source": [
    "<hr>\n",
    "\n",
    "Copyright &copy; 2018 [Cognitive Class](https://cocl.us/DX0108EN_CC). This notebook and its source code are released under the terms of the [MIT License](https://bigdatauniversity.com/mit-license/).\n"
   ]
  }
 ],
 "metadata": {
  "kernelspec": {
   "display_name": "Python",
   "language": "python",
   "name": "conda-env-python-py"
  },
  "language_info": {
   "codemirror_mode": {
    "name": "ipython",
    "version": 3
   },
   "file_extension": ".py",
   "mimetype": "text/x-python",
   "name": "python",
   "nbconvert_exporter": "python",
   "pygments_lexer": "ipython3",
   "version": "3.7.12"
  }
 },
 "nbformat": 4,
 "nbformat_minor": 4
}
