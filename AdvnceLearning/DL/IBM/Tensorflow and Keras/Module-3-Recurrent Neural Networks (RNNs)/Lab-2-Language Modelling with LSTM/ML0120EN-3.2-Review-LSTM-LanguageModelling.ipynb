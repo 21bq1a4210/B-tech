{
 "cells": [
  {
   "cell_type": "markdown",
   "metadata": {},
   "source": [
    "<img src=\"https://cf-courses-data.s3.us.cloud-object-storage.appdomain.cloud/IBMDeveloperSkillsNetwork-DL0120EN-SkillsNetwork/images/IDSN-logo.png\" width=\"300\" alt=\"cognitiveclass.ai logo\">\n",
    "\n",
    "<h1 align=\"center\"><font size=\"5\">RECURRENT NETWORKS and LSTM IN DEEP LEARNING</font></h1>\n"
   ]
  },
  {
   "cell_type": "markdown",
   "metadata": {},
   "source": [
    "<h2>Applying Recurrent Neural Networks/LSTM for Language Modeling</h2>\n",
    "Hello and welcome to this part. In this notebook, we will go over the topic of Language Modelling, and create a Recurrent Neural Network model based on the Long Short-Term Memory unit to train and benchmark on the Penn Treebank dataset. By the end of this notebook, you should be able to understand how TensorFlow builds and executes a RNN model for Language Modelling.\n"
   ]
  },
  {
   "cell_type": "markdown",
   "metadata": {},
   "source": [
    "<h2>The Objective</h2>\n",
    "By now, you should have an understanding of how Recurrent Networks work -- a specialized model to process sequential data by keeping track of the \"state\" or context. In this notebook, we go over a TensorFlow code snippet for creating a model focused on <b>Language Modelling</b> -- a very relevant task that is the cornerstone of many different linguistic problems such as <b>Speech Recognition, Machine Translation and Image Captioning</b>. For this, we will be using the Penn Treebank dataset, which is an often-used dataset for benchmarking Language Modelling models.\n"
   ]
  },
  {
   "cell_type": "markdown",
   "metadata": {},
   "source": [
    "<h3>Objectives<h3>    \n",
    "<h5> 1. What exactly is Language Modelling? </h5>\n",
    "<h5> 2. Work Embedding. </h5>\n",
    "<h5> 3. Applying Recurrent Neural Networks to Text Processing. </h5>\n",
    "<h5> 4. Building the LSTM model for Language Modeling. </h5>     \n"
   ]
  },
  {
   "cell_type": "markdown",
   "metadata": {},
   "source": [
    "<h2>Table of Contents</h2>\n",
    "<ol>\n",
    "    <li><a href=\"#language_modelling\">What exactly is Language Modelling?</a></li>\n",
    "    <li><a href=\"#treebank_dataset\">The Penn Treebank dataset</a></li>\n",
    "    <li><a href=\"#word_embedding\">Word Embedding</a></li>\n",
    "    <li><a href=\"#building_lstm_model\">Building the LSTM model for Language Modeling</a></li>\n",
    "    <li><a href=\"#ltsm\">LTSM</a></li>\n",
    "</ol>\n",
    "<p></p>\n",
    "</div>\n",
    "<br>\n"
   ]
  },
  {
   "cell_type": "markdown",
   "metadata": {},
   "source": [
    "* * *\n"
   ]
  },
  {
   "cell_type": "markdown",
   "metadata": {},
   "source": [
    "<a id=\"language_modelling\"></a>\n",
    "\n",
    "<h2>What exactly is Language Modelling?</h2>\n",
    "Language Modelling, to put it simply, <b>is the task of assigning probabilities to sequences of words</b>. This means that, given a context of one or a sequence of words in the language the model was trained on, the model should provide the next most probable words or sequence of words that follows from the given sequence of words the sentence. Language Modelling is one of the most important tasks in Natural Language Processing.\n",
    "\n",
    "<img src=\"https://ibm.box.com/shared/static/1d1i5gub6wljby2vani2vzxp0xsph702.png\" width=\"1080\">\n",
    "<center><i>Example of a sentence being predicted</i></center>\n",
    "<br><br>\n",
    "In this example, one can see the predictions for the next word of a sentence, given the context \"This is an\". As you can see, this boils down to a sequential data analysis task -- you are given a word or a sequence of words (the input data), and, given the context (the state), you need to find out what is the next word (the prediction). This kind of analysis is very important for language-related tasks such as <b>Speech Recognition, Machine Translation, Image Captioning, Text Correction</b> and many other very relevant problems. \n",
    "\n",
    "<img src=\"https://ibm.box.com/shared/static/az39idf9ipfdpc5ugifpgxnydelhyf3i.png\" width=\"1080\">\n",
    "<center><i>The above example is a schema of an RNN in execution</i></center>\n",
    "<br><br>\n",
    "As the above image shows, Recurrent Network models fit this problem like a glove. Alongside LSTM and its capacity to maintain the model's state for over one thousand time steps, we have all the tools we need to undertake this problem. The goal for this notebook is to create a model that can reach <b>low levels of perplexity</b> on our desired dataset.\n",
    "\n",
    "For Language Modelling problems, <b>perplexity</b> is the way to gauge efficiency. Perplexity is simply a measure of how well a probabilistic model is able to predict its sample. A higher-level way to explain this would be saying that <b>low perplexity means a higher degree of trust in the predictions the model makes</b>. Therefore, the lower perplexity is, the better.\n"
   ]
  },
  {
   "cell_type": "markdown",
   "metadata": {},
   "source": [
    "<a id=\"treebank_dataset\"></a>\n",
    "\n",
    "<h2>The Penn Treebank dataset</h2>\n",
    "Historically, datasets big enough for Natural Language Processing are hard to come by. This is in part due to the necessity of the sentences to be broken down and tagged with a certain degree of correctness -- or else the models trained on it won't be able to be correct at all. This means that we need a <b>large amount of data, annotated by or at least corrected by humans</b>. This is, of course, not an easy task at all.\n",
    "\n",
    "The Penn Treebank, or PTB for short, is a dataset maintained by the University of Pennsylvania. It is <i>huge</i> -- there are over <b>four million and eight hundred thousand</b> annotated words in it, all corrected by humans. It is composed of many different sources, from abstracts of Department of Energy papers to texts from the Library of America. Since it is verifiably correct and of such a huge size, the Penn Treebank is commonly used as a benchmark dataset for Language Modelling.\n",
    "\n",
    "The dataset is divided in different kinds of annotations, such as Piece-of-Speech, Syntactic and Semantic skeletons. For this example, we will simply use a sample of clean, non-annotated words (with the exception of one tag --<code>&lt;unk></code>\n",
    ", which is used for rare words such as uncommon proper nouns) for our model. This means that we just want to predict what the next words would be, not what they mean in context or their classes on a given sentence.\n",
    "\n",
    "<center>Example of text from the dataset we are going to use, <b>ptb.train</b></center>\n",
    "<br><br>\n",
    "\n",
    "<div class=\"alert alert-block alert-info\" style=\"margin-top: 20px\">\n",
    "    <center>the percentage of lung cancer deaths among the workers at the west <code>&lt;unk&gt;</code> mass. paper factory appears to be the highest for any asbestos workers studied in western industrialized countries he said \n",
    " the plant which is owned by <code>&lt;unk&gt;</code> & <code>&lt;unk&gt;</code> co. was under contract with <code>&lt;unk&gt;</code> to make the cigarette filters \n",
    " the finding probably will support those who argue that the U.S. should regulate the class of asbestos including <code>&lt;unk&gt;</code> more <code>&lt;unk&gt;</code> than the common kind of asbestos <code>&lt;unk&gt;</code> found in most schools and other buildings dr. <code>&lt;unk&gt;</code> said</center>\n",
    "</div>\n"
   ]
  },
  {
   "cell_type": "markdown",
   "metadata": {},
   "source": [
    "<a id=\"word_embedding\"></a>\n",
    "\n",
    "<h2>Word Embeddings</h2><br/>\n",
    "\n",
    "For better processing, in this example, we will make use of <a href=\"https://www.tensorflow.org/tutorials/word2vec/?utm_medium=Exinfluencer&utm_source=Exinfluencer&utm_content=000026UJ&utm_term=10006555&utm_id=NA-SkillsNetwork-Channel-SkillsNetworkCoursesIBMDeveloperSkillsNetworkDL0120ENSkillsNetwork954-2022-01-01\"><b>word embeddings</b></a>, which is <b>a way of representing sentence structures or words as n-dimensional vectors (where n is a reasonably high number, such as 200 or 500) of real numbers</b>. Basically, we will assign each word a randomly-initialized vector, and input those into the network to be processed. After a number of iterations, these vectors are expected to assume values that help the network to correctly predict what it needs to -- in our case, the probable next word in the sentence. This is shown to be a very effective task in Natural Language Processing, and is a commonplace practice.\n",
    "<br><br>\n",
    "<font size=\"4\"><strong>\n",
    "$$Vec(\"Example\") = [0.02, 0.00, 0.00, 0.92, 0.30, \\ldots]$$\n",
    "</strong></font>\n",
    "<br>\n",
    "Word Embedding tends to group up similarly used words <i>reasonably</i> close together in the vectorial space. For example, if we use T-SNE (a dimensional reduction visualization algorithm) to flatten the dimensions of our vectors into a 2-dimensional space and plot these words in a 2-dimensional space, we might see something like this:\n",
    "\n",
    "<img src=\"https://ibm.box.com/shared/static/bqhc5dg879gcoabzhxra1w8rkg3od1cu.png\" width=\"800\">\n",
    "<center><i>T-SNE Mockup with clusters marked for easier visualization</i></center>\n",
    "<br><br>\n",
    "As you can see, words that are frequently used together, in place of each other, or in the same places as them tend to be grouped together -- being closer together the higher they are correlated. For example, \"None\" is pretty semantically close to \"Zero\", while a phrase that uses \"Italy\", you could probably also fit \"Germany\" in it, with little damage to the sentence structure. The vectorial \"closeness\" for similar words like this is a great indicator of a well-built model.\n",
    "\n",
    "<hr>\n",
    " \n"
   ]
  },
  {
   "cell_type": "markdown",
   "metadata": {},
   "source": [
    "We need to import the necessary modules for our code. We need <b><code>numpy</code></b> and <b><code>tensorflow</code></b>, obviously. Additionally, we can import directly the <b><code>tensorflow.models.rnn</code></b> model, which includes the function for building RNNs, and <b><code>tensorflow.models.rnn.ptb.reader</code></b> which is the helper module for getting the input data from the dataset we just downloaded.\n",
    "\n",
    "If you want to learn more take a look at <https://github.com/tensorflow/models/blob/master/tutorials/rnn/ptb/reader.py>\n"
   ]
  },
  {
   "cell_type": "code",
   "execution_count": 1,
   "metadata": {
    "tags": []
   },
   "outputs": [
    {
     "name": "stdout",
     "output_type": "stream",
     "text": [
      "Requirement already satisfied: tensorflow==2.6.0rc0 in /home/jupyterlab/conda/envs/python/lib/python3.7/site-packages (2.6.0rc0)\n",
      "Requirement already satisfied: numpy~=1.19.2 in /home/jupyterlab/conda/envs/python/lib/python3.7/site-packages (from tensorflow==2.6.0rc0) (1.19.2)\n",
      "Requirement already satisfied: absl-py~=0.10 in /home/jupyterlab/conda/envs/python/lib/python3.7/site-packages (from tensorflow==2.6.0rc0) (0.15.0)\n",
      "Requirement already satisfied: astunparse~=1.6.3 in /home/jupyterlab/conda/envs/python/lib/python3.7/site-packages (from tensorflow==2.6.0rc0) (1.6.3)\n",
      "Requirement already satisfied: clang~=5.0 in /home/jupyterlab/conda/envs/python/lib/python3.7/site-packages (from tensorflow==2.6.0rc0) (5.0)\n",
      "Requirement already satisfied: flatbuffers~=1.12.0 in /home/jupyterlab/conda/envs/python/lib/python3.7/site-packages (from tensorflow==2.6.0rc0) (1.12)\n",
      "Requirement already satisfied: google-pasta~=0.2 in /home/jupyterlab/conda/envs/python/lib/python3.7/site-packages (from tensorflow==2.6.0rc0) (0.2.0)\n",
      "Requirement already satisfied: h5py~=3.1.0 in /home/jupyterlab/conda/envs/python/lib/python3.7/site-packages (from tensorflow==2.6.0rc0) (3.1.0)\n",
      "Requirement already satisfied: keras-preprocessing~=1.1.2 in /home/jupyterlab/conda/envs/python/lib/python3.7/site-packages (from tensorflow==2.6.0rc0) (1.1.2)\n",
      "Requirement already satisfied: opt-einsum~=3.3.0 in /home/jupyterlab/conda/envs/python/lib/python3.7/site-packages (from tensorflow==2.6.0rc0) (3.3.0)\n",
      "Requirement already satisfied: protobuf>=3.9.2 in /home/jupyterlab/conda/envs/python/lib/python3.7/site-packages (from tensorflow==2.6.0rc0) (3.20.3)\n",
      "Requirement already satisfied: six~=1.15.0 in /home/jupyterlab/conda/envs/python/lib/python3.7/site-packages (from tensorflow==2.6.0rc0) (1.15.0)\n",
      "Requirement already satisfied: termcolor~=1.1.0 in /home/jupyterlab/conda/envs/python/lib/python3.7/site-packages (from tensorflow==2.6.0rc0) (1.1.0)\n",
      "Requirement already satisfied: typing-extensions~=3.7.4 in /home/jupyterlab/conda/envs/python/lib/python3.7/site-packages (from tensorflow==2.6.0rc0) (3.7.4.3)\n",
      "Requirement already satisfied: wheel~=0.35 in /home/jupyterlab/conda/envs/python/lib/python3.7/site-packages (from tensorflow==2.6.0rc0) (0.40.0)\n",
      "Requirement already satisfied: wrapt~=1.12.1 in /home/jupyterlab/conda/envs/python/lib/python3.7/site-packages (from tensorflow==2.6.0rc0) (1.12.1)\n",
      "Requirement already satisfied: gast==0.4.0 in /home/jupyterlab/conda/envs/python/lib/python3.7/site-packages (from tensorflow==2.6.0rc0) (0.4.0)\n",
      "Requirement already satisfied: tensorboard~=2.5 in /home/jupyterlab/conda/envs/python/lib/python3.7/site-packages (from tensorflow==2.6.0rc0) (2.11.2)\n",
      "Requirement already satisfied: tf-estimator-nightly==2.6.0.dev2021062501 in /home/jupyterlab/conda/envs/python/lib/python3.7/site-packages (from tensorflow==2.6.0rc0) (2.6.0.dev2021062501)\n",
      "Requirement already satisfied: keras==2.6.0rc0 in /home/jupyterlab/conda/envs/python/lib/python3.7/site-packages (from tensorflow==2.6.0rc0) (2.6.0rc0)\n",
      "Requirement already satisfied: grpcio<2.0,>=1.37.0 in /home/jupyterlab/conda/envs/python/lib/python3.7/site-packages (from tensorflow==2.6.0rc0) (1.48.1)\n",
      "Requirement already satisfied: cached-property in /home/jupyterlab/conda/envs/python/lib/python3.7/site-packages (from h5py~=3.1.0->tensorflow==2.6.0rc0) (1.5.2)\n",
      "Requirement already satisfied: google-auth<3,>=1.6.3 in /home/jupyterlab/conda/envs/python/lib/python3.7/site-packages (from tensorboard~=2.5->tensorflow==2.6.0rc0) (2.29.0)\n",
      "Requirement already satisfied: google-auth-oauthlib<0.5,>=0.4.1 in /home/jupyterlab/conda/envs/python/lib/python3.7/site-packages (from tensorboard~=2.5->tensorflow==2.6.0rc0) (0.4.6)\n",
      "Requirement already satisfied: markdown>=2.6.8 in /home/jupyterlab/conda/envs/python/lib/python3.7/site-packages (from tensorboard~=2.5->tensorflow==2.6.0rc0) (3.4.3)\n",
      "Requirement already satisfied: requests<3,>=2.21.0 in /home/jupyterlab/conda/envs/python/lib/python3.7/site-packages (from tensorboard~=2.5->tensorflow==2.6.0rc0) (2.29.0)\n",
      "Requirement already satisfied: setuptools>=41.0.0 in /home/jupyterlab/conda/envs/python/lib/python3.7/site-packages (from tensorboard~=2.5->tensorflow==2.6.0rc0) (67.7.2)\n",
      "Requirement already satisfied: tensorboard-data-server<0.7.0,>=0.6.0 in /home/jupyterlab/conda/envs/python/lib/python3.7/site-packages (from tensorboard~=2.5->tensorflow==2.6.0rc0) (0.6.1)\n",
      "Requirement already satisfied: tensorboard-plugin-wit>=1.6.0 in /home/jupyterlab/conda/envs/python/lib/python3.7/site-packages (from tensorboard~=2.5->tensorflow==2.6.0rc0) (1.8.1)\n",
      "Requirement already satisfied: werkzeug>=1.0.1 in /home/jupyterlab/conda/envs/python/lib/python3.7/site-packages (from tensorboard~=2.5->tensorflow==2.6.0rc0) (2.2.3)\n",
      "Requirement already satisfied: cachetools<6.0,>=2.0.0 in /home/jupyterlab/conda/envs/python/lib/python3.7/site-packages (from google-auth<3,>=1.6.3->tensorboard~=2.5->tensorflow==2.6.0rc0) (5.3.3)\n",
      "Requirement already satisfied: pyasn1-modules>=0.2.1 in /home/jupyterlab/conda/envs/python/lib/python3.7/site-packages (from google-auth<3,>=1.6.3->tensorboard~=2.5->tensorflow==2.6.0rc0) (0.3.0)\n",
      "Requirement already satisfied: rsa<5,>=3.1.4 in /home/jupyterlab/conda/envs/python/lib/python3.7/site-packages (from google-auth<3,>=1.6.3->tensorboard~=2.5->tensorflow==2.6.0rc0) (4.9)\n",
      "Requirement already satisfied: requests-oauthlib>=0.7.0 in /home/jupyterlab/conda/envs/python/lib/python3.7/site-packages (from google-auth-oauthlib<0.5,>=0.4.1->tensorboard~=2.5->tensorflow==2.6.0rc0) (2.0.0)\n",
      "Requirement already satisfied: importlib-metadata>=4.4 in /home/jupyterlab/conda/envs/python/lib/python3.7/site-packages (from markdown>=2.6.8->tensorboard~=2.5->tensorflow==2.6.0rc0) (4.11.4)\n",
      "Requirement already satisfied: charset-normalizer<4,>=2 in /home/jupyterlab/conda/envs/python/lib/python3.7/site-packages (from requests<3,>=2.21.0->tensorboard~=2.5->tensorflow==2.6.0rc0) (3.1.0)\n",
      "Requirement already satisfied: idna<4,>=2.5 in /home/jupyterlab/conda/envs/python/lib/python3.7/site-packages (from requests<3,>=2.21.0->tensorboard~=2.5->tensorflow==2.6.0rc0) (3.4)\n",
      "Requirement already satisfied: urllib3<1.27,>=1.21.1 in /home/jupyterlab/conda/envs/python/lib/python3.7/site-packages (from requests<3,>=2.21.0->tensorboard~=2.5->tensorflow==2.6.0rc0) (1.26.15)\n",
      "Requirement already satisfied: certifi>=2017.4.17 in /home/jupyterlab/conda/envs/python/lib/python3.7/site-packages (from requests<3,>=2.21.0->tensorboard~=2.5->tensorflow==2.6.0rc0) (2023.5.7)\n",
      "Requirement already satisfied: MarkupSafe>=2.1.1 in /home/jupyterlab/conda/envs/python/lib/python3.7/site-packages (from werkzeug>=1.0.1->tensorboard~=2.5->tensorflow==2.6.0rc0) (2.1.1)\n",
      "Requirement already satisfied: zipp>=0.5 in /home/jupyterlab/conda/envs/python/lib/python3.7/site-packages (from importlib-metadata>=4.4->markdown>=2.6.8->tensorboard~=2.5->tensorflow==2.6.0rc0) (3.15.0)\n",
      "Requirement already satisfied: pyasn1<0.6.0,>=0.4.6 in /home/jupyterlab/conda/envs/python/lib/python3.7/site-packages (from pyasn1-modules>=0.2.1->google-auth<3,>=1.6.3->tensorboard~=2.5->tensorflow==2.6.0rc0) (0.5.0)\n",
      "Requirement already satisfied: oauthlib>=3.0.0 in /home/jupyterlab/conda/envs/python/lib/python3.7/site-packages (from requests-oauthlib>=0.7.0->google-auth-oauthlib<0.5,>=0.4.1->tensorboard~=2.5->tensorflow==2.6.0rc0) (3.2.2)\n",
      "Requirement already satisfied: numpy==1.19.2 in /home/jupyterlab/conda/envs/python/lib/python3.7/site-packages (1.19.2)\n"
     ]
    }
   ],
   "source": [
    "!pip install tensorflow==2.6.0rc0\n",
    "!pip install numpy==1.19.2"
   ]
  },
  {
   "cell_type": "code",
   "execution_count": 2,
   "metadata": {
    "tags": []
   },
   "outputs": [
    {
     "name": "stderr",
     "output_type": "stream",
     "text": [
      "2024-05-24 08:56:02.142051: W tensorflow/stream_executor/platform/default/dso_loader.cc:64] Could not load dynamic library 'libcudart.so.11.0'; dlerror: libcudart.so.11.0: cannot open shared object file: No such file or directory\n",
      "2024-05-24 08:56:02.142162: I tensorflow/stream_executor/cuda/cudart_stub.cc:29] Ignore above cudart dlerror if you do not have a GPU set up on your machine.\n"
     ]
    },
    {
     "name": "stdout",
     "output_type": "stream",
     "text": [
      "2.6.0-rc0\n"
     ]
    }
   ],
   "source": [
    "import time\n",
    "import numpy as np\n",
    "import tensorflow as tf\n",
    "if not tf.__version__ == '2.6.0rc0':\n",
    "    print(tf.__version__)\n",
    "    # raise ValueError('please upgrade to TensorFlow 2.2.0-rc0, or restart your Kernel (Kernel->Restart & Clear Output)')"
   ]
  },
  {
   "cell_type": "markdown",
   "metadata": {},
   "source": [
    "IMPORTANT! => Please restart the kernel by clicking on \"Kernel\"->\"Restart and Clear Outout\" and wait until all output disapears. Then your changes are beeing picked up\n"
   ]
  },
  {
   "cell_type": "code",
   "execution_count": 3,
   "metadata": {
    "tags": []
   },
   "outputs": [
    {
     "name": "stdout",
     "output_type": "stream",
     "text": [
      "mkdir: cannot create directory ‘data’: File exists\n",
      "Archive:  data/ptb.zip\n",
      "  inflating: data/ptb/reader.py      \n"
     ]
    }
   ],
   "source": [
    "!mkdir data\n",
    "!wget -q -O data/ptb.zip https://cf-courses-data.s3.us.cloud-object-storage.appdomain.cloud/IBM-ML241EN-SkillsNetwork/labs/datasets/ptb.zip\n",
    "!unzip -o data/ptb.zip -d data\n",
    "!cp data/ptb/reader.py . \n",
    "\n"
   ]
  },
  {
   "cell_type": "code",
   "execution_count": 4,
   "metadata": {
    "tags": []
   },
   "outputs": [],
   "source": [
    "import reader"
   ]
  },
  {
   "cell_type": "markdown",
   "metadata": {},
   "source": [
    "<a id=\"building_lstm_model\"></a>\n",
    "\n",
    "<h2>Building the LSTM model for Language Modeling</h2>\n",
    "Now that we know exactly what we are doing, we can start building our model using TensorFlow. The very first thing we need to do is download and extract the <code>simple-examples</code> dataset, which can be done by executing the code cell below.\n"
   ]
  },
  {
   "cell_type": "code",
   "execution_count": 5,
   "metadata": {},
   "outputs": [
    {
     "name": "stdout",
     "output_type": "stream",
     "text": [
      "--2024-05-24 08:56:06--  http://www.fit.vutbr.cz/~imikolov/rnnlm/simple-examples.tgz\n",
      "Resolving www.fit.vutbr.cz (www.fit.vutbr.cz)... 147.229.9.23, 147.229.9.23\n",
      "Connecting to www.fit.vutbr.cz (www.fit.vutbr.cz)|147.229.9.23|:80... connected.\n",
      "HTTP request sent, awaiting response... 200 OK\n",
      "Length: 34869662 (33M) [application/x-gtar]\n",
      "Saving to: ‘simple-examples.tgz’\n",
      "\n",
      "simple-examples.tgz 100%[===================>]  33.25M  10.1MB/s    in 3.9s    \n",
      "\n",
      "2024-05-24 08:56:11 (8.55 MB/s) - ‘simple-examples.tgz’ saved [34869662/34869662]\n",
      "\n"
     ]
    }
   ],
   "source": [
    "!wget http://www.fit.vutbr.cz/~imikolov/rnnlm/simple-examples.tgz \n",
    "!tar xzf simple-examples.tgz -C data/"
   ]
  },
  {
   "cell_type": "markdown",
   "metadata": {},
   "source": [
    "Additionally, for the sake of making it easy to play around with the model's hyperparameters, we can declare them beforehand. Feel free to change these -- you will see a difference in performance each time you change those!  \n"
   ]
  },
  {
   "cell_type": "code",
   "execution_count": 6,
   "metadata": {},
   "outputs": [],
   "source": [
    "#Initial weight scale\n",
    "init_scale = 0.1\n",
    "#Initial learning rate\n",
    "learning_rate = 1.0\n",
    "#Maximum permissible norm for the gradient (For gradient clipping -- another measure against Exploding Gradients)\n",
    "max_grad_norm = 5\n",
    "#The number of layers in our model\n",
    "num_layers = 2\n",
    "#The total number of recurrence steps, also known as the number of layers when our RNN is \"unfolded\"\n",
    "num_steps = 20\n",
    "#The number of processing units (neurons) in the hidden layers\n",
    "hidden_size_l1 = 256\n",
    "hidden_size_l2 = 128\n",
    "#The maximum number of epochs trained with the initial learning rate\n",
    "max_epoch_decay_lr = 4\n",
    "#The total number of epochs in training\n",
    "max_epoch = 15\n",
    "#The probability for keeping data in the Dropout Layer (This is an optimization, but is outside our scope for this notebook!)\n",
    "#At 1, we ignore the Dropout Layer wrapping.\n",
    "keep_prob = 1\n",
    "#The decay for the learning rate\n",
    "decay = 0.5\n",
    "#The size for each batch of data\n",
    "batch_size = 30\n",
    "#The size of our vocabulary\n",
    "vocab_size = 10000\n",
    "embeding_vector_size= 200\n",
    "#Training flag to separate training from testing\n",
    "is_training = 1\n",
    "#Data directory for our dataset\n",
    "data_dir = \"data/simple-examples/data/\""
   ]
  },
  {
   "cell_type": "markdown",
   "metadata": {},
   "source": [
    "Some clarifications for LSTM architecture based on the arguments:\n",
    "\n",
    "Network structure:\n",
    "\n",
    "<ul>\n",
    "    <li>In this network, the number of LSTM cells are 2. To give the model more expressive power, we can add multiple layers of LSTMs to process the data. The output of the first layer will become the input of the second and so on.\n",
    "    </li>\n",
    "    <li>The recurrence steps is 20, that is, when our RNN is \"Unfolded\", the recurrence step is 20.</li>   \n",
    "    <li>the structure is like:\n",
    "        <ul>\n",
    "            <li>200 input units -> [200x200] Weight -> 200 Hidden units (first layer) -> [200x200] Weight matrix  -> 200 Hidden units (second layer) ->  [200] weight Matrix -> 200 unit output</li>\n",
    "        </ul>\n",
    "    </li>\n",
    "</ul>\n",
    "<br>\n",
    "\n",
    "Input layer: \n",
    "\n",
    "<ul>\n",
    "    <li>The network has 200 input units.</li>\n",
    "    <li>Suppose each word is represented by an embedding vector of dimensionality e=200. The input layer of each cell will have 200 linear units. These e=200 linear units are connected to each of the h=200 LSTM units in the hidden layer (assuming there is only one hidden layer, though our case has 2 layers).\n",
    "    </li>\n",
    "    <li>The input shape is [batch_size, num_steps], that is [30x20]. It will turn into [30x20x200] after embedding, and then 20x[30x200]\n",
    "    </li>\n",
    "</ul>\n",
    "<br>\n",
    "\n",
    "Hidden layer:\n",
    "\n",
    "<ul>\n",
    "    <li>Each LSTM has 200 hidden units which is equivalent to the dimensionality of the embedding words and output.</li>\n",
    "</ul>\n",
    "<br>\n"
   ]
  },
  {
   "cell_type": "markdown",
   "metadata": {},
   "source": [
    "There is a lot to be done and a ton of information to process at the same time, so go over this code slowly. It may seem complex at first, but if you try to apply what you just learned about language modelling to the code you see, you should be able to understand it.\n",
    "\n",
    "This code is adapted from the <a href=\"https://github.com/tensorflow/models\">PTBModel</a> example bundled with the TensorFlow source code.\n",
    "\n",
    "<h3>Training data</h3>\n",
    "The story starts from data:\n",
    "<ul>\n",
    "    <li>Train data is a list of words, of size 929589, represented by numbers, e.g. [9971, 9972, 9974, 9975,...]</li>\n",
    "    <li>We read data as mini-batch of size b=30. Assume the size of each sentence is 20 words (num_steps = 20). Then it will take $$floor(\\frac{N}{b \\times h})+1=1548$$ iterations for the learner to go through all sentences once. Where N is the size of the list of words, b is batch size, and h is size of each sentence. So, the number of iterators is 1548\n",
    "    </li>\n",
    "    <li>Each batch data is read from train dataset of size 600, and shape of [30x20]</li>\n",
    "</ul>\n"
   ]
  },
  {
   "cell_type": "code",
   "execution_count": 7,
   "metadata": {},
   "outputs": [],
   "source": [
    "# Reads the data and separates it into training data, validation data and testing data\n",
    "raw_data = reader.ptb_raw_data(data_dir)\n",
    "train_data, valid_data, test_data, vocab, word_to_id = raw_data"
   ]
  },
  {
   "cell_type": "code",
   "execution_count": 8,
   "metadata": {},
   "outputs": [
    {
     "data": {
      "text/plain": [
       "929589"
      ]
     },
     "execution_count": 8,
     "metadata": {},
     "output_type": "execute_result"
    }
   ],
   "source": [
    "len(train_data)"
   ]
  },
  {
   "cell_type": "code",
   "execution_count": 9,
   "metadata": {},
   "outputs": [
    {
     "name": "stdout",
     "output_type": "stream",
     "text": [
      "['aer', 'banknote', 'berlitz', 'calloway', 'centrust', 'cluett', 'fromstein', 'gitano', 'guterman', 'hydro-quebec', 'ipo', 'kia', 'memotec', 'mlx', 'nahb', 'punts', 'rake', 'regatta', 'rubens', 'sim', 'snack-food', 'ssangyong', 'swapo', 'wachter', '<eos>', 'pierre', '<unk>', 'N', 'years', 'old', 'will', 'join', 'the', 'board', 'as', 'a', 'nonexecutive', 'director', 'nov.', 'N', '<eos>', 'mr.', '<unk>', 'is', 'chairman', 'of', '<unk>', 'n.v.', 'the', 'dutch', 'publishing', 'group', '<eos>', 'rudolph', '<unk>', 'N', 'years', 'old', 'and', 'former', 'chairman', 'of', 'consolidated', 'gold', 'fields', 'plc', 'was', 'named', 'a', 'nonexecutive', 'director', 'of', 'this', 'british', 'industrial', 'conglomerate', '<eos>', 'a', 'form', 'of', 'asbestos', 'once', 'used', 'to', 'make', 'kent', 'cigarette', 'filters', 'has', 'caused', 'a', 'high', 'percentage', 'of', 'cancer', 'deaths', 'among', 'a', 'group', 'of']\n"
     ]
    }
   ],
   "source": [
    "def id_to_word(id_list):\n",
    "    line = []\n",
    "    for w in id_list:\n",
    "        for word, wid in word_to_id.items():\n",
    "            if wid == w:\n",
    "                line.append(word)\n",
    "    return line            \n",
    "                \n",
    "\n",
    "print(id_to_word(train_data[0:100]))"
   ]
  },
  {
   "cell_type": "markdown",
   "metadata": {},
   "source": [
    "Lets just read one mini-batch now and feed our network:\n"
   ]
  },
  {
   "cell_type": "code",
   "execution_count": 10,
   "metadata": {},
   "outputs": [],
   "source": [
    "itera = reader.ptb_iterator(train_data, batch_size, num_steps)\n",
    "first_touple = itera.__next__()\n",
    "_input_data = first_touple[0]\n",
    "_targets = first_touple[1]"
   ]
  },
  {
   "cell_type": "code",
   "execution_count": 11,
   "metadata": {},
   "outputs": [
    {
     "data": {
      "text/plain": [
       "(30, 20)"
      ]
     },
     "execution_count": 11,
     "metadata": {},
     "output_type": "execute_result"
    }
   ],
   "source": [
    "_input_data.shape"
   ]
  },
  {
   "cell_type": "code",
   "execution_count": 12,
   "metadata": {},
   "outputs": [
    {
     "data": {
      "text/plain": [
       "(30, 20)"
      ]
     },
     "execution_count": 12,
     "metadata": {},
     "output_type": "execute_result"
    }
   ],
   "source": [
    "_targets.shape"
   ]
  },
  {
   "cell_type": "markdown",
   "metadata": {},
   "source": [
    "Lets look at 3 sentences of our input x:\n"
   ]
  },
  {
   "cell_type": "code",
   "execution_count": 13,
   "metadata": {},
   "outputs": [
    {
     "data": {
      "text/plain": [
       "array([[9970, 9971, 9972, 9974, 9975, 9976, 9980, 9981, 9982, 9983, 9984,\n",
       "        9986, 9987, 9988, 9989, 9991, 9992, 9993, 9994, 9995],\n",
       "       [2654,    6,  334, 2886,    4,    1,  233,  711,  834,   11,  130,\n",
       "         123,    7,  514,    2,   63,   10,  514,    8,  605],\n",
       "       [   0, 1071,    4,    0,  185,   24,  368,   20,   31, 3109,  954,\n",
       "          12,    3,   21,    2, 2915,    2,   12,    3,   21]],\n",
       "      dtype=int32)"
      ]
     },
     "execution_count": 13,
     "metadata": {},
     "output_type": "execute_result"
    }
   ],
   "source": [
    "_input_data[0:3]"
   ]
  },
  {
   "cell_type": "code",
   "execution_count": 14,
   "metadata": {},
   "outputs": [
    {
     "name": "stdout",
     "output_type": "stream",
     "text": [
      "['aer', 'banknote', 'berlitz', 'calloway', 'centrust', 'cluett', 'fromstein', 'gitano', 'guterman', 'hydro-quebec', 'ipo', 'kia', 'memotec', 'mlx', 'nahb', 'punts', 'rake', 'regatta', 'rubens', 'sim']\n"
     ]
    }
   ],
   "source": [
    "print(id_to_word(_input_data[0,:]))"
   ]
  },
  {
   "cell_type": "markdown",
   "metadata": {},
   "source": [
    "<h3>Embeddings</h3>\n",
    "We have to convert the words in our dataset to vectors of numbers. The traditional approach is to use one-hot encoding method that is usually used for converting categorical values to numerical values. However, One-hot encoded vectors are high-dimensional, sparse and in a big dataset, computationally inefficient. So, we use word2vec approach. It is, in fact, a layer in our LSTM network, where the word IDs will be represented as a dense representation before feeding to the LSTM. \n",
    "\n",
    "The embedded vectors also get updated during the training process of the deep neural network.\n",
    "We create the embeddings for our input data. <b>embedding_vocab</b> is matrix of [10000x200] for all 10000 unique words.\n"
   ]
  },
  {
   "cell_type": "markdown",
   "metadata": {},
   "source": [
    "<b>embedding_lookup()</b> finds the embedded values for our batch of 30x20 words. It  goes to each row of <code>input_data</code>, and for each word in the row/sentence, finds the correspond vector in <code>embedding_dic<code>. <br>\n",
    "It creates a [30x20x200] tensor, so, the first element of <b>inputs</b> (the first sentence), is a matrix of 20x200, which each row of it, is vector representing a word in the sentence.\n"
   ]
  },
  {
   "cell_type": "code",
   "execution_count": 15,
   "metadata": {},
   "outputs": [],
   "source": [
    "embedding_layer = tf.keras.layers.Embedding(vocab_size, embeding_vector_size,batch_input_shape=(batch_size, num_steps),trainable=True,name=\"embedding_vocab\")  "
   ]
  },
  {
   "cell_type": "code",
   "execution_count": 16,
   "metadata": {},
   "outputs": [
    {
     "name": "stderr",
     "output_type": "stream",
     "text": [
      "2024-05-24 08:56:25.918868: W tensorflow/stream_executor/platform/default/dso_loader.cc:64] Could not load dynamic library 'libcuda.so.1'; dlerror: libcuda.so.1: cannot open shared object file: No such file or directory\n",
      "2024-05-24 08:56:25.918924: W tensorflow/stream_executor/cuda/cuda_driver.cc:269] failed call to cuInit: UNKNOWN ERROR (303)\n",
      "2024-05-24 08:56:25.918956: I tensorflow/stream_executor/cuda/cuda_diagnostics.cc:156] kernel driver does not appear to be running on this host (jupyterlab-bandreddysar): /proc/driver/nvidia/version does not exist\n",
      "2024-05-24 08:56:25.919537: I tensorflow/core/platform/cpu_feature_guard.cc:142] This TensorFlow binary is optimized with oneAPI Deep Neural Network Library (oneDNN) to use the following CPU instructions in performance-critical operations:  AVX2 AVX512F FMA\n",
      "To enable them in other operations, rebuild TensorFlow with the appropriate compiler flags.\n"
     ]
    },
    {
     "data": {
      "text/plain": [
       "<tf.Tensor: shape=(30, 20, 200), dtype=float32, numpy=\n",
       "array([[[ 0.03499484, -0.01683573, -0.00109772, ...,  0.01609125,\n",
       "         -0.01858982, -0.02318482],\n",
       "        [ 0.02808723,  0.01257047, -0.03845335, ...,  0.02753481,\n",
       "          0.03020123, -0.00380019],\n",
       "        [-0.0258168 , -0.04152351, -0.01183939, ...,  0.00520669,\n",
       "          0.04723418, -0.0173195 ],\n",
       "        ...,\n",
       "        [ 0.00685428, -0.03592371, -0.03816517, ..., -0.02346001,\n",
       "         -0.03597009,  0.01424757],\n",
       "        [-0.01688971,  0.04254427, -0.04178306, ...,  0.02640123,\n",
       "         -0.02740653,  0.03365396],\n",
       "        [ 0.04559748,  0.02489728,  0.04813763, ..., -0.02926667,\n",
       "         -0.04576861, -0.03516098]],\n",
       "\n",
       "       [[ 0.00655261, -0.00961872, -0.0470585 , ..., -0.02615149,\n",
       "         -0.04030295, -0.02021247],\n",
       "        [ 0.02788446, -0.02179306, -0.01428564, ..., -0.00223538,\n",
       "         -0.04949142, -0.0070825 ],\n",
       "        [-0.00932413,  0.02144604,  0.00303138, ..., -0.04673285,\n",
       "          0.04175739,  0.01571195],\n",
       "        ...,\n",
       "        [-0.03081793, -0.00593878, -0.00241994, ..., -0.04472715,\n",
       "         -0.00323474,  0.03144578],\n",
       "        [-0.00358242, -0.04067086, -0.01665956, ..., -0.01961945,\n",
       "          0.00096525, -0.02383221],\n",
       "        [ 0.03424317,  0.0473262 ,  0.01014234, ..., -0.01457813,\n",
       "         -0.00957702, -0.02622206]],\n",
       "\n",
       "       [[ 0.0322249 ,  0.02129917,  0.0403748 , ..., -0.0133707 ,\n",
       "          0.01289378,  0.00945491],\n",
       "        [ 0.04940355,  0.03358996,  0.01746874, ...,  0.0236528 ,\n",
       "          0.00952513,  0.01026084],\n",
       "        [ 0.04472912,  0.04060456,  0.0457345 , ...,  0.01982191,\n",
       "         -0.01589037, -0.04653647],\n",
       "        ...,\n",
       "        [ 0.04899437,  0.00875782,  0.02270089, ..., -0.02025485,\n",
       "         -0.00998758, -0.03998963],\n",
       "        [-0.02648702,  0.02159295,  0.03780304, ...,  0.03156951,\n",
       "          0.02151896, -0.03460541],\n",
       "        [ 0.01682916,  0.01360286, -0.04638034, ..., -0.04103992,\n",
       "         -0.00705477, -0.0386852 ]],\n",
       "\n",
       "       ...,\n",
       "\n",
       "       [[ 0.02947612,  0.03481667, -0.02281343, ..., -0.00924742,\n",
       "         -0.04231687,  0.03259386],\n",
       "        [ 0.0414976 ,  0.00426396, -0.04071897, ..., -0.04423816,\n",
       "         -0.04776417,  0.04483825],\n",
       "        [ 0.04626522, -0.00658274, -0.01694027, ..., -0.00529246,\n",
       "         -0.02274523,  0.02789059],\n",
       "        ...,\n",
       "        [-0.03845112,  0.04474027,  0.01815364, ...,  0.01057587,\n",
       "          0.02710929,  0.03507483],\n",
       "        [-0.02229432,  0.00765111, -0.02103465, ...,  0.02697181,\n",
       "         -0.01198982,  0.00457722],\n",
       "        [-0.02784867, -0.02618486, -0.03103691, ..., -0.03845309,\n",
       "         -0.03750258, -0.018419  ]],\n",
       "\n",
       "       [[-0.02256334, -0.03713238,  0.01960473, ...,  0.03690529,\n",
       "         -0.03963725,  0.04484571],\n",
       "        [-0.03792731,  0.0373998 , -0.01784743, ..., -0.02879168,\n",
       "         -0.02458956,  0.01869514],\n",
       "        [ 0.04472912,  0.04060456,  0.0457345 , ...,  0.01982191,\n",
       "         -0.01589037, -0.04653647],\n",
       "        ...,\n",
       "        [-0.03285448, -0.00299394,  0.04902824, ...,  0.01878233,\n",
       "          0.03828489,  0.01526228],\n",
       "        [ 0.02788446, -0.02179306, -0.01428564, ..., -0.00223538,\n",
       "         -0.04949142, -0.0070825 ],\n",
       "        [-0.043574  ,  0.04377365,  0.01762304, ..., -0.00979193,\n",
       "         -0.04460547, -0.03152567]],\n",
       "\n",
       "       [[-0.03161313,  0.01468322,  0.00453718, ..., -0.00134433,\n",
       "         -0.00227534, -0.02984985],\n",
       "        [-0.00458574,  0.02455275,  0.03659934, ...,  0.04881156,\n",
       "          0.0297677 ,  0.02692263],\n",
       "        [ 0.00012795,  0.04250488, -0.01495603, ...,  0.01911185,\n",
       "          0.04357227, -0.01937653],\n",
       "        ...,\n",
       "        [-0.02826737, -0.02904302,  0.03185644, ..., -0.01775807,\n",
       "         -0.03832121,  0.03927669],\n",
       "        [ 0.04936825,  0.04334087, -0.00972487, ...,  0.04290492,\n",
       "         -0.04219229, -0.0307475 ],\n",
       "        [-0.00671253,  0.03688511,  0.02536604, ..., -0.02326082,\n",
       "         -0.01255702, -0.04885584]]], dtype=float32)>"
      ]
     },
     "execution_count": 16,
     "metadata": {},
     "output_type": "execute_result"
    }
   ],
   "source": [
    "# Define where to get the data for our embeddings from\n",
    "inputs = embedding_layer(_input_data)\n",
    "inputs"
   ]
  },
  {
   "cell_type": "markdown",
   "metadata": {},
   "source": [
    "<h3>Constructing Recurrent Neural Networks</h3>\n"
   ]
  },
  {
   "cell_type": "markdown",
   "metadata": {},
   "source": [
    "In this step, we create the stacked LSTM using <b>tf.keras.layers.StackedRNNCells</b>, which is a 2 layer LSTM network:\n"
   ]
  },
  {
   "cell_type": "code",
   "execution_count": 17,
   "metadata": {},
   "outputs": [],
   "source": [
    "lstm_cell_l1 = tf.keras.layers.LSTMCell(hidden_size_l1)\n",
    "lstm_cell_l2 = tf.keras.layers.LSTMCell(hidden_size_l2)"
   ]
  },
  {
   "cell_type": "code",
   "execution_count": 18,
   "metadata": {},
   "outputs": [],
   "source": [
    "stacked_lstm = tf.keras.layers.StackedRNNCells([lstm_cell_l1, lstm_cell_l2])"
   ]
  },
  {
   "cell_type": "markdown",
   "metadata": {},
   "source": [
    "<b>tf.keras.layers.RNN</b> creates a recurrent neural network using <b>stacked_lstm</b>. \n",
    "\n",
    "The input should be a Tensor of shape: [batch_size, max_time, embedding_vector_size], in our case it would be (30, 20, 200)\n"
   ]
  },
  {
   "cell_type": "code",
   "execution_count": 19,
   "metadata": {},
   "outputs": [],
   "source": [
    "layer  =  tf.keras.layers.RNN(stacked_lstm,[batch_size, num_steps],return_state=False,stateful=True,trainable=True)"
   ]
  },
  {
   "cell_type": "markdown",
   "metadata": {},
   "source": [
    "Also, we initialize the states of the nework:\n",
    "\n",
    "<h4>_initial_state</h4>\n",
    "\n",
    "For each LSTM, there are 2 state matrices, c_state and m_state.  c_state and m_state represent \"Memory State\" and \"Cell State\". Each hidden layer, has a vector of size 30, which keeps the states. so, for 200 hidden units in each LSTM, we have a matrix of size [30x200]\n"
   ]
  },
  {
   "cell_type": "code",
   "execution_count": 20,
   "metadata": {},
   "outputs": [],
   "source": [
    "init_state = tf.Variable(tf.zeros([batch_size,embeding_vector_size]),trainable=False)"
   ]
  },
  {
   "cell_type": "code",
   "execution_count": 21,
   "metadata": {},
   "outputs": [],
   "source": [
    "layer.inital_state = init_state"
   ]
  },
  {
   "cell_type": "code",
   "execution_count": 22,
   "metadata": {},
   "outputs": [
    {
     "data": {
      "text/plain": [
       "<tf.Variable 'Variable:0' shape=(30, 200) dtype=float32, numpy=\n",
       "array([[0., 0., 0., ..., 0., 0., 0.],\n",
       "       [0., 0., 0., ..., 0., 0., 0.],\n",
       "       [0., 0., 0., ..., 0., 0., 0.],\n",
       "       ...,\n",
       "       [0., 0., 0., ..., 0., 0., 0.],\n",
       "       [0., 0., 0., ..., 0., 0., 0.],\n",
       "       [0., 0., 0., ..., 0., 0., 0.]], dtype=float32)>"
      ]
     },
     "execution_count": 22,
     "metadata": {},
     "output_type": "execute_result"
    }
   ],
   "source": [
    "layer.inital_state"
   ]
  },
  {
   "cell_type": "markdown",
   "metadata": {},
   "source": [
    "so, lets look at the outputs. The output of the stackedLSTM comes from 128 hidden_layer, and in each time step(=20), one of them get activated. we use the linear activation to map the 128 hidden layer to a [30X20 matrix]\n"
   ]
  },
  {
   "cell_type": "code",
   "execution_count": 23,
   "metadata": {},
   "outputs": [],
   "source": [
    "outputs = layer(inputs)"
   ]
  },
  {
   "cell_type": "code",
   "execution_count": 24,
   "metadata": {},
   "outputs": [
    {
     "data": {
      "text/plain": [
       "<tf.Tensor: shape=(30, 20, 128), dtype=float32, numpy=\n",
       "array([[[ 2.07689451e-03,  5.57241961e-04, -4.65705321e-04, ...,\n",
       "          1.83925754e-03,  1.82428383e-04,  6.86606145e-05],\n",
       "        [ 3.36898630e-03,  2.22787051e-03, -3.57232522e-04, ...,\n",
       "          2.45908508e-03, -4.17212286e-04, -5.91513410e-04],\n",
       "        [ 4.94268397e-03,  3.49720032e-03,  7.93764251e-04, ...,\n",
       "          2.69160816e-03, -4.88767517e-04, -9.56957578e-04],\n",
       "        ...,\n",
       "        [-1.57825393e-03,  3.57238087e-03,  3.63581185e-03, ...,\n",
       "         -8.39162152e-04,  1.75370966e-04, -4.46949067e-04],\n",
       "        [-3.47417337e-03,  5.70272328e-03,  2.75890343e-03, ...,\n",
       "          1.08514237e-03,  1.17149798e-03,  1.57052069e-03],\n",
       "        [-3.88067658e-03,  6.77589187e-03,  2.17389781e-03, ...,\n",
       "          2.04117061e-03,  4.89268336e-04,  3.45464330e-03]],\n",
       "\n",
       "       [[ 1.28079939e-03, -9.05565394e-05,  4.18066425e-04, ...,\n",
       "          1.20329008e-04, -1.84750778e-03,  7.11656350e-04],\n",
       "        [ 3.01740598e-03,  1.27600841e-04,  1.46100810e-03, ...,\n",
       "         -6.40487066e-04, -2.50706007e-03,  2.31197919e-03],\n",
       "        [ 3.12045612e-03,  6.84980827e-04,  2.32029543e-03, ...,\n",
       "         -1.47053460e-03, -2.39077304e-03,  2.04941793e-03],\n",
       "        ...,\n",
       "        [ 6.47225184e-03, -5.86022111e-03, -1.29969616e-03, ...,\n",
       "          4.55184607e-03, -6.14816556e-03, -7.67474354e-04],\n",
       "        [ 7.18788477e-03, -6.28174469e-03, -7.85685726e-04, ...,\n",
       "          2.53008772e-03, -6.17427565e-03,  1.87534955e-03],\n",
       "        [ 6.49521081e-03, -6.13189209e-03, -1.07705197e-03, ...,\n",
       "          1.40302512e-03, -5.99347660e-03,  2.93663563e-03]],\n",
       "\n",
       "       [[-1.06514199e-03,  1.76016649e-04, -5.88790863e-04, ...,\n",
       "         -3.67281784e-04, -1.12469902e-03,  6.10439922e-04],\n",
       "        [-3.36895161e-03, -3.06330156e-04,  7.84670101e-06, ...,\n",
       "          2.17238485e-04, -3.28279799e-04,  2.81701353e-03],\n",
       "        [-5.54588623e-03, -1.30063388e-04,  1.23628275e-03, ...,\n",
       "         -1.09727654e-04, -1.33586102e-04,  3.58207361e-03],\n",
       "        ...,\n",
       "        [-1.37150253e-03,  3.23262694e-03, -6.11655996e-05, ...,\n",
       "          1.35830732e-03, -4.85588750e-03, -2.65466725e-03],\n",
       "        [-2.12440267e-03,  2.61108018e-03,  1.79527051e-05, ...,\n",
       "          3.17093916e-04, -2.87255505e-03, -3.52704362e-03],\n",
       "        [-2.25039409e-03,  1.52368669e-03,  2.07920923e-04, ...,\n",
       "          2.87578005e-04, -1.87758938e-03, -3.10478825e-03]],\n",
       "\n",
       "       ...,\n",
       "\n",
       "       [[-1.70226593e-03, -6.94324728e-04,  3.22409876e-04, ...,\n",
       "          8.15604217e-05,  6.12208212e-04,  2.13235980e-04],\n",
       "        [-4.66952426e-03, -6.82696584e-04,  2.49794009e-03, ...,\n",
       "          1.28143048e-03,  9.03428125e-04,  1.40806253e-03],\n",
       "        [-5.69643779e-03, -1.25788886e-03,  4.89722611e-03, ...,\n",
       "          2.18780898e-03, -8.61380831e-05,  3.54505552e-04],\n",
       "        ...,\n",
       "        [-8.14413745e-03, -2.61583109e-03, -4.91657387e-03, ...,\n",
       "         -9.86611936e-04,  1.27387626e-04, -2.23432994e-03],\n",
       "        [-7.97508843e-03, -1.08387647e-03, -3.71925859e-03, ...,\n",
       "          4.51406871e-04, -5.77724772e-04, -4.05111955e-03],\n",
       "        [-8.42408370e-03, -1.07285997e-03, -3.51970224e-03, ...,\n",
       "          1.42949156e-03, -1.77201931e-03, -4.03145514e-03]],\n",
       "\n",
       "       [[-5.55900624e-05, -6.77465578e-04, -9.55995405e-04, ...,\n",
       "         -1.02244527e-03,  4.08288877e-04, -4.85232420e-04],\n",
       "        [-1.19057331e-04, -2.21923925e-03, -1.53321074e-03, ...,\n",
       "         -1.90289353e-03,  8.54097307e-05,  8.33879167e-04],\n",
       "        [-1.25991274e-03, -2.29041558e-03, -1.00944587e-03, ...,\n",
       "         -2.56806472e-03, -5.49609307e-04,  1.06819940e-03],\n",
       "        ...,\n",
       "        [-3.54546821e-03,  2.62864050e-03,  4.59604169e-04, ...,\n",
       "          1.24976959e-03,  8.28164106e-04,  3.14119854e-03],\n",
       "        [-1.75959861e-03,  2.58726859e-03,  1.97730376e-03, ...,\n",
       "          1.49204035e-03,  1.47449935e-03,  3.95738380e-03],\n",
       "        [-5.47876058e-04,  1.83433259e-03,  1.85748574e-03, ...,\n",
       "          1.35157409e-03,  1.64092844e-03,  4.75240964e-03]],\n",
       "\n",
       "       [[-5.51295816e-04,  5.26538497e-05, -3.57869940e-05, ...,\n",
       "          1.28581619e-03, -1.65564590e-04,  5.95114019e-04],\n",
       "        [-1.20885445e-04, -4.33086097e-04, -1.39142422e-03, ...,\n",
       "          1.79376657e-04,  4.16365103e-04,  6.94951217e-04],\n",
       "        [-1.03255431e-03, -1.55226875e-03, -1.52864098e-03, ...,\n",
       "         -1.76573661e-03,  7.25361344e-04,  6.72834401e-04],\n",
       "        ...,\n",
       "        [-4.62125149e-03, -2.05647782e-03,  6.07666140e-03, ...,\n",
       "          5.55591239e-03, -4.68163460e-04, -6.85726572e-03],\n",
       "        [-7.38926418e-03, -2.81933392e-03,  5.35676721e-03, ...,\n",
       "          6.12393906e-03, -7.06970110e-04, -6.05674507e-03],\n",
       "        [-1.02064321e-02, -3.33120371e-03,  5.78003610e-03, ...,\n",
       "          8.09544418e-03, -1.69230322e-03, -4.54931939e-03]]],\n",
       "      dtype=float32)>"
      ]
     },
     "execution_count": 24,
     "metadata": {},
     "output_type": "execute_result"
    }
   ],
   "source": [
    "outputs"
   ]
  },
  {
   "cell_type": "markdown",
   "metadata": {},
   "source": [
    "<h2>Dense layer</h2>\n",
    "We now create densely-connected neural network layer that would reshape the outputs tensor from  [30 x 20 x 128] to [30 x 20 x 10000].\n"
   ]
  },
  {
   "cell_type": "code",
   "execution_count": 25,
   "metadata": {},
   "outputs": [],
   "source": [
    "dense = tf.keras.layers.Dense(vocab_size)"
   ]
  },
  {
   "cell_type": "code",
   "execution_count": 26,
   "metadata": {},
   "outputs": [],
   "source": [
    "logits_outputs  = dense(outputs)"
   ]
  },
  {
   "cell_type": "code",
   "execution_count": 27,
   "metadata": {},
   "outputs": [
    {
     "name": "stdout",
     "output_type": "stream",
     "text": [
      "shape of the output from dense layer:  (30, 20, 10000)\n"
     ]
    }
   ],
   "source": [
    "print(\"shape of the output from dense layer: \", logits_outputs.shape) #(batch_size, sequence_length, vocab_size)"
   ]
  },
  {
   "cell_type": "markdown",
   "metadata": {},
   "source": [
    "<h2>Activation layer</h2>\n",
    "\n",
    "A softmax activation layers is also then applied to derive the probability of the output being in any of the multiclass(10000 in this case) possibilities. \n"
   ]
  },
  {
   "cell_type": "code",
   "execution_count": 28,
   "metadata": {},
   "outputs": [],
   "source": [
    "activation = tf.keras.layers.Activation('softmax')"
   ]
  },
  {
   "cell_type": "code",
   "execution_count": 29,
   "metadata": {},
   "outputs": [],
   "source": [
    "output_words_prob = activation(logits_outputs)"
   ]
  },
  {
   "cell_type": "code",
   "execution_count": 30,
   "metadata": {},
   "outputs": [
    {
     "name": "stdout",
     "output_type": "stream",
     "text": [
      "shape of the output from the activation layer:  (30, 20, 10000)\n"
     ]
    }
   ],
   "source": [
    "print(\"shape of the output from the activation layer: \", output_words_prob.shape) #(batch_size, sequence_length, vocab_size)"
   ]
  },
  {
   "cell_type": "markdown",
   "metadata": {},
   "source": [
    "Lets look at the probability of observing words for t=0 to t=20:\n"
   ]
  },
  {
   "cell_type": "code",
   "execution_count": 31,
   "metadata": {},
   "outputs": [
    {
     "name": "stdout",
     "output_type": "stream",
     "text": [
      "The probability of observing words in t=0 to t=20 tf.Tensor(\n",
      "[[9.99911790e-05 9.99937911e-05 9.99901458e-05 ... 9.99752519e-05\n",
      "  9.99982512e-05 9.99827316e-05]\n",
      " [9.99788244e-05 1.00000245e-04 9.99681652e-05 ... 9.99646581e-05\n",
      "  9.99896074e-05 9.99659023e-05]\n",
      " [9.99645854e-05 1.00001824e-04 9.99657132e-05 ... 9.99840704e-05\n",
      "  9.99904805e-05 9.99544209e-05]\n",
      " ...\n",
      " [9.98842152e-05 9.99558179e-05 1.00004858e-04 ... 1.00022356e-04\n",
      "  9.99564072e-05 9.99369440e-05]\n",
      " [9.98500618e-05 9.99205586e-05 1.00029392e-04 ... 1.00018362e-04\n",
      "  9.99761251e-05 9.99457116e-05]\n",
      " [9.98366959e-05 9.98898322e-05 1.00037505e-04 ... 1.00013967e-04\n",
      "  1.00014578e-04 9.99410986e-05]], shape=(20, 10000), dtype=float32)\n"
     ]
    }
   ],
   "source": [
    "print(\"The probability of observing words in t=0 to t=20\", output_words_prob[0,0:num_steps])"
   ]
  },
  {
   "cell_type": "markdown",
   "metadata": {},
   "source": [
    "<h3>Prediction</h3>\n",
    "What is the word correspond to the probability output? Lets use the maximum probability:\n"
   ]
  },
  {
   "cell_type": "code",
   "execution_count": 32,
   "metadata": {},
   "outputs": [
    {
     "data": {
      "text/plain": [
       "array([5111, 5111, 1565,   55,   55, 3587, 7483, 3651, 3651, 3651, 3651,\n",
       "       3651, 9640, 3020, 8345, 9194,  707,  707,  707, 5892])"
      ]
     },
     "execution_count": 32,
     "metadata": {},
     "output_type": "execute_result"
    }
   ],
   "source": [
    "np.argmax(output_words_prob[0,0:num_steps], axis=1)"
   ]
  },
  {
   "cell_type": "markdown",
   "metadata": {},
   "source": [
    "So, what is the ground truth for the first word of first sentence? You can get it from target tensor, if you want to find the embedding vector: \n"
   ]
  },
  {
   "cell_type": "code",
   "execution_count": 33,
   "metadata": {},
   "outputs": [
    {
     "data": {
      "text/plain": [
       "array([9971, 9972, 9974, 9975, 9976, 9980, 9981, 9982, 9983, 9984, 9986,\n",
       "       9987, 9988, 9989, 9991, 9992, 9993, 9994, 9995, 9996], dtype=int32)"
      ]
     },
     "execution_count": 33,
     "metadata": {},
     "output_type": "execute_result"
    }
   ],
   "source": [
    "_targets[0]"
   ]
  },
  {
   "cell_type": "markdown",
   "metadata": {},
   "source": [
    "<h4>Objective function</h4>\n",
    "\n",
    "How similar the predicted words are to the target words?\n",
    "\n",
    "Now we have to define our objective function, to calculate the similarity of predicted values to ground truth, and then, penalize the model with the error. Our objective is to minimize loss function, that is, to minimize the average negative log probability of the target words:\n",
    "\n",
    "$$\\text{loss} = -\\frac{1}{N}\\sum_{i=1}^{N} \\ln p_{\\text{target}\\_i}$$\n",
    "\n",
    "This function is already implemented and available in TensorFlow through _tf.keras.losses.sparse_categorical_crossentropy_. It calculates the categorical cross-entropy loss for <b>logits</b> and the <b>target</b> sequence.  \n",
    "\n",
    "The arguments of this function are:  \n",
    "\n",
    "<ul>\n",
    "    <li>logits: List of 2D Tensors of shape [batch_size x num_decoder_symbols].</li>  \n",
    "    <li>targets: List of 1D batch-sized int32 Tensors of the same length as logits.</li>   \n",
    "</ul>\n"
   ]
  },
  {
   "cell_type": "code",
   "execution_count": 34,
   "metadata": {},
   "outputs": [],
   "source": [
    "def crossentropy(y_true, y_pred):\n",
    "    return tf.keras.losses.sparse_categorical_crossentropy(y_true, y_pred)"
   ]
  },
  {
   "cell_type": "code",
   "execution_count": 35,
   "metadata": {},
   "outputs": [],
   "source": [
    "loss  = crossentropy(_targets, output_words_prob)"
   ]
  },
  {
   "cell_type": "markdown",
   "metadata": {},
   "source": [
    "Lets look at the first 10 values of loss:\n"
   ]
  },
  {
   "cell_type": "code",
   "execution_count": 36,
   "metadata": {},
   "outputs": [
    {
     "data": {
      "text/plain": [
       "<tf.Tensor: shape=(10,), dtype=float32, numpy=\n",
       "array([9.210523, 9.21033 , 9.210446, 9.210169, 9.210439, 9.211224,\n",
       "       9.210055, 9.210794, 9.210286, 9.211112], dtype=float32)>"
      ]
     },
     "execution_count": 36,
     "metadata": {},
     "output_type": "execute_result"
    }
   ],
   "source": [
    "loss[0,:10]"
   ]
  },
  {
   "cell_type": "markdown",
   "metadata": {},
   "source": [
    "Now, we define cost as average of the losses:\n"
   ]
  },
  {
   "cell_type": "code",
   "execution_count": 37,
   "metadata": {},
   "outputs": [
    {
     "data": {
      "text/plain": [
       "<tf.Tensor: shape=(), dtype=float32, numpy=184.20554>"
      ]
     },
     "execution_count": 37,
     "metadata": {},
     "output_type": "execute_result"
    }
   ],
   "source": [
    "cost = tf.reduce_sum(loss / batch_size)\n",
    "cost"
   ]
  },
  {
   "cell_type": "markdown",
   "metadata": {},
   "source": [
    "<h3>Training</h3>\n",
    "\n",
    "To do training for our network, we have to take the following steps:\n",
    "\n",
    "<ol>\n",
    "    <li>Define the optimizer.</li>\n",
    "    <li>Assemble layers to build model.</li>\n",
    "    <li>Calculate the gradients based on the loss function.</li>\n",
    "    <li>Apply the optimizer to the variables/gradients tuple.</li>\n",
    "</ol>\n"
   ]
  },
  {
   "cell_type": "markdown",
   "metadata": {},
   "source": [
    "<h4>1. Define Optimizer</h4>\n"
   ]
  },
  {
   "cell_type": "code",
   "execution_count": 38,
   "metadata": {},
   "outputs": [
    {
     "name": "stderr",
     "output_type": "stream",
     "text": [
      "/home/jupyterlab/conda/envs/python/lib/python3.7/site-packages/keras/optimizer_v2/optimizer_v2.py:356: UserWarning: The `lr` argument is deprecated, use `learning_rate` instead.\n",
      "  \"The `lr` argument is deprecated, use `learning_rate` instead.\")\n"
     ]
    }
   ],
   "source": [
    "# Create a variable for the learning rate\n",
    "lr = tf.Variable(0.0, trainable=False)\n",
    "optimizer = tf.keras.optimizers.SGD(lr=lr, clipnorm=max_grad_norm)"
   ]
  },
  {
   "cell_type": "markdown",
   "metadata": {},
   "source": [
    "<h4>2. Assemble layers to build model.</h4>\n"
   ]
  },
  {
   "cell_type": "code",
   "execution_count": 39,
   "metadata": {},
   "outputs": [
    {
     "name": "stdout",
     "output_type": "stream",
     "text": [
      "Model: \"sequential\"\n",
      "_________________________________________________________________\n",
      "Layer (type)                 Output Shape              Param #   \n",
      "=================================================================\n",
      "embedding_vocab (Embedding)  (30, 20, 200)             2000000   \n",
      "_________________________________________________________________\n",
      "rnn (RNN)                    (30, 20, 128)             671088    \n",
      "_________________________________________________________________\n",
      "dense (Dense)                (30, 20, 10000)           1290000   \n",
      "_________________________________________________________________\n",
      "activation (Activation)      (30, 20, 10000)           0         \n",
      "=================================================================\n",
      "Total params: 3,961,088\n",
      "Trainable params: 3,955,088\n",
      "Non-trainable params: 6,000\n",
      "_________________________________________________________________\n"
     ]
    }
   ],
   "source": [
    "model = tf.keras.Sequential()\n",
    "model.add(embedding_layer)\n",
    "model.add(layer)\n",
    "model.add(dense)\n",
    "model.add(activation)\n",
    "model.compile(loss=crossentropy, optimizer=optimizer)\n",
    "model.summary()"
   ]
  },
  {
   "cell_type": "markdown",
   "metadata": {},
   "source": [
    "<h4>2. Trainable Variables</h4>\n"
   ]
  },
  {
   "cell_type": "markdown",
   "metadata": {},
   "source": [
    "Defining a variable, if you passed <i>trainable=True</i>, the variable constructor automatically adds new variables to the graph collection <b>GraphKeys.TRAINABLE_VARIABLES</b>. Now, using <i>tf.trainable_variables()</i> you can get all variables created with <b>trainable=True</b>.\n"
   ]
  },
  {
   "cell_type": "code",
   "execution_count": 40,
   "metadata": {},
   "outputs": [],
   "source": [
    "# Get all TensorFlow variables marked as \"trainable\" (i.e. all of them except _lr, which we just created)\n",
    "tvars = model.trainable_variables"
   ]
  },
  {
   "cell_type": "markdown",
   "metadata": {},
   "source": [
    "Note: we can find the name and scope of all variables:\n"
   ]
  },
  {
   "cell_type": "code",
   "execution_count": 41,
   "metadata": {},
   "outputs": [
    {
     "data": {
      "text/plain": [
       "['embedding_vocab/embeddings:0',\n",
       " 'rnn/stacked_rnn_cells/lstm_cell/kernel:0',\n",
       " 'rnn/stacked_rnn_cells/lstm_cell/recurrent_kernel:0',\n",
       " 'rnn/stacked_rnn_cells/lstm_cell/bias:0',\n",
       " 'rnn/stacked_rnn_cells/lstm_cell_1/kernel:0',\n",
       " 'rnn/stacked_rnn_cells/lstm_cell_1/recurrent_kernel:0',\n",
       " 'rnn/stacked_rnn_cells/lstm_cell_1/bias:0',\n",
       " 'dense/kernel:0',\n",
       " 'dense/bias:0']"
      ]
     },
     "execution_count": 41,
     "metadata": {},
     "output_type": "execute_result"
    }
   ],
   "source": [
    "[v.name for v in tvars] "
   ]
  },
  {
   "cell_type": "markdown",
   "metadata": {},
   "source": [
    "<h4>3. Calculate the gradients based on the loss function</h4>\n"
   ]
  },
  {
   "cell_type": "markdown",
   "metadata": {},
   "source": [
    "**Gradient**: The gradient of a function is the slope of its derivative (line), or in other words, the rate of change of a function. It's a vector (a direction to move) that points in the direction of greatest increase of the function, and calculated by the <b>derivative</b> operation.\n"
   ]
  },
  {
   "cell_type": "markdown",
   "metadata": {},
   "source": [
    "First lets recall the gradient function using an toy example:\n",
    "$$ z = \\left(2x^2 + 3xy\\right)$$\n"
   ]
  },
  {
   "cell_type": "code",
   "execution_count": 42,
   "metadata": {},
   "outputs": [],
   "source": [
    "x = tf.constant(1.0)\n",
    "y =  tf.constant(2.0)\n",
    "with tf.GradientTape(persistent=True) as g:\n",
    "    g.watch(x)\n",
    "    g.watch(y)\n",
    "    func_test = 2 * x * x + 3 * x * y"
   ]
  },
  {
   "cell_type": "markdown",
   "metadata": {},
   "source": [
    "The <b>tf.gradients()</b> function allows you to compute the symbolic gradient of one tensor with respect to one or more other tensors—including variables. <b>tf.gradients(func, xs)</b> constructs symbolic partial derivatives of sum of <b>func</b> w.r.t. <i>x</i> in <b>xs</b>. \n",
    "\n",
    "Now, lets look at the derivitive w.r.t. <b>var_x</b>:\n",
    "$$ \\frac{\\partial \\:}{\\partial \\:x}\\left(2x^2 + 3xy\\right) = 4x + 3y $$\n"
   ]
  },
  {
   "cell_type": "code",
   "execution_count": 43,
   "metadata": {},
   "outputs": [
    {
     "name": "stdout",
     "output_type": "stream",
     "text": [
      "tf.Tensor(10.0, shape=(), dtype=float32)\n"
     ]
    }
   ],
   "source": [
    "var_grad = g.gradient(func_test, x) # Will compute to 10.0\n",
    "print(var_grad)"
   ]
  },
  {
   "cell_type": "markdown",
   "metadata": {},
   "source": [
    "the derivative w.r.t. <b>var_y</b>:\n",
    "$$ \\frac{\\partial \\:}{\\partial \\:y}\\left(2x^2 + 3xy\\right) = 3x $$\n"
   ]
  },
  {
   "cell_type": "code",
   "execution_count": 44,
   "metadata": {},
   "outputs": [
    {
     "name": "stdout",
     "output_type": "stream",
     "text": [
      "tf.Tensor(3.0, shape=(), dtype=float32)\n"
     ]
    }
   ],
   "source": [
    "var_grad = g.gradient(func_test, y) # Will compute to 3.0\n",
    "print(var_grad)"
   ]
  },
  {
   "cell_type": "markdown",
   "metadata": {},
   "source": [
    "Now, we can look at gradients w.r.t all variables:\n"
   ]
  },
  {
   "cell_type": "code",
   "execution_count": 45,
   "metadata": {},
   "outputs": [],
   "source": [
    "with tf.GradientTape() as tape:\n",
    "    # Forward pass.\n",
    "    output_words_prob = model(_input_data)\n",
    "    # Loss value for this batch.\n",
    "    loss  = crossentropy(_targets, output_words_prob)\n",
    "    cost = tf.reduce_sum(loss,axis=0) / batch_size"
   ]
  },
  {
   "cell_type": "code",
   "execution_count": 46,
   "metadata": {},
   "outputs": [],
   "source": [
    "# Get gradients of loss wrt the trainable variables.\n",
    "grad_t_list = tape.gradient(cost, tvars)"
   ]
  },
  {
   "cell_type": "code",
   "execution_count": 47,
   "metadata": {},
   "outputs": [
    {
     "name": "stdout",
     "output_type": "stream",
     "text": [
      "[<tensorflow.python.framework.indexed_slices.IndexedSlices object at 0x7f51167d46d0>, <tf.Tensor: shape=(200, 1024), dtype=float32, numpy=\n",
      "array([[ 4.45838424e-07,  5.58718739e-07, -7.24495976e-07, ...,\n",
      "        -2.66487604e-07,  2.60612978e-07, -2.81278005e-08],\n",
      "       [ 4.24664080e-07, -1.03906658e-07, -7.18015770e-07, ...,\n",
      "        -3.69647552e-07,  4.41538759e-07,  3.84091948e-07],\n",
      "       [-2.27121248e-07, -6.24634595e-07,  8.61225203e-07, ...,\n",
      "        -6.02079737e-08,  6.67327470e-07,  1.99215066e-07],\n",
      "       ...,\n",
      "       [ 1.06222467e-06, -1.04625755e-07, -1.05907679e-06, ...,\n",
      "        -1.78151083e-07,  3.95478921e-08,  2.64916622e-07],\n",
      "       [-1.37350048e-06, -2.16678018e-08,  1.21801941e-06, ...,\n",
      "         7.44873532e-08, -2.82879853e-07,  2.64539068e-07],\n",
      "       [-6.62326727e-08,  2.90061280e-07,  3.46889124e-07, ...,\n",
      "         3.18346935e-07, -2.70631119e-07, -1.16465479e-07]], dtype=float32)>, <tf.Tensor: shape=(256, 1024), dtype=float32, numpy=\n",
      "array([[ 2.55766537e-07, -1.30010307e-07,  7.35171497e-08, ...,\n",
      "        -6.79755630e-09,  1.21015660e-07, -5.89281903e-08],\n",
      "       [ 4.09679046e-08,  5.93314198e-09, -1.45087398e-07, ...,\n",
      "        -5.08170679e-08,  3.18797078e-07,  8.28579587e-08],\n",
      "       [ 2.40389717e-08, -1.20867156e-08,  3.74942886e-08, ...,\n",
      "         1.13053900e-07, -4.28765006e-08, -5.88656839e-08],\n",
      "       ...,\n",
      "       [-1.69745817e-08,  5.13671594e-08, -1.45833923e-09, ...,\n",
      "        -5.09275822e-08, -2.52459813e-08,  9.54019441e-08],\n",
      "       [-2.81200755e-07, -1.14759914e-07, -1.59387284e-07, ...,\n",
      "         1.03702099e-07, -1.86101062e-07,  7.43715702e-08],\n",
      "       [-1.38166328e-07, -9.62977538e-08,  3.33644437e-08, ...,\n",
      "         4.47910011e-08, -1.32581903e-07, -7.05570358e-08]], dtype=float32)>, <tf.Tensor: shape=(1024,), dtype=float32, numpy=\n",
      "array([ 7.9439942e-06,  1.2164120e-05, -2.0987689e-05, ...,\n",
      "       -1.7654900e-05,  3.2002594e-05, -8.7526296e-06], dtype=float32)>, <tf.Tensor: shape=(256, 512), dtype=float32, numpy=\n",
      "array([[-3.0220562e-07, -2.7862990e-07, -4.8903274e-07, ...,\n",
      "         6.4546765e-07,  7.7637708e-08, -1.5540783e-07],\n",
      "       [-4.4693579e-08, -1.9296276e-07, -4.5655057e-08, ...,\n",
      "         1.7986932e-07, -1.5373863e-07, -3.8823811e-07],\n",
      "       [ 3.8272987e-07,  3.3941184e-08, -5.0067882e-08, ...,\n",
      "         2.6615294e-07, -1.5552975e-07, -2.1796905e-07],\n",
      "       ...,\n",
      "       [-2.6989829e-07,  1.6834515e-07,  2.7780288e-08, ...,\n",
      "         1.7811716e-07, -9.1391996e-08,  1.7552429e-07],\n",
      "       [ 5.1524393e-07, -3.1923003e-07, -7.9437719e-08, ...,\n",
      "         4.7971974e-07,  6.5162737e-09,  5.4576606e-08],\n",
      "       [ 7.1306783e-07,  4.3114817e-08,  1.7674085e-07, ...,\n",
      "        -1.3437767e-07,  8.8067758e-08,  3.6216761e-07]], dtype=float32)>, <tf.Tensor: shape=(128, 512), dtype=float32, numpy=\n",
      "array([[ 7.4490640e-07,  4.1736530e-07,  2.6661876e-08, ...,\n",
      "         6.2851434e-08,  1.7449931e-07, -1.0879215e-07],\n",
      "       [ 3.0759793e-08,  3.6737876e-07, -3.3063962e-08, ...,\n",
      "        -7.5447957e-08,  3.5043207e-08, -2.1528576e-08],\n",
      "       [ 3.6433079e-09, -5.6081447e-08, -2.1014617e-07, ...,\n",
      "         2.4806184e-07,  5.4264476e-08, -3.9209667e-09],\n",
      "       ...,\n",
      "       [-1.3599538e-07, -1.6180724e-07, -1.9742551e-07, ...,\n",
      "         6.9933935e-07, -8.1606913e-08,  7.1205449e-08],\n",
      "       [-8.7229722e-08,  1.0824097e-08, -6.9755774e-09, ...,\n",
      "         2.5389548e-07,  2.1264017e-07, -2.4061590e-08],\n",
      "       [ 1.3428399e-07, -1.3839488e-08,  2.4081976e-07, ...,\n",
      "        -2.5594912e-07, -2.5336800e-07, -5.0767643e-08]], dtype=float32)>, <tf.Tensor: shape=(512,), dtype=float32, numpy=\n",
      "array([-4.19225034e-05,  2.59054723e-05, -6.40924191e-06,  1.58057901e-05,\n",
      "       -1.65708243e-05,  2.38378689e-05, -5.91239677e-06,  3.47711866e-05,\n",
      "       -1.96976071e-05, -1.63104469e-05,  3.71332862e-05,  2.73259066e-05,\n",
      "        4.29596548e-06, -5.15185311e-05,  2.58242962e-05, -7.74238924e-06,\n",
      "       -3.60013000e-05, -4.20504603e-06,  3.87843975e-05, -5.93480072e-05,\n",
      "        4.49701656e-06, -1.85790486e-05,  2.15734362e-05, -5.28089877e-05,\n",
      "       -1.99681767e-06, -1.52131470e-05,  1.95104367e-05,  3.17409058e-06,\n",
      "        3.82132748e-06,  8.30253430e-06, -4.84162047e-06,  4.09402965e-05,\n",
      "        1.28486590e-06, -6.03498665e-06, -4.51495507e-05, -3.43641732e-05,\n",
      "       -4.29428292e-06, -3.90194964e-06, -7.61424599e-06,  1.79439030e-05,\n",
      "        3.01111486e-05, -1.97051522e-05, -1.96757264e-06,  2.14342181e-05,\n",
      "        4.35237635e-05, -4.42901728e-05, -4.67072678e-05, -2.46377913e-05,\n",
      "       -3.14838417e-06, -1.73031476e-05, -8.56988936e-06,  1.65767105e-05,\n",
      "        5.21181846e-06, -2.21948103e-05, -2.90931457e-05,  1.99637398e-05,\n",
      "        4.92959407e-06, -8.38897267e-06,  1.56998904e-05, -3.59990554e-05,\n",
      "       -5.17316403e-06,  1.36560056e-05,  3.46621455e-05, -2.74116501e-05,\n",
      "        1.48661384e-05,  6.36092955e-06, -3.78546520e-06,  1.60766940e-05,\n",
      "       -1.89347920e-05, -4.37153467e-05,  2.78341013e-05, -3.16692276e-05,\n",
      "        1.35971459e-05, -3.29807262e-05, -5.15449574e-06,  2.26692555e-06,\n",
      "       -1.11172558e-05,  2.17716297e-05, -1.08106442e-05, -3.74740230e-05,\n",
      "       -2.11537772e-05,  1.52800039e-05, -4.37671624e-05, -1.43504212e-05,\n",
      "       -9.19627837e-07, -5.66308427e-06, -1.37917323e-05, -1.23929294e-05,\n",
      "        1.23169457e-05, -1.35759701e-05, -3.58979742e-05,  1.33038538e-05,\n",
      "       -2.43569139e-05, -2.34602921e-05, -1.59088195e-05,  7.70516854e-05,\n",
      "       -1.59857409e-05, -7.01363206e-06, -1.41278470e-05, -8.07896722e-05,\n",
      "       -1.97058307e-06,  1.86046309e-05, -2.18644727e-05,  1.24663866e-05,\n",
      "        2.40402405e-05,  1.19385759e-05, -6.56224147e-05, -3.19111132e-05,\n",
      "       -3.84235573e-05,  7.30292741e-05,  2.17005563e-05, -5.54152066e-05,\n",
      "        3.56687087e-05, -7.81002109e-06, -2.52278878e-05,  3.66159065e-06,\n",
      "        7.70504084e-06, -6.79605819e-06, -1.65168385e-05,  3.49168295e-06,\n",
      "        4.55884219e-06,  3.25623660e-06, -2.86974955e-05,  4.69006009e-05,\n",
      "       -6.64189702e-06, -5.24364405e-05,  6.23400956e-06,  1.66892660e-05,\n",
      "       -2.53427970e-05,  1.57633604e-05,  9.76434967e-06,  1.46612001e-05,\n",
      "       -3.50527698e-05,  3.79437952e-05, -1.50313326e-05,  2.72674079e-05,\n",
      "       -1.53137898e-05, -1.81797950e-05,  4.21094373e-05,  3.62768624e-05,\n",
      "       -4.71195244e-06, -6.58746212e-05,  2.83546378e-05, -2.64150385e-05,\n",
      "       -6.25188113e-05,  5.29633326e-06,  8.11058562e-05, -6.52305316e-05,\n",
      "       -8.18368790e-07, -4.63097531e-05,  4.58831782e-05, -3.01074779e-05,\n",
      "       -1.43228572e-05, -3.56724559e-06,  1.88431841e-07,  5.16462569e-06,\n",
      "        1.07738706e-05,  7.23377707e-06, -3.02499720e-05,  5.06899160e-05,\n",
      "        1.13320475e-05, -1.29323362e-05, -6.33779564e-05, -3.54480690e-05,\n",
      "       -1.64989615e-05, -1.58855637e-05, -1.49514963e-05,  2.50842513e-05,\n",
      "        3.97679687e-05, -1.46419534e-05, -1.95455232e-05,  2.95495756e-05,\n",
      "        5.73273719e-05, -5.31651240e-05, -3.97865806e-05, -4.72337961e-05,\n",
      "       -2.00081722e-05, -1.60052132e-05, -1.97933296e-05,  7.55617975e-06,\n",
      "        3.19084284e-05,  1.43675161e-05,  9.59657518e-06,  3.54321892e-05,\n",
      "       -1.13213900e-06, -3.24982539e-05,  4.14809911e-05, -4.22518933e-05,\n",
      "        2.42232636e-06,  2.93244047e-05,  5.29957324e-05, -3.18433667e-05,\n",
      "        6.58920726e-06,  8.99341285e-06, -8.79926301e-06,  2.63923012e-05,\n",
      "       -7.30769807e-06, -5.30610741e-05,  4.64365912e-05, -5.96165883e-05,\n",
      "        4.00762437e-05, -2.86961294e-05,  1.61382359e-05, -1.08773393e-05,\n",
      "       -1.47772298e-05,  2.77615673e-05, -1.51717722e-06, -4.82615687e-05,\n",
      "        1.94952281e-05, -8.59005559e-06, -5.56605009e-05, -3.68685141e-05,\n",
      "       -1.16273714e-05, -1.11856189e-05, -1.75410569e-05, -2.05135020e-05,\n",
      "        3.68298461e-05, -1.83458360e-06, -6.18818958e-05,  2.28580466e-05,\n",
      "       -5.06756769e-05, -7.32563421e-05, -8.14148370e-06,  8.26533869e-05,\n",
      "       -3.39840290e-06, -9.07031153e-06,  1.34936818e-05, -1.36729592e-04,\n",
      "        6.51052687e-07,  1.11367117e-05, -1.38851747e-05,  2.22362796e-05,\n",
      "        2.34828731e-05,  3.39765575e-05, -8.93500837e-05, -2.04365642e-05,\n",
      "       -3.33899225e-05,  1.05417770e-04,  1.61240496e-05, -6.45251275e-05,\n",
      "        4.72327738e-05, -1.44661408e-05, -4.64395562e-05,  1.53935416e-05,\n",
      "       -5.39699613e-07, -6.85892337e-06, -4.79970113e-05,  1.77383845e-06,\n",
      "       -1.02183967e-05,  2.08807814e-05, -6.07086804e-06,  6.75089905e-05,\n",
      "        6.79046207e-06, -6.32611482e-05,  2.18055247e-05,  2.23405314e-05,\n",
      "        2.59583816e-02,  2.25263610e-02, -5.94908511e-03, -1.20348763e-02,\n",
      "       -8.48224480e-03, -3.52223404e-03,  5.58684170e-02,  3.06646507e-02,\n",
      "        3.75438370e-02, -1.07221343e-02,  4.14272351e-03,  1.48111125e-02,\n",
      "        6.23993855e-03, -2.72184797e-02, -6.24616817e-03, -6.46583829e-03,\n",
      "        1.52145105e-04,  3.68267633e-02,  4.65397984e-02,  4.61683273e-02,\n",
      "        2.23778281e-02, -3.72819602e-02, -1.01543730e-02, -7.66296126e-03,\n",
      "       -1.12693915e-02, -1.54644949e-04,  4.04576352e-03, -1.28807966e-02,\n",
      "        5.75662311e-03,  1.45929307e-02, -6.80224551e-03, -2.03793049e-02,\n",
      "        8.81635584e-04,  1.31492186e-02,  9.69977491e-03, -9.35761258e-03,\n",
      "       -4.28209733e-03,  1.22388592e-02, -2.18341127e-04,  1.55043248e-02,\n",
      "        3.77239659e-02, -3.74709605e-03, -6.02239743e-06,  1.71572231e-02,\n",
      "        1.27555020e-02, -4.82061952e-02,  1.92021914e-02, -2.29376815e-02,\n",
      "        5.92728006e-03, -4.12089042e-02,  1.99778974e-02,  4.71114740e-02,\n",
      "       -1.24943703e-02,  2.45431773e-02,  1.23167913e-02, -1.82484221e-02,\n",
      "        2.11485177e-02,  8.40758812e-03, -2.22563092e-02, -4.04832549e-02,\n",
      "        2.07120888e-02, -4.88260761e-04, -4.42131348e-02,  3.55400853e-02,\n",
      "       -1.96896121e-03,  3.55907623e-03, -4.90732957e-04, -2.31669210e-02,\n",
      "        1.20972889e-02, -1.68215595e-02,  3.40762436e-02, -7.88624957e-03,\n",
      "       -3.69057208e-02, -5.49255928e-04,  2.58271880e-02,  3.00882906e-02,\n",
      "        1.13202743e-02,  2.52349041e-02, -3.90005819e-02,  7.77547434e-03,\n",
      "       -2.77654286e-02, -8.79593380e-03,  6.33561462e-02,  2.54817866e-02,\n",
      "        1.55707998e-02, -1.29295085e-02,  4.32726182e-03, -2.03783857e-03,\n",
      "       -3.12579684e-02, -1.66514777e-02,  3.33218053e-02,  6.70076311e-02,\n",
      "       -2.03220136e-02,  2.06689164e-02,  1.15351118e-02,  5.20592928e-02,\n",
      "       -2.92683803e-02, -1.23010948e-02,  3.16208713e-02, -4.00120318e-02,\n",
      "        7.49079417e-03, -1.14244707e-02,  2.39448212e-02, -5.33219390e-02,\n",
      "        1.46103213e-02,  1.49245486e-02, -3.46142352e-02,  3.04797720e-02,\n",
      "       -4.68992591e-02,  3.74246985e-02, -3.28224432e-03,  5.61973313e-03,\n",
      "       -1.94007438e-02, -1.01703350e-02, -2.65906937e-03, -1.33914892e-02,\n",
      "        9.65511310e-04, -3.60189304e-02,  7.75460899e-03, -1.50377713e-02,\n",
      "       -1.22379586e-02,  6.03814609e-03,  1.07157230e-02, -1.39824254e-02,\n",
      "        1.42893679e-02,  3.61197479e-02,  1.43938232e-02,  1.99030899e-03,\n",
      "       -4.16501171e-05,  2.89882300e-05, -5.08815447e-06,  1.89209313e-05,\n",
      "       -2.21016744e-05,  1.99483275e-05, -1.06220305e-05,  3.69478548e-05,\n",
      "       -1.61653406e-05, -1.16662022e-05,  2.85122551e-05,  3.33979551e-05,\n",
      "        7.87888894e-07, -6.23039959e-05,  3.60356498e-05, -7.07720483e-06,\n",
      "       -3.84693813e-05,  1.63134609e-06,  5.52737038e-05, -6.52593008e-05,\n",
      "        6.59367561e-06, -3.15825746e-05,  3.56662349e-05, -5.76739913e-05,\n",
      "       -1.28585925e-05,  6.65532934e-06,  1.20957047e-05, -3.95200641e-06,\n",
      "        2.63110996e-06,  9.54478401e-06, -8.42374538e-06,  3.74518277e-05,\n",
      "        6.65935022e-06, -8.78081573e-06, -5.65721020e-05, -3.53347823e-05,\n",
      "        9.97771349e-06, -3.59608748e-07, -1.60654490e-05,  2.69548127e-05,\n",
      "        3.85515232e-05, -2.59463613e-05, -5.24079951e-07,  1.99932401e-05,\n",
      "        4.32546731e-05, -5.37941960e-05, -3.92477305e-05, -2.96674480e-05,\n",
      "       -1.02098775e-05, -2.20094262e-05, -1.71682641e-05,  1.67330018e-05,\n",
      "        5.71174769e-06, -2.05961769e-05, -1.96022283e-05,  1.64158773e-05,\n",
      "        4.53347275e-06, -1.55358321e-05,  2.36270625e-05, -2.59054759e-05,\n",
      "       -6.53394818e-06,  1.52013463e-05,  4.01815996e-05, -2.83832960e-05,\n",
      "        4.88262958e-06,  1.14765035e-05, -2.71761382e-06,  1.69117557e-05,\n",
      "       -2.39952060e-05, -5.45027797e-05,  3.35957884e-05, -3.47482273e-05,\n",
      "        1.76357553e-05, -3.77365141e-05, -5.20771209e-06, -1.62216429e-06,\n",
      "       -1.10318588e-05,  2.16661319e-05, -1.41114506e-05, -3.32754025e-05,\n",
      "       -1.99282204e-05,  1.13519673e-05, -4.07509506e-05, -2.14707288e-05,\n",
      "        3.29582235e-06, -2.15856289e-06, -1.05398931e-05, -4.91814899e-06,\n",
      "        2.17686247e-05, -2.99225030e-05, -4.23819729e-05,  1.27793010e-05,\n",
      "       -4.08357046e-05, -3.45117114e-05, -2.47198113e-06,  8.32627338e-05,\n",
      "       -1.77534312e-05, -1.90421088e-05, -2.05344586e-05, -9.39707097e-05,\n",
      "        4.55923509e-06,  2.01090006e-05, -2.28293266e-05,  1.47157762e-05,\n",
      "        2.94332331e-05,  1.59401516e-05, -7.01195531e-05, -3.23819149e-05,\n",
      "       -3.90152163e-05,  8.49471835e-05,  2.13898747e-05, -6.10104144e-05,\n",
      "        3.68349138e-05, -8.82500717e-06, -3.46957968e-05,  8.45263730e-06,\n",
      "       -2.20071706e-06, -1.57086652e-05, -2.20265847e-05,  7.80338178e-06,\n",
      "        1.24627659e-05,  7.08744483e-06, -3.83904189e-05,  5.31602454e-05,\n",
      "       -2.29164471e-06, -5.19500682e-05,  1.41344672e-05,  1.08113436e-05],\n",
      "      dtype=float32)>, <tf.Tensor: shape=(128, 10000), dtype=float32, numpy=\n",
      "array([[ 7.4010581e-04, -4.3728389e-05,  1.0340192e-03, ...,\n",
      "        -2.7107901e-06, -2.7146828e-06, -2.7123747e-06],\n",
      "       [-1.4349207e-03, -1.2931020e-03, -9.1334258e-04, ...,\n",
      "         1.8624626e-06,  1.8630476e-06,  1.8635324e-06],\n",
      "       [-1.1072489e-03, -7.7210483e-04, -1.3084381e-04, ...,\n",
      "         1.7786028e-06,  1.7785886e-06,  1.7787157e-06],\n",
      "       ...,\n",
      "       [ 1.3901724e-03, -4.6067638e-05,  1.6003536e-03, ...,\n",
      "        -1.4978197e-06, -1.4988176e-06, -1.4986633e-06],\n",
      "       [ 6.0880417e-04,  1.3265886e-03,  1.0383547e-03, ...,\n",
      "        -1.8240612e-06, -1.8252032e-06, -1.8242295e-06],\n",
      "       [-1.0663380e-03,  3.2638927e-04, -4.5067506e-04, ...,\n",
      "         6.0436241e-07,  6.0449725e-07,  6.0316069e-07]], dtype=float32)>, <tf.Tensor: shape=(10000,), dtype=float32, numpy=\n",
      "array([-0.7979981 , -1.0313314 , -1.0313314 , ...,  0.00199926,\n",
      "        0.00199982,  0.00199977], dtype=float32)>]\n"
     ]
    }
   ],
   "source": [
    "print(grad_t_list)"
   ]
  },
  {
   "cell_type": "markdown",
   "metadata": {},
   "source": [
    "now, we have a list of tensors, t-list. We can use it to find clipped tensors. <b>clip_by_global_norm</b> clips values of multiple tensors by the ratio of the sum of their norms.\n",
    "\n",
    "<b>clip_by_global_norm</b> get <i>t-list</i> as input and returns 2 things:\n",
    "\n",
    "<ul>\n",
    "    <li>a list of clipped tensors, so called <i>list_clipped</i></li> \n",
    "    <li>the global norm (global_norm) of all tensors in t_list</li> \n",
    "</ul>\n"
   ]
  },
  {
   "cell_type": "code",
   "execution_count": 48,
   "metadata": {},
   "outputs": [
    {
     "data": {
      "text/plain": [
       "[<tensorflow.python.framework.indexed_slices.IndexedSlices at 0x7f512d9aba10>,\n",
       " <tf.Tensor: shape=(200, 1024), dtype=float32, numpy=\n",
       " array([[ 4.45838424e-07,  5.58718739e-07, -7.24495976e-07, ...,\n",
       "         -2.66487604e-07,  2.60612978e-07, -2.81278005e-08],\n",
       "        [ 4.24664080e-07, -1.03906658e-07, -7.18015770e-07, ...,\n",
       "         -3.69647552e-07,  4.41538759e-07,  3.84091948e-07],\n",
       "        [-2.27121248e-07, -6.24634595e-07,  8.61225203e-07, ...,\n",
       "         -6.02079737e-08,  6.67327470e-07,  1.99215066e-07],\n",
       "        ...,\n",
       "        [ 1.06222467e-06, -1.04625755e-07, -1.05907679e-06, ...,\n",
       "         -1.78151083e-07,  3.95478921e-08,  2.64916622e-07],\n",
       "        [-1.37350048e-06, -2.16678018e-08,  1.21801941e-06, ...,\n",
       "          7.44873532e-08, -2.82879853e-07,  2.64539068e-07],\n",
       "        [-6.62326727e-08,  2.90061280e-07,  3.46889124e-07, ...,\n",
       "          3.18346935e-07, -2.70631119e-07, -1.16465479e-07]], dtype=float32)>,\n",
       " <tf.Tensor: shape=(256, 1024), dtype=float32, numpy=\n",
       " array([[ 2.55766537e-07, -1.30010307e-07,  7.35171497e-08, ...,\n",
       "         -6.79755630e-09,  1.21015660e-07, -5.89281903e-08],\n",
       "        [ 4.09679046e-08,  5.93314198e-09, -1.45087398e-07, ...,\n",
       "         -5.08170679e-08,  3.18797078e-07,  8.28579587e-08],\n",
       "        [ 2.40389717e-08, -1.20867156e-08,  3.74942886e-08, ...,\n",
       "          1.13053900e-07, -4.28765006e-08, -5.88656839e-08],\n",
       "        ...,\n",
       "        [-1.69745817e-08,  5.13671594e-08, -1.45833923e-09, ...,\n",
       "         -5.09275822e-08, -2.52459813e-08,  9.54019441e-08],\n",
       "        [-2.81200755e-07, -1.14759914e-07, -1.59387284e-07, ...,\n",
       "          1.03702099e-07, -1.86101062e-07,  7.43715702e-08],\n",
       "        [-1.38166328e-07, -9.62977538e-08,  3.33644437e-08, ...,\n",
       "          4.47910011e-08, -1.32581903e-07, -7.05570358e-08]], dtype=float32)>,\n",
       " <tf.Tensor: shape=(1024,), dtype=float32, numpy=\n",
       " array([ 7.9439942e-06,  1.2164120e-05, -2.0987689e-05, ...,\n",
       "        -1.7654900e-05,  3.2002594e-05, -8.7526296e-06], dtype=float32)>,\n",
       " <tf.Tensor: shape=(256, 512), dtype=float32, numpy=\n",
       " array([[-3.0220562e-07, -2.7862990e-07, -4.8903274e-07, ...,\n",
       "          6.4546765e-07,  7.7637708e-08, -1.5540783e-07],\n",
       "        [-4.4693579e-08, -1.9296276e-07, -4.5655057e-08, ...,\n",
       "          1.7986932e-07, -1.5373863e-07, -3.8823811e-07],\n",
       "        [ 3.8272987e-07,  3.3941184e-08, -5.0067882e-08, ...,\n",
       "          2.6615294e-07, -1.5552975e-07, -2.1796905e-07],\n",
       "        ...,\n",
       "        [-2.6989829e-07,  1.6834515e-07,  2.7780288e-08, ...,\n",
       "          1.7811716e-07, -9.1391996e-08,  1.7552429e-07],\n",
       "        [ 5.1524393e-07, -3.1923003e-07, -7.9437719e-08, ...,\n",
       "          4.7971974e-07,  6.5162737e-09,  5.4576606e-08],\n",
       "        [ 7.1306783e-07,  4.3114817e-08,  1.7674085e-07, ...,\n",
       "         -1.3437767e-07,  8.8067758e-08,  3.6216761e-07]], dtype=float32)>,\n",
       " <tf.Tensor: shape=(128, 512), dtype=float32, numpy=\n",
       " array([[ 7.4490640e-07,  4.1736530e-07,  2.6661876e-08, ...,\n",
       "          6.2851434e-08,  1.7449931e-07, -1.0879215e-07],\n",
       "        [ 3.0759793e-08,  3.6737876e-07, -3.3063962e-08, ...,\n",
       "         -7.5447957e-08,  3.5043207e-08, -2.1528576e-08],\n",
       "        [ 3.6433079e-09, -5.6081447e-08, -2.1014617e-07, ...,\n",
       "          2.4806184e-07,  5.4264476e-08, -3.9209667e-09],\n",
       "        ...,\n",
       "        [-1.3599538e-07, -1.6180724e-07, -1.9742551e-07, ...,\n",
       "          6.9933935e-07, -8.1606913e-08,  7.1205449e-08],\n",
       "        [-8.7229722e-08,  1.0824097e-08, -6.9755774e-09, ...,\n",
       "          2.5389548e-07,  2.1264017e-07, -2.4061590e-08],\n",
       "        [ 1.3428399e-07, -1.3839488e-08,  2.4081976e-07, ...,\n",
       "         -2.5594912e-07, -2.5336800e-07, -5.0767643e-08]], dtype=float32)>,\n",
       " <tf.Tensor: shape=(512,), dtype=float32, numpy=\n",
       " array([-4.19225034e-05,  2.59054723e-05, -6.40924191e-06,  1.58057901e-05,\n",
       "        -1.65708243e-05,  2.38378689e-05, -5.91239677e-06,  3.47711866e-05,\n",
       "        -1.96976071e-05, -1.63104469e-05,  3.71332862e-05,  2.73259066e-05,\n",
       "         4.29596548e-06, -5.15185311e-05,  2.58242962e-05, -7.74238924e-06,\n",
       "        -3.60013000e-05, -4.20504603e-06,  3.87843975e-05, -5.93480072e-05,\n",
       "         4.49701656e-06, -1.85790486e-05,  2.15734362e-05, -5.28089877e-05,\n",
       "        -1.99681767e-06, -1.52131470e-05,  1.95104367e-05,  3.17409058e-06,\n",
       "         3.82132748e-06,  8.30253430e-06, -4.84162047e-06,  4.09402965e-05,\n",
       "         1.28486590e-06, -6.03498665e-06, -4.51495507e-05, -3.43641732e-05,\n",
       "        -4.29428292e-06, -3.90194964e-06, -7.61424599e-06,  1.79439030e-05,\n",
       "         3.01111486e-05, -1.97051522e-05, -1.96757264e-06,  2.14342181e-05,\n",
       "         4.35237635e-05, -4.42901728e-05, -4.67072678e-05, -2.46377913e-05,\n",
       "        -3.14838417e-06, -1.73031476e-05, -8.56988936e-06,  1.65767105e-05,\n",
       "         5.21181846e-06, -2.21948103e-05, -2.90931457e-05,  1.99637398e-05,\n",
       "         4.92959407e-06, -8.38897267e-06,  1.56998904e-05, -3.59990554e-05,\n",
       "        -5.17316403e-06,  1.36560056e-05,  3.46621455e-05, -2.74116501e-05,\n",
       "         1.48661384e-05,  6.36092955e-06, -3.78546520e-06,  1.60766940e-05,\n",
       "        -1.89347920e-05, -4.37153467e-05,  2.78341013e-05, -3.16692276e-05,\n",
       "         1.35971459e-05, -3.29807262e-05, -5.15449574e-06,  2.26692555e-06,\n",
       "        -1.11172558e-05,  2.17716297e-05, -1.08106442e-05, -3.74740230e-05,\n",
       "        -2.11537772e-05,  1.52800039e-05, -4.37671624e-05, -1.43504212e-05,\n",
       "        -9.19627837e-07, -5.66308427e-06, -1.37917323e-05, -1.23929294e-05,\n",
       "         1.23169457e-05, -1.35759701e-05, -3.58979742e-05,  1.33038538e-05,\n",
       "        -2.43569139e-05, -2.34602921e-05, -1.59088195e-05,  7.70516854e-05,\n",
       "        -1.59857409e-05, -7.01363206e-06, -1.41278470e-05, -8.07896722e-05,\n",
       "        -1.97058307e-06,  1.86046309e-05, -2.18644727e-05,  1.24663866e-05,\n",
       "         2.40402405e-05,  1.19385759e-05, -6.56224147e-05, -3.19111132e-05,\n",
       "        -3.84235573e-05,  7.30292741e-05,  2.17005563e-05, -5.54152066e-05,\n",
       "         3.56687087e-05, -7.81002109e-06, -2.52278878e-05,  3.66159065e-06,\n",
       "         7.70504084e-06, -6.79605819e-06, -1.65168385e-05,  3.49168295e-06,\n",
       "         4.55884219e-06,  3.25623660e-06, -2.86974955e-05,  4.69006009e-05,\n",
       "        -6.64189702e-06, -5.24364405e-05,  6.23400956e-06,  1.66892660e-05,\n",
       "        -2.53427970e-05,  1.57633604e-05,  9.76434967e-06,  1.46612001e-05,\n",
       "        -3.50527698e-05,  3.79437952e-05, -1.50313326e-05,  2.72674079e-05,\n",
       "        -1.53137898e-05, -1.81797950e-05,  4.21094373e-05,  3.62768624e-05,\n",
       "        -4.71195244e-06, -6.58746212e-05,  2.83546378e-05, -2.64150385e-05,\n",
       "        -6.25188113e-05,  5.29633326e-06,  8.11058562e-05, -6.52305316e-05,\n",
       "        -8.18368790e-07, -4.63097531e-05,  4.58831782e-05, -3.01074779e-05,\n",
       "        -1.43228572e-05, -3.56724559e-06,  1.88431841e-07,  5.16462569e-06,\n",
       "         1.07738706e-05,  7.23377707e-06, -3.02499720e-05,  5.06899160e-05,\n",
       "         1.13320475e-05, -1.29323362e-05, -6.33779564e-05, -3.54480690e-05,\n",
       "        -1.64989615e-05, -1.58855637e-05, -1.49514963e-05,  2.50842513e-05,\n",
       "         3.97679687e-05, -1.46419534e-05, -1.95455232e-05,  2.95495756e-05,\n",
       "         5.73273719e-05, -5.31651240e-05, -3.97865806e-05, -4.72337961e-05,\n",
       "        -2.00081722e-05, -1.60052132e-05, -1.97933296e-05,  7.55617975e-06,\n",
       "         3.19084284e-05,  1.43675161e-05,  9.59657518e-06,  3.54321892e-05,\n",
       "        -1.13213900e-06, -3.24982539e-05,  4.14809911e-05, -4.22518933e-05,\n",
       "         2.42232636e-06,  2.93244047e-05,  5.29957324e-05, -3.18433667e-05,\n",
       "         6.58920726e-06,  8.99341285e-06, -8.79926301e-06,  2.63923012e-05,\n",
       "        -7.30769807e-06, -5.30610741e-05,  4.64365912e-05, -5.96165883e-05,\n",
       "         4.00762437e-05, -2.86961294e-05,  1.61382359e-05, -1.08773393e-05,\n",
       "        -1.47772298e-05,  2.77615673e-05, -1.51717722e-06, -4.82615687e-05,\n",
       "         1.94952281e-05, -8.59005559e-06, -5.56605009e-05, -3.68685141e-05,\n",
       "        -1.16273714e-05, -1.11856189e-05, -1.75410569e-05, -2.05135020e-05,\n",
       "         3.68298461e-05, -1.83458360e-06, -6.18818958e-05,  2.28580466e-05,\n",
       "        -5.06756769e-05, -7.32563421e-05, -8.14148370e-06,  8.26533869e-05,\n",
       "        -3.39840290e-06, -9.07031153e-06,  1.34936818e-05, -1.36729592e-04,\n",
       "         6.51052687e-07,  1.11367117e-05, -1.38851747e-05,  2.22362796e-05,\n",
       "         2.34828731e-05,  3.39765575e-05, -8.93500837e-05, -2.04365642e-05,\n",
       "        -3.33899225e-05,  1.05417770e-04,  1.61240496e-05, -6.45251275e-05,\n",
       "         4.72327738e-05, -1.44661408e-05, -4.64395562e-05,  1.53935416e-05,\n",
       "        -5.39699613e-07, -6.85892337e-06, -4.79970113e-05,  1.77383845e-06,\n",
       "        -1.02183967e-05,  2.08807814e-05, -6.07086804e-06,  6.75089905e-05,\n",
       "         6.79046207e-06, -6.32611482e-05,  2.18055247e-05,  2.23405314e-05,\n",
       "         2.59583816e-02,  2.25263610e-02, -5.94908511e-03, -1.20348763e-02,\n",
       "        -8.48224480e-03, -3.52223404e-03,  5.58684170e-02,  3.06646507e-02,\n",
       "         3.75438370e-02, -1.07221343e-02,  4.14272351e-03,  1.48111125e-02,\n",
       "         6.23993855e-03, -2.72184797e-02, -6.24616817e-03, -6.46583829e-03,\n",
       "         1.52145105e-04,  3.68267633e-02,  4.65397984e-02,  4.61683273e-02,\n",
       "         2.23778281e-02, -3.72819602e-02, -1.01543730e-02, -7.66296126e-03,\n",
       "        -1.12693915e-02, -1.54644949e-04,  4.04576352e-03, -1.28807966e-02,\n",
       "         5.75662311e-03,  1.45929307e-02, -6.80224551e-03, -2.03793049e-02,\n",
       "         8.81635584e-04,  1.31492186e-02,  9.69977491e-03, -9.35761258e-03,\n",
       "        -4.28209733e-03,  1.22388592e-02, -2.18341127e-04,  1.55043248e-02,\n",
       "         3.77239659e-02, -3.74709605e-03, -6.02239743e-06,  1.71572231e-02,\n",
       "         1.27555020e-02, -4.82061952e-02,  1.92021914e-02, -2.29376815e-02,\n",
       "         5.92728006e-03, -4.12089042e-02,  1.99778974e-02,  4.71114740e-02,\n",
       "        -1.24943703e-02,  2.45431773e-02,  1.23167913e-02, -1.82484221e-02,\n",
       "         2.11485177e-02,  8.40758812e-03, -2.22563092e-02, -4.04832549e-02,\n",
       "         2.07120888e-02, -4.88260761e-04, -4.42131348e-02,  3.55400853e-02,\n",
       "        -1.96896121e-03,  3.55907623e-03, -4.90732957e-04, -2.31669210e-02,\n",
       "         1.20972889e-02, -1.68215595e-02,  3.40762436e-02, -7.88624957e-03,\n",
       "        -3.69057208e-02, -5.49255928e-04,  2.58271880e-02,  3.00882906e-02,\n",
       "         1.13202743e-02,  2.52349041e-02, -3.90005819e-02,  7.77547434e-03,\n",
       "        -2.77654286e-02, -8.79593380e-03,  6.33561462e-02,  2.54817866e-02,\n",
       "         1.55707998e-02, -1.29295085e-02,  4.32726182e-03, -2.03783857e-03,\n",
       "        -3.12579684e-02, -1.66514777e-02,  3.33218053e-02,  6.70076311e-02,\n",
       "        -2.03220136e-02,  2.06689164e-02,  1.15351118e-02,  5.20592928e-02,\n",
       "        -2.92683803e-02, -1.23010948e-02,  3.16208713e-02, -4.00120318e-02,\n",
       "         7.49079417e-03, -1.14244707e-02,  2.39448212e-02, -5.33219390e-02,\n",
       "         1.46103213e-02,  1.49245486e-02, -3.46142352e-02,  3.04797720e-02,\n",
       "        -4.68992591e-02,  3.74246985e-02, -3.28224432e-03,  5.61973313e-03,\n",
       "        -1.94007438e-02, -1.01703350e-02, -2.65906937e-03, -1.33914892e-02,\n",
       "         9.65511310e-04, -3.60189304e-02,  7.75460899e-03, -1.50377713e-02,\n",
       "        -1.22379586e-02,  6.03814609e-03,  1.07157230e-02, -1.39824254e-02,\n",
       "         1.42893679e-02,  3.61197479e-02,  1.43938232e-02,  1.99030899e-03,\n",
       "        -4.16501171e-05,  2.89882300e-05, -5.08815447e-06,  1.89209313e-05,\n",
       "        -2.21016744e-05,  1.99483275e-05, -1.06220305e-05,  3.69478548e-05,\n",
       "        -1.61653406e-05, -1.16662022e-05,  2.85122551e-05,  3.33979551e-05,\n",
       "         7.87888894e-07, -6.23039959e-05,  3.60356498e-05, -7.07720483e-06,\n",
       "        -3.84693813e-05,  1.63134609e-06,  5.52737038e-05, -6.52593008e-05,\n",
       "         6.59367561e-06, -3.15825746e-05,  3.56662349e-05, -5.76739913e-05,\n",
       "        -1.28585925e-05,  6.65532934e-06,  1.20957047e-05, -3.95200641e-06,\n",
       "         2.63110996e-06,  9.54478401e-06, -8.42374538e-06,  3.74518277e-05,\n",
       "         6.65935022e-06, -8.78081573e-06, -5.65721020e-05, -3.53347823e-05,\n",
       "         9.97771349e-06, -3.59608748e-07, -1.60654490e-05,  2.69548127e-05,\n",
       "         3.85515232e-05, -2.59463613e-05, -5.24079951e-07,  1.99932401e-05,\n",
       "         4.32546731e-05, -5.37941960e-05, -3.92477305e-05, -2.96674480e-05,\n",
       "        -1.02098775e-05, -2.20094262e-05, -1.71682641e-05,  1.67330018e-05,\n",
       "         5.71174769e-06, -2.05961769e-05, -1.96022283e-05,  1.64158773e-05,\n",
       "         4.53347275e-06, -1.55358321e-05,  2.36270625e-05, -2.59054759e-05,\n",
       "        -6.53394818e-06,  1.52013463e-05,  4.01815996e-05, -2.83832960e-05,\n",
       "         4.88262958e-06,  1.14765035e-05, -2.71761382e-06,  1.69117557e-05,\n",
       "        -2.39952060e-05, -5.45027797e-05,  3.35957884e-05, -3.47482273e-05,\n",
       "         1.76357553e-05, -3.77365141e-05, -5.20771209e-06, -1.62216429e-06,\n",
       "        -1.10318588e-05,  2.16661319e-05, -1.41114506e-05, -3.32754025e-05,\n",
       "        -1.99282204e-05,  1.13519673e-05, -4.07509506e-05, -2.14707288e-05,\n",
       "         3.29582235e-06, -2.15856289e-06, -1.05398931e-05, -4.91814899e-06,\n",
       "         2.17686247e-05, -2.99225030e-05, -4.23819729e-05,  1.27793010e-05,\n",
       "        -4.08357046e-05, -3.45117114e-05, -2.47198113e-06,  8.32627338e-05,\n",
       "        -1.77534312e-05, -1.90421088e-05, -2.05344586e-05, -9.39707097e-05,\n",
       "         4.55923509e-06,  2.01090006e-05, -2.28293266e-05,  1.47157762e-05,\n",
       "         2.94332331e-05,  1.59401516e-05, -7.01195531e-05, -3.23819149e-05,\n",
       "        -3.90152163e-05,  8.49471835e-05,  2.13898747e-05, -6.10104144e-05,\n",
       "         3.68349138e-05, -8.82500717e-06, -3.46957968e-05,  8.45263730e-06,\n",
       "        -2.20071706e-06, -1.57086652e-05, -2.20265847e-05,  7.80338178e-06,\n",
       "         1.24627659e-05,  7.08744483e-06, -3.83904189e-05,  5.31602454e-05,\n",
       "        -2.29164471e-06, -5.19500682e-05,  1.41344672e-05,  1.08113436e-05],\n",
       "       dtype=float32)>,\n",
       " <tf.Tensor: shape=(128, 10000), dtype=float32, numpy=\n",
       " array([[ 7.4010581e-04, -4.3728389e-05,  1.0340192e-03, ...,\n",
       "         -2.7107901e-06, -2.7146828e-06, -2.7123747e-06],\n",
       "        [-1.4349207e-03, -1.2931020e-03, -9.1334258e-04, ...,\n",
       "          1.8624626e-06,  1.8630476e-06,  1.8635324e-06],\n",
       "        [-1.1072489e-03, -7.7210483e-04, -1.3084381e-04, ...,\n",
       "          1.7786028e-06,  1.7785886e-06,  1.7787157e-06],\n",
       "        ...,\n",
       "        [ 1.3901724e-03, -4.6067638e-05,  1.6003536e-03, ...,\n",
       "         -1.4978197e-06, -1.4988176e-06, -1.4986633e-06],\n",
       "        [ 6.0880417e-04,  1.3265886e-03,  1.0383547e-03, ...,\n",
       "         -1.8240612e-06, -1.8252032e-06, -1.8242295e-06],\n",
       "        [-1.0663380e-03,  3.2638927e-04, -4.5067506e-04, ...,\n",
       "          6.0436241e-07,  6.0449725e-07,  6.0316069e-07]], dtype=float32)>,\n",
       " <tf.Tensor: shape=(10000,), dtype=float32, numpy=\n",
       " array([-0.7979981 , -1.0313314 , -1.0313314 , ...,  0.00199926,\n",
       "         0.00199982,  0.00199977], dtype=float32)>]"
      ]
     },
     "execution_count": 48,
     "metadata": {},
     "output_type": "execute_result"
    }
   ],
   "source": [
    "# Define the gradient clipping threshold\n",
    "grads, _ = tf.clip_by_global_norm(grad_t_list, max_grad_norm)\n",
    "grads"
   ]
  },
  {
   "cell_type": "markdown",
   "metadata": {},
   "source": [
    "<h4> 4.Apply the optimizer to the variables/gradients tuple. </h4>\n"
   ]
  },
  {
   "cell_type": "code",
   "execution_count": 49,
   "metadata": {},
   "outputs": [],
   "source": [
    "# Create the training TensorFlow Operation through our optimizer\n",
    "train_op = optimizer.apply_gradients(zip(grads, tvars))"
   ]
  },
  {
   "cell_type": "markdown",
   "metadata": {},
   "source": [
    "<a id=\"ltsm\"></a>\n",
    "\n",
    "<h2>LSTM</h2>\n"
   ]
  },
  {
   "cell_type": "markdown",
   "metadata": {},
   "source": [
    "We learned how the model is build step by step. Noe, let's then create a Class that represents our model. This class needs a few things:\n",
    "\n",
    "<ul>\n",
    "    <li>We have to create the model in accordance with our defined hyperparameters</li>\n",
    "    <li>We have to create the LSTM cell structure and connect them with our RNN structure</li>\n",
    "    <li>We have to create the word embeddings and point them to the input data</li>\n",
    "    <li>We have to create the input structure for our RNN</li>\n",
    "    <li>We need to create a logistic structure to return the probability of our words</li>\n",
    "    <li>We need to create the loss and cost functions for our optimizer to work, and then create the optimizer</li>\n",
    "    <li>And finally, we need to create a training operation that can be run to actually train our model</li>\n",
    "</ul>\n"
   ]
  },
  {
   "cell_type": "code",
   "execution_count": 50,
   "metadata": {},
   "outputs": [],
   "source": [
    "class PTBModel(object):\n",
    "\n",
    "\n",
    "    def __init__(self):\n",
    "        ######################################\n",
    "        # Setting parameters for ease of use #\n",
    "        ######################################\n",
    "        self.batch_size = batch_size\n",
    "        self.num_steps = num_steps\n",
    "        self.hidden_size_l1 = hidden_size_l1\n",
    "        self.hidden_size_l2 = hidden_size_l2\n",
    "        self.vocab_size = vocab_size\n",
    "        self.embeding_vector_size = embeding_vector_size\n",
    "        # Create a variable for the learning rate\n",
    "        self._lr = 1.0\n",
    "        \n",
    "        ###############################################################################\n",
    "        # Initializing the model using keras Sequential API  #\n",
    "        ###############################################################################\n",
    "        \n",
    "        self._model = tf.keras.models.Sequential()\n",
    "        \n",
    "        ####################################################################\n",
    "        # Creating the word embeddings layer and adding it to the sequence #\n",
    "        ####################################################################\n",
    "        with tf.device(\"/cpu:0\"):\n",
    "            # Create the embeddings for our input data. Size is hidden size.\n",
    "            self._embedding_layer = tf.keras.layers.Embedding(self.vocab_size, self.embeding_vector_size,batch_input_shape=(self.batch_size, self.num_steps),trainable=True,name=\"embedding_vocab\")  #[10000x200]\n",
    "            self._model.add(self._embedding_layer)\n",
    "            \n",
    "\n",
    "        ##########################################################################\n",
    "        # Creating the LSTM cell structure and connect it with the RNN structure #\n",
    "        ##########################################################################\n",
    "        # Create the LSTM Cells. \n",
    "        # This creates only the structure for the LSTM and has to be associated with a RNN unit still.\n",
    "        # The argument  of LSTMCell is size of hidden layer, that is, the number of hidden units of the LSTM (inside A). \n",
    "        # LSTM cell processes one word at a time and computes probabilities of the possible continuations of the sentence.\n",
    "        lstm_cell_l1 = tf.keras.layers.LSTMCell(hidden_size_l1)\n",
    "        lstm_cell_l2 = tf.keras.layers.LSTMCell(hidden_size_l2)\n",
    "        \n",
    "\n",
    "        \n",
    "        # By taking in the LSTM cells as parameters, the StackedRNNCells function junctions the LSTM units to the RNN units.\n",
    "        # RNN cell composed sequentially of stacked simple cells.\n",
    "        stacked_lstm = tf.keras.layers.StackedRNNCells([lstm_cell_l1, lstm_cell_l2])\n",
    "\n",
    "\n",
    "        \n",
    "\n",
    "        ############################################\n",
    "        # Creating the input structure for our RNN #\n",
    "        ############################################\n",
    "        # Input structure is 20x[30x200]\n",
    "        # Considering each word is represended by a 200 dimentional vector, and we have 30 batchs, we create 30 word-vectors of size [30xx2000]\n",
    "        # The input structure is fed from the embeddings, which are filled in by the input data\n",
    "        # Feeding a batch of b sentences to a RNN:\n",
    "        # In step 1,  first word of each of the b sentences (in a batch) is input in parallel.  \n",
    "        # In step 2,  second word of each of the b sentences is input in parallel. \n",
    "        # The parallelism is only for efficiency.  \n",
    "        # Each sentence in a batch is handled in parallel, but the network sees one word of a sentence at a time and does the computations accordingly. \n",
    "        # All the computations involving the words of all sentences in a batch at a given time step are done in parallel. \n",
    "\n",
    "        ########################################################################################################\n",
    "        # Instantiating our RNN model and setting stateful to True to feed forward the state to the next layer #\n",
    "        ########################################################################################################\n",
    "        \n",
    "        self._RNNlayer  =  tf.keras.layers.RNN(stacked_lstm,[batch_size, num_steps],return_state=False,stateful=True,trainable=True)\n",
    "        \n",
    "        # Define the initial state, i.e., the model state for the very first data point\n",
    "        # It initialize the state of the LSTM memory. The memory state of the network is initialized with a vector of zeros and gets updated after reading each word.\n",
    "        self._initial_state = tf.Variable(tf.zeros([batch_size,embeding_vector_size]),trainable=False)\n",
    "        self._RNNlayer.inital_state = self._initial_state\n",
    "    \n",
    "        ############################################\n",
    "        # Adding RNN layer to keras sequential API #\n",
    "        ############################################        \n",
    "        self._model.add(self._RNNlayer)\n",
    "        \n",
    "        #self._model.add(tf.keras.layers.LSTM(hidden_size_l1,return_sequences=True,stateful=True))\n",
    "        #self._model.add(tf.keras.layers.LSTM(hidden_size_l2,return_sequences=True))\n",
    "        \n",
    "        \n",
    "        ####################################################################################################\n",
    "        # Instantiating a Dense layer that connects the output to the vocab_size  and adding layer to model#\n",
    "        ####################################################################################################\n",
    "        self._dense = tf.keras.layers.Dense(self.vocab_size)\n",
    "        self._model.add(self._dense)\n",
    " \n",
    "        \n",
    "        ####################################################################################################\n",
    "        # Adding softmax activation layer and deriving probability to each class and adding layer to model #\n",
    "        ####################################################################################################\n",
    "        self._activation = tf.keras.layers.Activation('softmax')\n",
    "        self._model.add(self._activation)\n",
    "\n",
    "        ##########################################################\n",
    "        # Instantiating the stochastic gradient decent optimizer #\n",
    "        ########################################################## \n",
    "        self._optimizer = tf.keras.optimizers.SGD(lr=self._lr, clipnorm=max_grad_norm)\n",
    "        \n",
    "        \n",
    "        ##############################################################################\n",
    "        # Compiling and summarizing the model stacked using the keras sequential API #\n",
    "        ##############################################################################\n",
    "        self._model.compile(loss=self.crossentropy, optimizer=self._optimizer)\n",
    "        self._model.summary()\n",
    "\n",
    "\n",
    "    def crossentropy(self,y_true, y_pred):\n",
    "        return tf.keras.losses.sparse_categorical_crossentropy(y_true, y_pred)\n",
    "\n",
    "    def train_batch(self,_input_data,_targets):\n",
    "        #################################################\n",
    "        # Creating the Training Operation for our Model #\n",
    "        #################################################\n",
    "        # Create a variable for the learning rate\n",
    "        self._lr = tf.Variable(0.0, trainable=False)\n",
    "        # Get all TensorFlow variables marked as \"trainable\" (i.e. all of them except _lr, which we just created)\n",
    "        tvars = self._model.trainable_variables\n",
    "        # Define the gradient clipping threshold\n",
    "        with tf.GradientTape() as tape:\n",
    "            # Forward pass.\n",
    "            output_words_prob = self._model(_input_data)\n",
    "            # Loss value for this batch.\n",
    "            loss  = self.crossentropy(_targets, output_words_prob)\n",
    "            # average across batch and reduce sum\n",
    "            cost = tf.reduce_sum(loss/ self.batch_size)\n",
    "        # Get gradients of loss wrt the trainable variables.\n",
    "        grad_t_list = tape.gradient(cost, tvars)\n",
    "        # Define the gradient clipping threshold\n",
    "        grads, _ = tf.clip_by_global_norm(grad_t_list, max_grad_norm)\n",
    "        # Create the training TensorFlow Operation through our optimizer\n",
    "        train_op = self._optimizer.apply_gradients(zip(grads, tvars))\n",
    "        return cost\n",
    "        \n",
    "    def test_batch(self,_input_data,_targets):\n",
    "        #################################################\n",
    "        # Creating the Testing Operation for our Model #\n",
    "        #################################################\n",
    "        output_words_prob = self._model(_input_data)\n",
    "        loss  = self.crossentropy(_targets, output_words_prob)\n",
    "        # average across batch and reduce sum\n",
    "        cost = tf.reduce_sum(loss/ self.batch_size)\n",
    "\n",
    "        return cost\n",
    "    @classmethod\n",
    "    def instance(cls) : \n",
    "        return PTBModel()"
   ]
  },
  {
   "cell_type": "markdown",
   "metadata": {},
   "source": [
    "With that, the actual structure of our Recurrent Neural Network with Long Short-Term Memory is finished. What remains for us to do is to actually create the methods to run through time -- that is, the <code>run_epoch</code> method to be run at each epoch and a <code>main</code> script which ties all of this together.\n",
    "\n",
    "What our <code>run_epoch</code> method should do is take our input data and feed it to the relevant operations. This will return at the very least the current result for the cost function.\n"
   ]
  },
  {
   "cell_type": "code",
   "execution_count": 51,
   "metadata": {},
   "outputs": [],
   "source": [
    "\n",
    "########################################################################################################################\n",
    "# run_one_epoch takes as parameters  the model instance, the data to be fed, training or testing mode and verbose info #\n",
    "########################################################################################################################\n",
    "def run_one_epoch(m, data,is_training=True,verbose=False):\n",
    "\n",
    "    #Define the epoch size based on the length of the data, batch size and the number of steps\n",
    "    epoch_size = ((len(data) // m.batch_size) - 1) // m.num_steps\n",
    "    start_time = time.time()\n",
    "    costs = 0.\n",
    "    iters = 0\n",
    "    \n",
    "    m._model.reset_states()\n",
    "    \n",
    "    #For each step and data point\n",
    "    for step, (x, y) in enumerate(reader.ptb_iterator(data, m.batch_size, m.num_steps)):\n",
    "        \n",
    "        #Evaluate and return cost, state by running cost, final_state and the function passed as parameter\n",
    "        #y = tf.keras.utils.to_categorical(y, num_classes=vocab_size)\n",
    "        if is_training : \n",
    "            loss=  m.train_batch(x, y)\n",
    "        else :\n",
    "            loss = m.test_batch(x, y)\n",
    "                                   \n",
    "\n",
    "        #Add returned cost to costs (which keeps track of the total costs for this epoch)\n",
    "        costs += loss\n",
    "        \n",
    "        #Add number of steps to iteration counter\n",
    "        iters += m.num_steps\n",
    "\n",
    "        if verbose and step % (epoch_size // 10) == 10:\n",
    "            print(\"Itr %d of %d, perplexity: %.3f speed: %.0f wps\" % (step , epoch_size, np.exp(costs / iters), iters * m.batch_size / (time.time() - start_time)))\n",
    "        \n",
    "\n",
    "\n",
    "    # Returns the Perplexity rating for us to keep track of how the model is evolving\n",
    "    return np.exp(costs / iters)\n"
   ]
  },
  {
   "cell_type": "markdown",
   "metadata": {},
   "source": [
    "Now, we create the <code>main</code> method to tie everything together. The code here reads the data from the directory, using the <code>reader</code> helper module, and then trains and evaluates the model on both a testing and a validating subset of data.\n"
   ]
  },
  {
   "cell_type": "code",
   "execution_count": 52,
   "metadata": {},
   "outputs": [],
   "source": [
    "# Reads the data and separates it into training data, validation data and testing data\n",
    "raw_data = reader.ptb_raw_data(data_dir)\n",
    "train_data, valid_data, test_data, _, _ = raw_data"
   ]
  },
  {
   "cell_type": "code",
   "execution_count": null,
   "metadata": {},
   "outputs": [
    {
     "name": "stdout",
     "output_type": "stream",
     "text": [
      "Model: \"sequential_1\"\n",
      "_________________________________________________________________\n",
      "Layer (type)                 Output Shape              Param #   \n",
      "=================================================================\n",
      "embedding_vocab (Embedding)  (30, 20, 200)             2000000   \n",
      "_________________________________________________________________\n",
      "rnn_1 (RNN)                  (30, 20, 128)             671088    \n",
      "_________________________________________________________________\n",
      "dense_1 (Dense)              (30, 20, 10000)           1290000   \n",
      "_________________________________________________________________\n",
      "activation_1 (Activation)    (30, 20, 10000)           0         \n",
      "=================================================================\n",
      "Total params: 3,961,088\n",
      "Trainable params: 3,955,088\n",
      "Non-trainable params: 6,000\n",
      "_________________________________________________________________\n",
      "Epoch 1 : Learning rate: 1.000\n",
      "Itr 10 of 1549, perplexity: 4557.819 speed: 658 wps\n"
     ]
    }
   ],
   "source": [
    "\n",
    "# Instantiates the PTBModel class\n",
    "m=PTBModel.instance()   \n",
    "K = tf.keras.backend \n",
    "for i in range(max_epoch):\n",
    "    # Define the decay for this epoch\n",
    "    lr_decay = decay ** max(i - max_epoch_decay_lr, 0.0)\n",
    "    dcr = learning_rate * lr_decay\n",
    "    m._lr = dcr\n",
    "    K.set_value(m._model.optimizer.learning_rate,m._lr)\n",
    "    print(\"Epoch %d : Learning rate: %.3f\" % (i + 1, m._model.optimizer.learning_rate))\n",
    "    # Run the loop for this epoch in the training mode\n",
    "    train_perplexity = run_one_epoch(m, train_data,is_training=True,verbose=True)\n",
    "    print(\"Epoch %d : Train Perplexity: %.3f\" % (i + 1, train_perplexity))\n",
    "        \n",
    "    # Run the loop for this epoch in the validation mode\n",
    "    valid_perplexity = run_one_epoch(m, valid_data,is_training=False,verbose=False)\n",
    "    print(\"Epoch %d : Valid Perplexity: %.3f\" % (i + 1, valid_perplexity))\n",
    "    \n",
    "# Run the loop in the testing mode to see how effective was our training\n",
    "test_perplexity = run_one_epoch(m, test_data,is_training=False,verbose=False)\n",
    "print(\"Test Perplexity: %.3f\" % test_perplexity)\n",
    "\n"
   ]
  },
  {
   "cell_type": "markdown",
   "metadata": {},
   "source": [
    "As you can see, the model's perplexity rating drops very quickly after a few iterations. As was elaborated before, <b>lower Perplexity means that the model is more certain about its prediction</b>. As such, we can be sure that this model is performing well!\n"
   ]
  },
  {
   "cell_type": "markdown",
   "metadata": {},
   "source": [
    "* * *\n"
   ]
  },
  {
   "cell_type": "markdown",
   "metadata": {},
   "source": [
    "This is the end of the <b>Applying Recurrent Neural Networks to Text Processing</b> notebook. Hopefully you now have a better understanding of Recurrent Neural Networks and how to implement one utilizing TensorFlow. Thank you for reading this notebook, and good luck on your studies.\n"
   ]
  },
  {
   "cell_type": "markdown",
   "metadata": {},
   "source": [
    "## Want to learn more?\n",
    "\n",
    "Also, you can use **Watson Studio** to run these notebooks faster with bigger datasets.**Watson Studio** is IBM’s leading cloud solution for data scientists, built by data scientists. With Jupyter notebooks, RStudio, Apache Spark and popular libraries pre-packaged in the cloud, **Watson Studio** enables data scientists to collaborate on their projects without having to install anything. Join the fast-growing community of **Watson Studio** users today with a free account at [Watson Studio](https://cocl.us/ML0120EN_DSX).This is the end of this lesson. Thank you for reading this notebook, and good luck on your studies.\n"
   ]
  },
  {
   "cell_type": "markdown",
   "metadata": {},
   "source": [
    "### Thanks for completing this lesson!\n",
    "\n",
    "Notebook created by <a href=\"https://br.linkedin.com/in/walter-gomes-de-amorim-junior-624726121?utm_medium=Exinfluencer&utm_source=Exinfluencer&utm_content=000026UJ&utm_term=10006555&utm_id=NA-SkillsNetwork-Channel-SkillsNetworkCoursesIBMDeveloperSkillsNetworkDL0120ENSkillsNetwork954-2022-01-01\">Walter Gomes de Amorim Junior</a>, <a href = \"https://linkedin.com/in/saeedaghabozorgi?utm_medium=Exinfluencer&utm_source=Exinfluencer&utm_content=000026UJ&utm_term=10006555&utm_id=NA-SkillsNetwork-Channel-SkillsNetworkCoursesIBMDeveloperSkillsNetworkDL0120ENSkillsNetwork954-2022-01-01\"> Saeed Aghabozorgi </a></h4>\n",
    "\n",
    "Updated to TF 2.X by <a href=\"https://linkedin.com/in/romeo-kienzler-089b4557?utm_medium=Exinfluencer&utm_source=Exinfluencer&utm_content=000026UJ&utm_term=10006555&utm_id=NA-SkillsNetwork-Channel-SkillsNetworkCoursesIBMDeveloperSkillsNetworkDL0120ENSkillsNetwork954-2022-01-01\"> Romeo Kienzler </a>, <a href=\"https://www.linkedin.com/in/samaya-madhavan?utm_medium=Exinfluencer&utm_source=Exinfluencer&utm_content=000026UJ&utm_term=10006555&utm_id=NA-SkillsNetwork-Channel-SkillsNetworkCoursesIBMDeveloperSkillsNetworkDL0120ENSkillsNetwork954-2022-01-01\"> Samaya Madhavan </a>\n"
   ]
  },
  {
   "cell_type": "markdown",
   "metadata": {},
   "source": [
    "\n",
    "## Change Log\n",
    "\n",
    "|  Date (YYYY-MM-DD) |  Version | Changed By  |  Change Description |\n",
    "|---|---|---|---|\n",
    "| 2020-09-21  | 2.0  | Srishti  |  Migrated Lab to Markdown and added to course repo in GitLab |\n",
    "\n",
    "\n",
    "\n",
    "<hr>\n",
    "\n",
    "## <h3 align=\"center\"> © IBM Corporation 2020. All rights reserved. <h3/>\n"
   ]
  },
  {
   "cell_type": "markdown",
   "metadata": {},
   "source": [
    "<hr>\n",
    "\n",
    "Copyright © 2018 [Cognitive Class](https://cocl.us/DX0108EN_CC). This notebook and its source code are released under the terms of the [MIT License](https://bigdatauniversity.com/mit-license?utm_medium=Exinfluencer&utm_source=Exinfluencer&utm_content=000026UJ&utm_term=10006555&utm_id=NA-SkillsNetwork-Channel-SkillsNetworkCoursesIBMDeveloperSkillsNetworkDL0120ENSkillsNetwork954-2022-01-01&cm_mmc=Email_Newsletter-_-Developer_Ed%2BTech-_-WW_WW-_-SkillsNetwork-Courses-IBMDeveloperSkillsNetwork-DL0120EN-SkillsNetwork-20629446&cm_mmca1=000026UJ&cm_mmca2=10006555&cm_mmca3=M12345678&cvosrc=email.Newsletter.M12345678&cvo_campaign=000026UJ).\n"
   ]
  }
 ],
 "metadata": {
  "kernelspec": {
   "display_name": "Python",
   "language": "python",
   "name": "conda-env-python-py"
  },
  "language_info": {
   "codemirror_mode": {
    "name": "ipython",
    "version": 3
   },
   "file_extension": ".py",
   "mimetype": "text/x-python",
   "name": "python",
   "nbconvert_exporter": "python",
   "pygments_lexer": "ipython3",
   "version": "3.7.12"
  }
 },
 "nbformat": 4,
 "nbformat_minor": 4
}
