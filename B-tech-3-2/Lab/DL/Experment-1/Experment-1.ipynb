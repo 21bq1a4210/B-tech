{
  "nbformat": 4,
  "nbformat_minor": 0,
  "metadata": {
    "colab": {
      "private_outputs": true,
      "provenance": []
    },
    "kernelspec": {
      "name": "python3",
      "display_name": "Python 3"
    },
    "language_info": {
      "name": "python"
    }
  },
  "cells": [
    {
      "cell_type": "markdown",
      "source": [
        "#Experment-1: Working with TensorFlow , NumPy, Kera, Pandas, Matplotlib, etc.\n"
      ],
      "metadata": {
        "id": "8-Y8qIysD0zB"
      }
    },
    {
      "cell_type": "markdown",
      "source": [
        "Aim: To use Tensor Flow, NumPy, Kera, Pandas and Matplotlib to develop a Simple Linear Regression"
      ],
      "metadata": {
        "id": "kqnaKn7dD_iV"
      }
    },
    {
      "cell_type": "code",
      "source": [
        "#@title Importing Nessary Library and Module\n",
        "import tensorflow as tf\n",
        "import numpy as np\n",
        "import pandas as pd\n",
        "import matplotlib.pyplot as plt\n",
        "from sklearn.model_selection import train_test_split\n",
        "from sklearn.metrics import mean_squared_error\n",
        "from tensorflow.keras.models import Sequential\n",
        "from tensorflow.keras.layers import Dense"
      ],
      "metadata": {
        "id": "hB6skK-yKjFo"
      },
      "execution_count": null,
      "outputs": []
    },
    {
      "cell_type": "code",
      "source": [
        "#@title Generate Random Data for Simple Linear Regression using Numpy\n",
        "np.random.seed(42)\n",
        "\n",
        "data = {'X': np.random.rand(100, 1).flatten()}\n",
        "data['y']= 3 * data['X'] + 2 + 0.1 * np.random.randn(100)"
      ],
      "metadata": {
        "id": "WJrjZS1c0rLN"
      },
      "execution_count": null,
      "outputs": []
    },
    {
      "cell_type": "markdown",
      "source": [
        "***np.random.rand(100, 1).flatten():***\n",
        "This generates an array of shape (100, 1) with random numbers between 0 and 1 using NumPy's rand function. The flatten() method is then used to convert this 2D array into a 1D array."
      ],
      "metadata": {
        "id": "CyU1Ouui1B-S"
      }
    },
    {
      "cell_type": "code",
      "source": [
        "#@title Create Pandas DataFrame from Random Data using Pandas\n",
        "df = pd.DataFrame(data)\n",
        "print(df.info())"
      ],
      "metadata": {
        "id": "no1XY14f1OpK"
      },
      "execution_count": null,
      "outputs": []
    },
    {
      "cell_type": "code",
      "source": [
        "#@title Split Data into Training and Testing Sets using Sklearn\n",
        "X_train, X_test, y_train, y_test = train_test_split(df['X'], df['y'], test_size=0.2, random_state=42)"
      ],
      "metadata": {
        "id": "1RzNwYm31bcH"
      },
      "execution_count": null,
      "outputs": []
    },
    {
      "cell_type": "code",
      "source": [
        "#@title Build and Display Summary of Neural Network with Keras\n",
        "model = Sequential()\n",
        "\n",
        "# Add a hidden layer with 5 units and ReLU activation\n",
        "model.add(Dense(units=6, activation='relu'))\n",
        "\n",
        "# Add the output layer with 1 unit and linear activation\n",
        "model.add(Dense(units=1, activation='linear'))\n",
        "\n",
        "# Build the model\n",
        "model.build(input_shape=(None, 1))\n",
        "\n",
        "# Compile the model\n",
        "model.compile(optimizer='sgd', loss='mean_squared_error')\n",
        "\n",
        "# Display the model summary\n",
        "model.summary()\n"
      ],
      "metadata": {
        "id": "rbxHzx8i1yu7"
      },
      "execution_count": null,
      "outputs": []
    },
    {
      "cell_type": "markdown",
      "source": [
        "***Explanation of the code:***\n",
        "*   ***model = Sequential()*** : This line creates a Sequential model using Keras. The Sequential model is a linear stack of layers, and you can add layers to it in a step-by-step fashion.\n",
        "\n",
        "* ***model.add(Dense(units=6, activation='relu'))*** : This line adds a dense (fully connected) hidden layer to the model. The layer has 6 units (neurons) and uses the ReLU (Rectified Linear Unit) activation function. The Dense layer connects every input neuron to every output neuron.\n",
        "   \n",
        "* ***model.add(Dense(units=1, activation='linear'))*** : This line adds another dense layer to the model, which serves as the output layer. It has 1 unit and uses a linear activation function. For regression tasks, a linear activation is often used for the output layer.\n",
        "\n",
        "* ***model.build(input_shape=(None, 1))*** :This line builds the model, specifying the input shape. The input_shape is set to (None, 1), indicating that the model can accept input data with any batch size (None) and one feature (1).  \n",
        "\n",
        "* ***model.compile(optimizer='sgd', loss='mean_squared_error')*** : This line compiles the model. It specifies the optimizer (Stochastic Gradient Descent - 'sgd') and the loss function (Mean Squared Error - 'mean_squared_error'). Compiling the model is a necessary step before training.\n",
        "\n",
        "* ***history = model.fit(X_train, y_train, epochs=100, verbose=0)*** : This line trains the model using the training data (X_train and y_train). It specifies the number of training epochs (100) and sets verbose=0 to suppress training progress updates.\n",
        "\n",
        "* ***model.summary()*** :This line prints a summary of the model's architecture, including the type of layers, the number of parameters, and the output shapes. The summary provides a concise overview of the neural network.\n"
      ],
      "metadata": {
        "id": "2TC-KoLU2DWa"
      }
    },
    {
      "cell_type": "code",
      "source": [
        "#@title Train, Predict, and Evaluate Neural Network\n",
        "# Train the model\n",
        "history = model.fit(X_train, y_train, epochs=100, verbose=0)\n",
        "\n",
        "# Make predictions on the test set\n",
        "y_pred = model.predict(X_test)\n",
        "\n",
        "# Evaluate the model\n",
        "mse = mean_squared_error(y_test, y_pred)\n",
        "print(f'Mean Squared Error on Test Set: {mse:.4f}')\n"
      ],
      "metadata": {
        "id": "FDMliMIEZPRE"
      },
      "execution_count": null,
      "outputs": []
    },
    {
      "cell_type": "code",
      "source": [
        "#@title Visualize Results of Simple Linear Regression with Neural Network\n",
        "plt.scatter(X_test, y_test, color='black', label='Actual')\n",
        "plt.plot(X_test, y_pred, color='blue', linewidth=3, label='Predicted')\n",
        "plt.xlabel('X')\n",
        "plt.ylabel('y')\n",
        "plt.title('Scatter Plot of Actual vs Predicted Values (Simple Linear Regression)')\n",
        "plt.legend()\n",
        "plt.show()"
      ],
      "metadata": {
        "id": "fHPENncizzNb"
      },
      "execution_count": null,
      "outputs": []
    }
  ]
}