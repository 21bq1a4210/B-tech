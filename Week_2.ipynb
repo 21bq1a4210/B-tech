{
  "nbformat": 4,
  "nbformat_minor": 0,
  "metadata": {
    "colab": {
      "private_outputs": true,
      "provenance": [],
      "authorship_tag": "ABX9TyPXdP7Xj6tUVTyKSiagRdqH",
      "include_colab_link": true
    },
    "kernelspec": {
      "name": "ir",
      "display_name": "R"
    },
    "language_info": {
      "name": "R"
    }
  },
  "cells": [
    {
      "cell_type": "markdown",
      "metadata": {
        "id": "view-in-github",
        "colab_type": "text"
      },
      "source": [
        "<a href=\"https://colab.research.google.com/github/21bq1a4210/B-tech/blob/main/Week_2.ipynb\" target=\"_parent\"><img src=\"https://colab.research.google.com/assets/colab-badge.svg\" alt=\"Open In Colab\"/></a>"
      ]
    },
    {
      "cell_type": "markdown",
      "source": [
        "#EXPERMENT-2"
      ],
      "metadata": {
        "id": "fSKZpZEEtS6g"
      }
    },
    {
      "cell_type": "code",
      "source": [
        "install.packages(\"ISLR\")\n",
        "install.packages(\"MASS\")"
      ],
      "metadata": {
        "id": "n_pW77Bnq9-V"
      },
      "execution_count": null,
      "outputs": []
    },
    {
      "cell_type": "code",
      "execution_count": null,
      "metadata": {
        "id": "Oa4TeypZqiQ2"
      },
      "outputs": [],
      "source": [
        "library(ISLR)\n",
        "library(MASS)\n",
        "data(\"Auto\")\n",
        "head(Auto)"
      ]
    },
    {
      "cell_type": "code",
      "source": [
        "lm.fit<-lm(mpg~horsepower,data=Auto)\n",
        "summary(lm.fit)"
      ],
      "metadata": {
        "id": "8LmLXuWGq7Gg"
      },
      "execution_count": null,
      "outputs": []
    },
    {
      "cell_type": "code",
      "source": [
        "predict(lm.fit,data.frame(horsepower=c(98)),interval=\"prediction\")"
      ],
      "metadata": {
        "id": "PbzZkw0DraO2"
      },
      "execution_count": null,
      "outputs": []
    },
    {
      "cell_type": "code",
      "source": [
        "predict(lm.fit,data.frame(horsepower=c(98)),interval=\"confidence\")"
      ],
      "metadata": {
        "id": "CC7E8HZrrdCS"
      },
      "execution_count": null,
      "outputs": []
    },
    {
      "cell_type": "code",
      "source": [
        "attach(Auto)\n",
        "plot(horsepower,mpg)\n",
        "abline(lm.fit,lwd=5,col=\"blue\")"
      ],
      "metadata": {
        "id": "k577LopMrgxY"
      },
      "execution_count": null,
      "outputs": []
    },
    {
      "cell_type": "code",
      "source": [
        "which.max(hatvalues(lm.fit))"
      ],
      "metadata": {
        "id": "tzj5NxQ0rlJ6"
      },
      "execution_count": null,
      "outputs": []
    },
    {
      "cell_type": "code",
      "source": [
        "par(mfrow = c(2,2))\n",
        "plot(lm.fit)"
      ],
      "metadata": {
        "id": "N846hvv7r4p1"
      },
      "execution_count": null,
      "outputs": []
    },
    {
      "cell_type": "code",
      "source": [
        "pairs(Auto)"
      ],
      "metadata": {
        "id": "dkaGiIe1sHdC"
      },
      "execution_count": null,
      "outputs": []
    },
    {
      "cell_type": "code",
      "source": [
        "Auto$name<-NULL\n",
        "cor(Auto,method = c(\"pearson\"))"
      ],
      "metadata": {
        "id": "6KmMnfvBsO1T"
      },
      "execution_count": null,
      "outputs": []
    },
    {
      "cell_type": "code",
      "source": [
        "lm.fit<-lm(mpg~.,data=Auto)\n",
        "summary(lm.fit)"
      ],
      "metadata": {
        "id": "qB2GGhMNsTkM"
      },
      "execution_count": null,
      "outputs": []
    },
    {
      "cell_type": "code",
      "source": [
        "which.max(hatvalues(lm.fit))"
      ],
      "metadata": {
        "id": "cWN9m5hDsecX"
      },
      "execution_count": null,
      "outputs": []
    },
    {
      "cell_type": "code",
      "source": [
        "par(mfrow = c(2,2))\n",
        "plot(lm.fit)"
      ],
      "metadata": {
        "id": "sYJ8H6Caslhh"
      },
      "execution_count": null,
      "outputs": []
    },
    {
      "cell_type": "code",
      "source": [
        "lm.fit = lm(mpg ~.-name+displacement:weight, data = Auto)\n",
        "summary(lm.fit)"
      ],
      "metadata": {
        "id": "uYS0MP-jsopu"
      },
      "execution_count": null,
      "outputs": []
    },
    {
      "cell_type": "code",
      "source": [
        "lm.fit = lm(mpg ~.-name+I((displacement)^2)+log(displacement)+displacement:weight, data = Auto)\n",
        "summary(lm.fit)"
      ],
      "metadata": {
        "id": "aRTFjdn0stSp"
      },
      "execution_count": null,
      "outputs": []
    },
    {
      "cell_type": "markdown",
      "source": [
        "#EXP-R-CODE"
      ],
      "metadata": {
        "id": "8cS-7b_StZW1"
      }
    },
    {
      "cell_type": "code",
      "source": [
        "#Experiment -2\n",
        "# ''' Using simple linear regression perform the following tasks on the Autodata set.\n",
        "# (a)\tUse the lm() function to perform a simple linear regression with mpg as the response and horsepower as the predictor.\n",
        "# (b)\tUse the summary() function to print the results. Comment on the output.\n",
        "# That is\n",
        "#    i. Is there a relationship between the predictor and the response?\n",
        "#   ii. How strong is the relationship between the predictor and the response?\n",
        "#   iii. Is the relationship between the predictor and the response positive or\n",
        "# negative?\n",
        "#   iv. What is the predicted mpg associated with a horsepower of98? What are\n",
        "# the associated 95% confidence and prediction intervals?\n",
        "#   (c)\tPlot the response and the predictor. Use the abline() function to display the least squares regression line.\n",
        "# (d)\tUse the plot() function to produce diagnostic plots of the least squares regression fit. Comment on any problems you see with the fit.\n",
        "# '''\n",
        "library(ISLR)\n",
        "library(MASS)\n",
        "data(\"Auto\")\n",
        "typeof(data)\n",
        "head(Auto)\n",
        "\n",
        "### apply the lenear Regression model (lm)\n",
        "lm.fit<-lm(mpg~horsepower,data=Auto)\n",
        "summary(lm.fit)\n",
        "\n",
        "## Predictions\n",
        "\n",
        "predict(lm.fit,data.frame(horsepower=c(98)),interval=\"prediction\")\n",
        "\n",
        "predict(lm.fit,data.frame(horsepower=c(98)),interval=\"confidence\")\n",
        "\n",
        "#Plot the response and the predictor. Use the abline() function to display the least squares regression line.\n",
        "attach(Auto)\n",
        "plot(horsepower,mpg)\n",
        "abline(lm.fit,lwd=5,col=\"blue\")\n",
        "\n",
        "which.max(hatvalues(lm.fit))\n",
        "par(mfrow = c(2,2))\n",
        "plot(lm.fit)"
      ],
      "metadata": {
        "id": "h3M08lBqtiq_"
      },
      "execution_count": null,
      "outputs": []
    }
  ]
}