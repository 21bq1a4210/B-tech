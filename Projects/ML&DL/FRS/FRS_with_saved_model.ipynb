{
  "nbformat": 4,
  "nbformat_minor": 0,
  "metadata": {
    "colab": {
      "private_outputs": true,
      "provenance": []
    },
    "kernelspec": {
      "name": "python3",
      "display_name": "Python 3"
    },
    "language_info": {
      "name": "python"
    }
  },
  "cells": [
    {
      "cell_type": "code",
      "execution_count": null,
      "metadata": {
        "id": "phsJ9CUa4Efz"
      },
      "outputs": [],
      "source": [
        "#@title Run and uplode FRM.h5\n",
        "from google.colab import files\n",
        "\n",
        "# Upload the model file\n",
        "uploaded = files.upload()\n"
      ]
    },
    {
      "cell_type": "markdown",
      "source": [
        "#Installing and updating the libraries"
      ],
      "metadata": {
        "id": "OLHkh5YF-pW5"
      }
    },
    {
      "cell_type": "code",
      "source": [
        "!pip install --upgrade keras"
      ],
      "metadata": {
        "id": "B2da5OjF5p_g"
      },
      "execution_count": null,
      "outputs": []
    },
    {
      "cell_type": "code",
      "source": [
        "!pip install keras-preprocessing"
      ],
      "metadata": {
        "id": "LjhSb_pb5tLY"
      },
      "execution_count": null,
      "outputs": []
    },
    {
      "cell_type": "code",
      "source": [
        "!pip install tensorflow"
      ],
      "metadata": {
        "id": "fVnWcvMA6Beg"
      },
      "execution_count": null,
      "outputs": []
    },
    {
      "cell_type": "markdown",
      "source": [
        "#Code for Face Recognition"
      ],
      "metadata": {
        "id": "n1jW_i6l-2Ao"
      }
    },
    {
      "cell_type": "code",
      "source": [
        "#@title Loding the necessary libraries\n",
        "import numpy as np\n",
        "import tensorflow as tf\n",
        "import keras\n",
        "from keras.models import Sequential\n",
        "from keras.layers import Conv2D,MaxPooling2D,Dense,Flatten,Dropout\n",
        "import matplotlib.pyplot as plt\n",
        "from keras.layers import BatchNormalization\n",
        "from keras_preprocessing import image\n",
        "from tensorflow.keras.preprocessing.image import ImageDataGenerator"
      ],
      "metadata": {
        "id": "8hlWSGpB5kuG"
      },
      "execution_count": null,
      "outputs": []
    },
    {
      "cell_type": "code",
      "source": [
        "# @title Creating a Training Data Generator and Obtaining Class Names\n",
        "train_dir=\"/content/drive/MyDrive/FRS/Original Images/Original Images\"\n",
        "generator = ImageDataGenerator()\n",
        "train_ds = generator.flow_from_directory(train_dir,target_size=(224, 224),batch_size=32)\n",
        "classes = list(train_ds.class_indices.keys())\n",
        "print(classes)"
      ],
      "metadata": {
        "id": "-n7ay8pV7hqX"
      },
      "execution_count": null,
      "outputs": []
    },
    {
      "cell_type": "code",
      "source": [
        "#@title Creating an instance for save model\n",
        "\n",
        "from keras.models import load_model\n",
        "# Load the model\n",
        "model = load_model('FSM.h5')"
      ],
      "metadata": {
        "id": "s3zJ4dSl42hO"
      },
      "execution_count": null,
      "outputs": []
    },
    {
      "cell_type": "code",
      "source": [
        "#@title creating a function for predicting face\n",
        "def predict_image(image_path):\n",
        "    img = image.load_img(image_path, target_size=(224,224,3))\n",
        "    plt.imshow(img)\n",
        "    plt.show()\n",
        "    x = image.img_to_array(img)\n",
        "    x = np.expand_dims(x, axis=0)\n",
        "    images = np.vstack([x])\n",
        "    pred = model.predict(images, batch_size=32)\n",
        "    print(\"Actual: \"+(image_path.split(\"/\")[-1]).split(\"_\")[0])\n",
        "    print(\"Predicted: \"+classes[np.argmax(pred)])"
      ],
      "metadata": {
        "id": "7edogBev4dLt"
      },
      "execution_count": null,
      "outputs": []
    },
    {
      "cell_type": "code",
      "source": [
        "predict_image(\"/content/drive/MyDrive/FRS/Original Images/Original Images/Brad Pitt/Brad Pitt_70.jpg\")"
      ],
      "metadata": {
        "id": "arXH9qf98HRH"
      },
      "execution_count": null,
      "outputs": []
    },
    {
      "cell_type": "code",
      "source": [
        "predict_image(\"/content/Brand Pitt Test_1.webp\")"
      ],
      "metadata": {
        "id": "WEN7sMEX8aKk"
      },
      "execution_count": null,
      "outputs": []
    },
    {
      "cell_type": "code",
      "source": [
        "predict_image(\"/content/Brad Pitt test2.jpeg\")"
      ],
      "metadata": {
        "id": "YrCWzJS085Vt"
      },
      "execution_count": null,
      "outputs": []
    },
    {
      "cell_type": "code",
      "source": [
        "predict_image(\"/content/drive/MyDrive/FRS/Original Images/Original Images/Elizabeth Olsen/Elizabeth Olsen_9.jpg\")"
      ],
      "metadata": {
        "id": "NyPJKxvi9iIF"
      },
      "execution_count": null,
      "outputs": []
    },
    {
      "cell_type": "code",
      "source": [
        "predict_image(\"/content/Elizabeth Olsen t2.jpeg\")"
      ],
      "metadata": {
        "id": "0ALDp5QT93JC"
      },
      "execution_count": null,
      "outputs": []
    }
  ]
}