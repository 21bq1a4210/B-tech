{
  "nbformat": 4,
  "nbformat_minor": 0,
  "metadata": {
    "colab": {
      "private_outputs": true,
      "provenance": [],
      "toc_visible": true
    },
    "kernelspec": {
      "name": "python3",
      "display_name": "Python 3"
    },
    "language_info": {
      "name": "python"
    }
  },
  "cells": [
    {
      "cell_type": "markdown",
      "source": [
        "#HeartFailure through DecisionTree"
      ],
      "metadata": {
        "id": "-ZD8UTHsdSuj"
      }
    },
    {
      "cell_type": "code",
      "source": [
        "# Import necessary libraries\n",
        "from sklearn.model_selection import train_test_split, GridSearchCV\n",
        "from sklearn.tree import DecisionTreeClassifier, export_graphviz\n",
        "from sklearn.metrics import accuracy_score, classification_report, confusion_matrix\n",
        "import pandas as pd\n",
        "import os\n",
        "from graphviz import Source\n",
        "\n",
        "# Load the dataset\n",
        "data = pd.read_csv('/content/sample_data/heart.csv')\n",
        "\n",
        "# Split the data into features (X) and target variable (y)\n",
        "X = data.drop('HeartDisease', axis=1)\n",
        "y = data['HeartDisease']\n",
        "\n",
        "# Convert categorical variables to dummy/indicator variables\n",
        "X = pd.get_dummies(X, columns=['Sex', 'ChestPainType', 'FastingBS', 'RestingECG', 'ExerciseAngina', 'ST_Slope'])\n",
        "\n",
        "# Split the data into training and testing sets\n",
        "X_train, X_test, y_train, y_test = train_test_split(X, y, test_size=0.2, random_state=42)\n",
        "\n",
        "# Define the parameter grid to search\n",
        "param_grid = {\n",
        "    'max_depth': [None, 10, 20, 30, 40, 50],\n",
        "    'min_samples_split': [2, 5, 10, 20],  # Adjusted values\n",
        "    'min_samples_leaf': [1, 2, 4]\n",
        "}\n",
        "\n",
        "# Create a decision tree classifier\n",
        "base_clf = DecisionTreeClassifier(random_state=42)\n",
        "\n",
        "# Use GridSearchCV to search for the best hyperparameters\n",
        "grid_search = GridSearchCV(base_clf, param_grid, cv=5, scoring='accuracy')\n",
        "grid_search.fit(X_train, y_train)\n",
        "\n",
        "# Get the best hyperparameters\n",
        "best_params = grid_search.best_params_\n",
        "print(\"Best Hyperparameters:\", best_params)\n",
        "\n",
        "# Use the best model for predictions\n",
        "best_clf = grid_search.best_estimator_\n",
        "\n",
        "# Predict the response for the test dataset\n",
        "y_pred = best_clf.predict(X_test)\n",
        "\n",
        "# Evaluate the model\n",
        "accuracy = accuracy_score(y_test, y_pred)\n",
        "conf_matrix = confusion_matrix(y_test, y_pred)\n",
        "classification_rep = classification_report(y_test, y_pred)\n",
        "\n",
        "# Print the results\n",
        "print(f'Accuracy: {accuracy:.2f}')\n",
        "print('Confusion Matrix:')\n",
        "print(conf_matrix)\n",
        "print('Classification Report:')\n",
        "print(classification_rep)\n",
        "\n",
        "# Where to save the figures\n",
        "PROJECT_ROOT_DIR = \".\"\n",
        "def image_path(fig_id):\n",
        "    return os.path.join(PROJECT_ROOT_DIR, \"sample_data\", fig_id)\n",
        "\n",
        "# Export the decision tree to a dot file\n",
        "export_graphviz(\n",
        "    best_clf,\n",
        "    out_file=image_path(\"heart_failure_tree.dot\"),\n",
        "    feature_names=X.columns,\n",
        "    class_names=['Normal', 'Heart Disease'],\n",
        "    rounded=True,\n",
        "    filled=True\n",
        ")\n",
        "\n",
        "# Visualize the decision tree using graphviz\n",
        "Source.from_file(\"./sample_data/heart_failure_tree.dot\").view()"
      ],
      "metadata": {
        "id": "UUrROP3VWzRz"
      },
      "execution_count": null,
      "outputs": []
    },
    {
      "cell_type": "markdown",
      "source": [
        "#Testing:"
      ],
      "metadata": {
        "id": "_R7bWhiQd6In"
      }
    },
    {
      "cell_type": "markdown",
      "source": [
        "##Testing sample1"
      ],
      "metadata": {
        "id": "jCIec7erdpPA"
      }
    },
    {
      "cell_type": "code",
      "source": [
        "#Using above model- sample1(head)\n",
        "sample1 = pd.concat([X.head(), y.head()], axis=1)\n",
        "sample1['Prediction(HeartDisease)'] = clf.predict(X.head()).round(2)\n",
        "sample1['Error'] = sample1['HeartDisease'] - sample1['Prediction(HeartDisease)']\n",
        "print(sample1)\n",
        "print(np.mean(sample1['Error']))"
      ],
      "metadata": {
        "id": "J9bOcA09Kmrs"
      },
      "execution_count": null,
      "outputs": []
    },
    {
      "cell_type": "markdown",
      "source": [
        "##Testion sample2"
      ],
      "metadata": {
        "id": "pOwwKgXodwev"
      }
    },
    {
      "cell_type": "code",
      "source": [
        "#Using above model- sample2(tail)\n",
        "sample2 = pd.concat([X.tail(), y.tail()], axis=1)\n",
        "sample2['Prediction(HeartDisease)'] = clf.predict(X.tail()).round(2)\n",
        "sample2['Error'] = sample2['HeartDisease'] - sample2['Prediction(HeartDisease)']\n",
        "print(sample2)\n",
        "print(np.mean(sample2['Error']))"
      ],
      "metadata": {
        "id": "dtgbtU_4Q11W"
      },
      "execution_count": null,
      "outputs": []
    }
  ]
}